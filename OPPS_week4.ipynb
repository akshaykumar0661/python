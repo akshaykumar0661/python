{
  "cells": [
    {
      "cell_type": "markdown",
      "metadata": {
        "id": "5f5f44dc-7790-4d76-ba0d-81b27963d2d9"
      },
      "source": [
        "\"Oops\" stands for Object-Oriented Programming System"
      ],
      "id": "5f5f44dc-7790-4d76-ba0d-81b27963d2d9"
    },
    {
      "cell_type": "code",
      "source": [
        "#every thing in python is an object"
      ],
      "metadata": {
        "id": "ct_NS29EFlJh"
      },
      "id": "ct_NS29EFlJh",
      "execution_count": 1,
      "outputs": []
    },
    {
      "cell_type": "code",
      "source": [
        "len(\"sunil\")"
      ],
      "metadata": {
        "colab": {
          "base_uri": "https://localhost:8080/"
        },
        "id": "wORceapBFTVG",
        "outputId": "d18fea9e-e611-4634-bc43-0dba6228a8dd"
      },
      "id": "wORceapBFTVG",
      "execution_count": 2,
      "outputs": [
        {
          "output_type": "execute_result",
          "data": {
            "text/plain": [
              "5"
            ]
          },
          "metadata": {},
          "execution_count": 2
        }
      ]
    },
    {
      "cell_type": "code",
      "source": [
        "len([1,2,3,4])"
      ],
      "metadata": {
        "id": "99I6hRI25BLy",
        "colab": {
          "base_uri": "https://localhost:8080/"
        },
        "outputId": "f4fe1888-1b16-4279-ffc0-2d0f4dd5e701"
      },
      "id": "99I6hRI25BLy",
      "execution_count": 3,
      "outputs": [
        {
          "output_type": "execute_result",
          "data": {
            "text/plain": [
              "4"
            ]
          },
          "metadata": {},
          "execution_count": 3
        }
      ]
    },
    {
      "cell_type": "code",
      "source": [
        "a=[1,2,3]\n"
      ],
      "metadata": {
        "id": "Qdg1ZiYb5BPh"
      },
      "id": "Qdg1ZiYb5BPh",
      "execution_count": 4,
      "outputs": []
    },
    {
      "cell_type": "code",
      "source": [
        "a."
      ],
      "metadata": {
        "id": "eAFnp1qI5BT6",
        "colab": {
          "base_uri": "https://localhost:8080/",
          "height": 141
        },
        "outputId": "9491dd47-b936-4e9b-8bf5-3f74181f1b39"
      },
      "id": "eAFnp1qI5BT6",
      "execution_count": 5,
      "outputs": [
        {
          "output_type": "error",
          "ename": "SyntaxError",
          "evalue": "invalid syntax (<ipython-input-5-b4ce96ddcee0>, line 1)",
          "traceback": [
            "\u001b[0;36m  File \u001b[0;32m\"<ipython-input-5-b4ce96ddcee0>\"\u001b[0;36m, line \u001b[0;32m1\u001b[0m\n\u001b[0;31m    a.\u001b[0m\n\u001b[0m      ^\u001b[0m\n\u001b[0;31mSyntaxError\u001b[0m\u001b[0;31m:\u001b[0m invalid syntax\n"
          ]
        }
      ]
    },
    {
      "cell_type": "code",
      "source": [
        "a=3\n",
        "a.lower()"
      ],
      "metadata": {
        "colab": {
          "base_uri": "https://localhost:8080/",
          "height": 193
        },
        "id": "5pKnGlHvoQxj",
        "outputId": "e11da1d8-afda-40ca-cee3-f922d3794930"
      },
      "id": "5pKnGlHvoQxj",
      "execution_count": 7,
      "outputs": [
        {
          "output_type": "error",
          "ename": "AttributeError",
          "evalue": "'int' object has no attribute 'lower'",
          "traceback": [
            "\u001b[0;31m---------------------------------------------------------------------------\u001b[0m",
            "\u001b[0;31mAttributeError\u001b[0m                            Traceback (most recent call last)",
            "\u001b[0;32m<ipython-input-7-c329d0c5495e>\u001b[0m in \u001b[0;36m<cell line: 2>\u001b[0;34m()\u001b[0m\n\u001b[1;32m      1\u001b[0m \u001b[0ma\u001b[0m\u001b[0;34m=\u001b[0m\u001b[0;36m3\u001b[0m\u001b[0;34m\u001b[0m\u001b[0;34m\u001b[0m\u001b[0m\n\u001b[0;32m----> 2\u001b[0;31m \u001b[0ma\u001b[0m\u001b[0;34m.\u001b[0m\u001b[0mlower\u001b[0m\u001b[0;34m(\u001b[0m\u001b[0;34m)\u001b[0m\u001b[0;34m\u001b[0m\u001b[0;34m\u001b[0m\u001b[0m\n\u001b[0m",
            "\u001b[0;31mAttributeError\u001b[0m: 'int' object has no attribute 'lower'"
          ]
        }
      ]
    },
    {
      "cell_type": "code",
      "source": [
        "a=4\n",
        "a."
      ],
      "metadata": {
        "id": "ckflwNSHplF-",
        "colab": {
          "base_uri": "https://localhost:8080/",
          "height": 141
        },
        "outputId": "701b4d8d-0d9a-42d8-944f-0ebaff414919"
      },
      "id": "ckflwNSHplF-",
      "execution_count": 8,
      "outputs": [
        {
          "output_type": "error",
          "ename": "SyntaxError",
          "evalue": "invalid syntax (<ipython-input-8-26e4c38a5f08>, line 2)",
          "traceback": [
            "\u001b[0;36m  File \u001b[0;32m\"<ipython-input-8-26e4c38a5f08>\"\u001b[0;36m, line \u001b[0;32m2\u001b[0m\n\u001b[0;31m    a.\u001b[0m\n\u001b[0m      ^\u001b[0m\n\u001b[0;31mSyntaxError\u001b[0m\u001b[0;31m:\u001b[0m invalid syntax\n"
          ]
        }
      ]
    },
    {
      "cell_type": "code",
      "source": [
        "a=[1,2,3,4]\n",
        "a.lower()"
      ],
      "metadata": {
        "colab": {
          "base_uri": "https://localhost:8080/",
          "height": 193
        },
        "id": "2tE7HwdZoQ2e",
        "outputId": "0aada825-1e47-458f-c62d-69f2938c68aa"
      },
      "id": "2tE7HwdZoQ2e",
      "execution_count": 20,
      "outputs": [
        {
          "output_type": "error",
          "ename": "AttributeError",
          "evalue": "'list' object has no attribute 'lower'",
          "traceback": [
            "\u001b[0;31m---------------------------------------------------------------------------\u001b[0m",
            "\u001b[0;31mAttributeError\u001b[0m                            Traceback (most recent call last)",
            "\u001b[0;32m<ipython-input-20-8253bb23d843>\u001b[0m in \u001b[0;36m<cell line: 2>\u001b[0;34m()\u001b[0m\n\u001b[1;32m      1\u001b[0m \u001b[0ma\u001b[0m\u001b[0;34m=\u001b[0m\u001b[0;34m[\u001b[0m\u001b[0;36m1\u001b[0m\u001b[0;34m,\u001b[0m\u001b[0;36m2\u001b[0m\u001b[0;34m,\u001b[0m\u001b[0;36m3\u001b[0m\u001b[0;34m,\u001b[0m\u001b[0;36m4\u001b[0m\u001b[0;34m]\u001b[0m\u001b[0;34m\u001b[0m\u001b[0;34m\u001b[0m\u001b[0m\n\u001b[0;32m----> 2\u001b[0;31m \u001b[0ma\u001b[0m\u001b[0;34m.\u001b[0m\u001b[0mlower\u001b[0m\u001b[0;34m(\u001b[0m\u001b[0;34m)\u001b[0m\u001b[0;34m\u001b[0m\u001b[0;34m\u001b[0m\u001b[0m\n\u001b[0m",
            "\u001b[0;31mAttributeError\u001b[0m: 'list' object has no attribute 'lower'"
          ]
        }
      ]
    },
    {
      "cell_type": "code",
      "source": [
        "a=(1,2,3,4)\n",
        "a.lower()"
      ],
      "metadata": {
        "colab": {
          "base_uri": "https://localhost:8080/",
          "height": 193
        },
        "id": "Ek9fVToIoQ5_",
        "outputId": "8f5e2934-6a48-4b09-dc19-670a9941a505"
      },
      "id": "Ek9fVToIoQ5_",
      "execution_count": 21,
      "outputs": [
        {
          "output_type": "error",
          "ename": "AttributeError",
          "evalue": "'tuple' object has no attribute 'lower'",
          "traceback": [
            "\u001b[0;31m---------------------------------------------------------------------------\u001b[0m",
            "\u001b[0;31mAttributeError\u001b[0m                            Traceback (most recent call last)",
            "\u001b[0;32m<ipython-input-21-453e1977b6a1>\u001b[0m in \u001b[0;36m<cell line: 2>\u001b[0;34m()\u001b[0m\n\u001b[1;32m      1\u001b[0m \u001b[0ma\u001b[0m\u001b[0;34m=\u001b[0m\u001b[0;34m(\u001b[0m\u001b[0;36m1\u001b[0m\u001b[0;34m,\u001b[0m\u001b[0;36m2\u001b[0m\u001b[0;34m,\u001b[0m\u001b[0;36m3\u001b[0m\u001b[0;34m,\u001b[0m\u001b[0;36m4\u001b[0m\u001b[0;34m)\u001b[0m\u001b[0;34m\u001b[0m\u001b[0;34m\u001b[0m\u001b[0m\n\u001b[0;32m----> 2\u001b[0;31m \u001b[0ma\u001b[0m\u001b[0;34m.\u001b[0m\u001b[0mlower\u001b[0m\u001b[0;34m(\u001b[0m\u001b[0;34m)\u001b[0m\u001b[0;34m\u001b[0m\u001b[0;34m\u001b[0m\u001b[0m\n\u001b[0m",
            "\u001b[0;31mAttributeError\u001b[0m: 'tuple' object has no attribute 'lower'"
          ]
        }
      ]
    },
    {
      "cell_type": "code",
      "source": [
        "a=\"sunil\"\n",
        "a.append(\"a\")"
      ],
      "metadata": {
        "colab": {
          "base_uri": "https://localhost:8080/",
          "height": 193
        },
        "id": "FVhtTRqtoQ9B",
        "outputId": "50ca0019-da50-4442-d2a9-eab39a9a0de0"
      },
      "id": "FVhtTRqtoQ9B",
      "execution_count": 45,
      "outputs": [
        {
          "output_type": "error",
          "ename": "AttributeError",
          "evalue": "'str' object has no attribute 'append'",
          "traceback": [
            "\u001b[0;31m---------------------------------------------------------------------------\u001b[0m",
            "\u001b[0;31mAttributeError\u001b[0m                            Traceback (most recent call last)",
            "\u001b[0;32m<ipython-input-45-c92c196422e0>\u001b[0m in \u001b[0;36m<cell line: 2>\u001b[0;34m()\u001b[0m\n\u001b[1;32m      1\u001b[0m \u001b[0ma\u001b[0m\u001b[0;34m=\u001b[0m\u001b[0;34m\"sunil\"\u001b[0m\u001b[0;34m\u001b[0m\u001b[0;34m\u001b[0m\u001b[0m\n\u001b[0;32m----> 2\u001b[0;31m \u001b[0ma\u001b[0m\u001b[0;34m.\u001b[0m\u001b[0mappend\u001b[0m\u001b[0;34m(\u001b[0m\u001b[0;34m\"a\"\u001b[0m\u001b[0;34m)\u001b[0m\u001b[0;34m\u001b[0m\u001b[0;34m\u001b[0m\u001b[0m\n\u001b[0m",
            "\u001b[0;31mAttributeError\u001b[0m: 'str' object has no attribute 'append'"
          ]
        }
      ]
    },
    {
      "cell_type": "code",
      "source": [
        "a=5\n",
        "print(type(a))"
      ],
      "metadata": {
        "colab": {
          "base_uri": "https://localhost:8080/"
        },
        "id": "bQ4lgDkzoRBj",
        "outputId": "e1ae4dc4-8a29-486b-997f-e169f736a3f5"
      },
      "id": "bQ4lgDkzoRBj",
      "execution_count": 46,
      "outputs": [
        {
          "output_type": "stream",
          "name": "stdout",
          "text": [
            "<class 'int'>\n"
          ]
        }
      ]
    },
    {
      "cell_type": "code",
      "source": [],
      "metadata": {
        "id": "by-YpXViFlM3"
      },
      "id": "by-YpXViFlM3",
      "execution_count": 46,
      "outputs": []
    },
    {
      "cell_type": "code",
      "execution_count": 47,
      "metadata": {
        "id": "49ff14d3-8b20-49f5-808e-68a7a94b13ce"
      },
      "outputs": [],
      "source": [
        "a = 1"
      ],
      "id": "49ff14d3-8b20-49f5-808e-68a7a94b13ce"
    },
    {
      "cell_type": "code",
      "execution_count": 48,
      "metadata": {
        "id": "b4c9b3bb-6a88-49c7-9bd0-b012fc62a6fa",
        "outputId": "abeee7a4-b964-46d8-b05a-12929cc46656",
        "colab": {
          "base_uri": "https://localhost:8080/"
        }
      },
      "outputs": [
        {
          "output_type": "stream",
          "name": "stdout",
          "text": [
            "<class 'int'>\n"
          ]
        }
      ],
      "source": [
        "print(type(a))"
      ],
      "id": "b4c9b3bb-6a88-49c7-9bd0-b012fc62a6fa"
    },
    {
      "cell_type": "code",
      "source": [
        "d=[1,2,3]\n",
        "print(type(d))"
      ],
      "metadata": {
        "colab": {
          "base_uri": "https://localhost:8080/"
        },
        "id": "0-Ni13x3E21G",
        "outputId": "5582fc96-a74c-4ef1-a0a7-82a79e98c0d2"
      },
      "id": "0-Ni13x3E21G",
      "execution_count": 49,
      "outputs": [
        {
          "output_type": "stream",
          "name": "stdout",
          "text": [
            "<class 'list'>\n"
          ]
        }
      ]
    },
    {
      "cell_type": "code",
      "execution_count": 50,
      "metadata": {
        "colab": {
          "base_uri": "https://localhost:8080/"
        },
        "id": "4a57160b-1454-4574-b833-e4e58c5e2536",
        "outputId": "931ab73d-08fd-47b3-d66a-df2935ddb140"
      },
      "outputs": [
        {
          "output_type": "stream",
          "name": "stdout",
          "text": [
            "<class 'str'>\n"
          ]
        }
      ],
      "source": [
        "print(type(\"Sunil\"))"
      ],
      "id": "4a57160b-1454-4574-b833-e4e58c5e2536"
    },
    {
      "cell_type": "code",
      "source": [
        "if 5>4:\n",
        "  GFHFH\n"
      ],
      "metadata": {
        "colab": {
          "base_uri": "https://localhost:8080/",
          "height": 193
        },
        "id": "PJpHEQu7d3Ub",
        "outputId": "f63cc846-d07e-4061-802b-81a9e448b2a6"
      },
      "id": "PJpHEQu7d3Ub",
      "execution_count": 52,
      "outputs": [
        {
          "output_type": "error",
          "ename": "NameError",
          "evalue": "name 'GFHFH' is not defined",
          "traceback": [
            "\u001b[0;31m---------------------------------------------------------------------------\u001b[0m",
            "\u001b[0;31mNameError\u001b[0m                                 Traceback (most recent call last)",
            "\u001b[0;32m<ipython-input-52-3efc1aab3709>\u001b[0m in \u001b[0;36m<cell line: 1>\u001b[0;34m()\u001b[0m\n\u001b[1;32m      1\u001b[0m \u001b[0;32mif\u001b[0m \u001b[0;36m5\u001b[0m\u001b[0;34m>\u001b[0m\u001b[0;36m4\u001b[0m\u001b[0;34m:\u001b[0m\u001b[0;34m\u001b[0m\u001b[0;34m\u001b[0m\u001b[0m\n\u001b[0;32m----> 2\u001b[0;31m   \u001b[0mGFHFH\u001b[0m\u001b[0;34m\u001b[0m\u001b[0;34m\u001b[0m\u001b[0m\n\u001b[0m",
            "\u001b[0;31mNameError\u001b[0m: name 'GFHFH' is not defined"
          ]
        }
      ]
    },
    {
      "cell_type": "code",
      "source": [
        "class test:\n",
        "  RGFDG\n"
      ],
      "metadata": {
        "colab": {
          "base_uri": "https://localhost:8080/",
          "height": 263
        },
        "id": "Vmadw97oIbbw",
        "outputId": "ab0056c2-f126-44e3-b084-c79fdaa4f81c"
      },
      "id": "Vmadw97oIbbw",
      "execution_count": 53,
      "outputs": [
        {
          "output_type": "error",
          "ename": "NameError",
          "evalue": "name 'RGFDG' is not defined",
          "traceback": [
            "\u001b[0;31m---------------------------------------------------------------------------\u001b[0m",
            "\u001b[0;31mNameError\u001b[0m                                 Traceback (most recent call last)",
            "\u001b[0;32m<ipython-input-53-819da682a176>\u001b[0m in \u001b[0;36m<cell line: 1>\u001b[0;34m()\u001b[0m\n\u001b[0;32m----> 1\u001b[0;31m \u001b[0;32mclass\u001b[0m \u001b[0mtest\u001b[0m\u001b[0;34m:\u001b[0m\u001b[0;34m\u001b[0m\u001b[0;34m\u001b[0m\u001b[0m\n\u001b[0m\u001b[1;32m      2\u001b[0m   \u001b[0mRGFDG\u001b[0m\u001b[0;34m\u001b[0m\u001b[0;34m\u001b[0m\u001b[0m\n",
            "\u001b[0;32m<ipython-input-53-819da682a176>\u001b[0m in \u001b[0;36mtest\u001b[0;34m()\u001b[0m\n\u001b[1;32m      1\u001b[0m \u001b[0;32mclass\u001b[0m \u001b[0mtest\u001b[0m\u001b[0;34m:\u001b[0m\u001b[0;34m\u001b[0m\u001b[0;34m\u001b[0m\u001b[0m\n\u001b[0;32m----> 2\u001b[0;31m   \u001b[0mRGFDG\u001b[0m\u001b[0;34m\u001b[0m\u001b[0;34m\u001b[0m\u001b[0m\n\u001b[0m",
            "\u001b[0;31mNameError\u001b[0m: name 'RGFDG' is not defined"
          ]
        }
      ]
    },
    {
      "cell_type": "code",
      "execution_count": 54,
      "metadata": {
        "id": "d6cb2c14-823d-436b-85a2-1afa2266e1d1"
      },
      "outputs": [],
      "source": [
        "#blank class\n",
        "class test:\n",
        "  pass"
      ],
      "id": "d6cb2c14-823d-436b-85a2-1afa2266e1d1"
    },
    {
      "cell_type": "code",
      "source": [
        "class TCS:\n",
        "  pass"
      ],
      "metadata": {
        "id": "fYRxpfkOGs8J"
      },
      "id": "fYRxpfkOGs8J",
      "execution_count": 55,
      "outputs": []
    },
    {
      "cell_type": "code",
      "source": [
        "comapny=TCS()"
      ],
      "metadata": {
        "id": "48CSqkXyGs_t"
      },
      "id": "48CSqkXyGs_t",
      "execution_count": 56,
      "outputs": []
    },
    {
      "cell_type": "code",
      "source": [],
      "metadata": {
        "id": "1k8lqUa0GtDY"
      },
      "id": "1k8lqUa0GtDY",
      "execution_count": 56,
      "outputs": []
    },
    {
      "cell_type": "code",
      "execution_count": 57,
      "metadata": {
        "id": "fa923333-3e3e-48b3-b7e4-6efb819c3f58"
      },
      "outputs": [],
      "source": [
        "# OBJECT\n",
        "a = test()"
      ],
      "id": "fa923333-3e3e-48b3-b7e4-6efb819c3f58"
    },
    {
      "cell_type": "code",
      "execution_count": 58,
      "metadata": {
        "id": "f9719db9-e4c2-4e21-aa9d-9f4afbda8874",
        "outputId": "d5663e80-99f8-4411-a22c-0f197da69e51",
        "colab": {
          "base_uri": "https://localhost:8080/"
        }
      },
      "outputs": [
        {
          "output_type": "execute_result",
          "data": {
            "text/plain": [
              "__main__.test"
            ]
          },
          "metadata": {},
          "execution_count": 58
        }
      ],
      "source": [
        "type(a)"
      ],
      "id": "f9719db9-e4c2-4e21-aa9d-9f4afbda8874"
    },
    {
      "cell_type": "code",
      "execution_count": 59,
      "metadata": {
        "id": "44f474ba-e47a-437f-b7b5-4645e308d598",
        "outputId": "61bd219c-f263-4b37-c0c0-bd6aec008502",
        "colab": {
          "base_uri": "https://localhost:8080/"
        }
      },
      "outputs": [
        {
          "output_type": "stream",
          "name": "stdout",
          "text": [
            "<class '__main__.test'>\n"
          ]
        }
      ],
      "source": [
        "print(type(a))"
      ],
      "id": "44f474ba-e47a-437f-b7b5-4645e308d598"
    },
    {
      "cell_type": "code",
      "execution_count": 60,
      "metadata": {
        "id": "8ipDJTQ-54zb",
        "colab": {
          "base_uri": "https://localhost:8080/"
        },
        "outputId": "c6f309df-7532-4be9-f45b-60a9ac7ea13a"
      },
      "outputs": [
        {
          "output_type": "stream",
          "name": "stdout",
          "text": [
            "welcome to Comp \n",
            "welcome to Comp \n"
          ]
        }
      ],
      "source": [
        "class Comp :\n",
        "\n",
        "    def welcome_msg(self):\n",
        "        print(\"welcome to Comp \")\n",
        "aman=Comp()\n",
        "jasmine=Comp()\n",
        "aman.welcome_msg()\n",
        "jasmine.welcome_msg()\n"
      ],
      "id": "8ipDJTQ-54zb"
    },
    {
      "cell_type": "code",
      "execution_count": 61,
      "metadata": {
        "id": "zj-1AjUu6OJr"
      },
      "outputs": [],
      "source": [
        "rohan=Comp()\n"
      ],
      "id": "zj-1AjUu6OJr"
    },
    {
      "cell_type": "code",
      "execution_count": 62,
      "metadata": {
        "colab": {
          "base_uri": "https://localhost:8080/"
        },
        "id": "mLczu4cc6aeo",
        "outputId": "2aaf4ea5-f54f-452d-f872-84bc2782b1fa"
      },
      "outputs": [
        {
          "output_type": "stream",
          "name": "stdout",
          "text": [
            "welcome to Comp \n"
          ]
        }
      ],
      "source": [
        "rohan.welcome_msg()"
      ],
      "id": "mLczu4cc6aeo"
    },
    {
      "cell_type": "code",
      "source": [
        "class College:\n",
        "  def college_name(a):\n",
        "    print(\"Baba Farid Group of colleges\")\n",
        "akshay=College()\n",
        "akshay.college_name()"
      ],
      "metadata": {
        "colab": {
          "base_uri": "https://localhost:8080/"
        },
        "id": "_rMsi7-4frxE",
        "outputId": "530b8e79-2163-44e1-9e4c-23fa5cfd0832"
      },
      "id": "_rMsi7-4frxE",
      "execution_count": 63,
      "outputs": [
        {
          "output_type": "stream",
          "name": "stdout",
          "text": [
            "Baba Farid Group of colleges\n"
          ]
        }
      ]
    },
    {
      "cell_type": "code",
      "source": [
        "class College:\n",
        "  def college_name(a):\n",
        "    print(\"Baba Farid Group of colleges\")\n",
        "amit=College()\n",
        "amit.college_name()"
      ],
      "metadata": {
        "colab": {
          "base_uri": "https://localhost:8080/"
        },
        "id": "6b4HeVlAfr0a",
        "outputId": "7ce4473c-70ab-4009-c50c-4abb935256bb"
      },
      "id": "6b4HeVlAfr0a",
      "execution_count": 64,
      "outputs": [
        {
          "output_type": "stream",
          "name": "stdout",
          "text": [
            "Baba Farid Group of colleges\n"
          ]
        }
      ]
    },
    {
      "cell_type": "code",
      "source": [
        "def avgspeed():\n",
        "    pass"
      ],
      "metadata": {
        "id": "6kCTd3i443P-"
      },
      "id": "6kCTd3i443P-",
      "execution_count": 65,
      "outputs": []
    },
    {
      "cell_type": "code",
      "source": [
        "class Car:\n",
        "  color=\"Red\"\n",
        "  model=\"sport\"\n",
        "  def avgspeed(a):\n",
        "    pass\n",
        "alto=Car()"
      ],
      "metadata": {
        "id": "VZ1d1bhNfr3Q"
      },
      "id": "VZ1d1bhNfr3Q",
      "execution_count": 66,
      "outputs": []
    },
    {
      "cell_type": "code",
      "execution_count": 67,
      "metadata": {
        "colab": {
          "base_uri": "https://localhost:8080/"
        },
        "id": "yM-aL8dVcwYl",
        "outputId": "dc3ae578-3b0b-4fff-8de0-2aa88b803a83"
      },
      "outputs": [
        {
          "output_type": "stream",
          "name": "stdout",
          "text": [
            "welcome to Collab \n"
          ]
        }
      ],
      "source": [
        "class Collab :\n",
        "\n",
        "    def welcome_msg(a):\n",
        "        print(\"welcome to Collab \")\n",
        "anmol=Collab()\n",
        "anmol.welcome_msg()\n",
        "\n"
      ],
      "id": "yM-aL8dVcwYl"
    },
    {
      "cell_type": "code",
      "source": [
        "print(type(anmol))"
      ],
      "metadata": {
        "colab": {
          "base_uri": "https://localhost:8080/"
        },
        "id": "7AM_1S6ThlV4",
        "outputId": "78091709-95cf-4dd4-af06-ae06cf1a0650"
      },
      "id": "7AM_1S6ThlV4",
      "execution_count": 68,
      "outputs": [
        {
          "output_type": "stream",
          "name": "stdout",
          "text": [
            "<class '__main__.Collab'>\n"
          ]
        }
      ]
    },
    {
      "cell_type": "code",
      "source": [],
      "metadata": {
        "id": "fL4PepNShlZG"
      },
      "id": "fL4PepNShlZG",
      "execution_count": 68,
      "outputs": []
    },
    {
      "cell_type": "code",
      "source": [],
      "metadata": {
        "id": "szXJz0-lhlcF"
      },
      "id": "szXJz0-lhlcF",
      "execution_count": 68,
      "outputs": []
    },
    {
      "cell_type": "code",
      "source": [
        "dir(list)"
      ],
      "metadata": {
        "colab": {
          "base_uri": "https://localhost:8080/"
        },
        "id": "dmGmTplYNm0P",
        "outputId": "9cb68dd0-4397-49a4-f012-7c8510a1f617"
      },
      "id": "dmGmTplYNm0P",
      "execution_count": 69,
      "outputs": [
        {
          "output_type": "execute_result",
          "data": {
            "text/plain": [
              "['__add__',\n",
              " '__class__',\n",
              " '__class_getitem__',\n",
              " '__contains__',\n",
              " '__delattr__',\n",
              " '__delitem__',\n",
              " '__dir__',\n",
              " '__doc__',\n",
              " '__eq__',\n",
              " '__format__',\n",
              " '__ge__',\n",
              " '__getattribute__',\n",
              " '__getitem__',\n",
              " '__gt__',\n",
              " '__hash__',\n",
              " '__iadd__',\n",
              " '__imul__',\n",
              " '__init__',\n",
              " '__init_subclass__',\n",
              " '__iter__',\n",
              " '__le__',\n",
              " '__len__',\n",
              " '__lt__',\n",
              " '__mul__',\n",
              " '__ne__',\n",
              " '__new__',\n",
              " '__reduce__',\n",
              " '__reduce_ex__',\n",
              " '__repr__',\n",
              " '__reversed__',\n",
              " '__rmul__',\n",
              " '__setattr__',\n",
              " '__setitem__',\n",
              " '__sizeof__',\n",
              " '__str__',\n",
              " '__subclasshook__',\n",
              " 'append',\n",
              " 'clear',\n",
              " 'copy',\n",
              " 'count',\n",
              " 'extend',\n",
              " 'index',\n",
              " 'insert',\n",
              " 'pop',\n",
              " 'remove',\n",
              " 'reverse',\n",
              " 'sort']"
            ]
          },
          "metadata": {},
          "execution_count": 69
        }
      ]
    },
    {
      "cell_type": "code",
      "execution_count": 70,
      "metadata": {
        "colab": {
          "base_uri": "https://localhost:8080/"
        },
        "id": "2pymMwb-GAgL",
        "outputId": "cb02ccdd-f3d4-4c80-f994-1f0b63c4030b"
      },
      "outputs": [
        {
          "output_type": "stream",
          "name": "stdout",
          "text": [
            "Hello, World!\n"
          ]
        }
      ],
      "source": [
        "class MyClass:\n",
        "    def my_method(self):\n",
        "        print(\"Hello, World!\")\n",
        "\n",
        "# Creating an instance of the class\n",
        "obj = MyClass()\n",
        "\n",
        "# Calling the method of the class\n",
        "obj.my_method()"
      ],
      "id": "2pymMwb-GAgL"
    },
    {
      "cell_type": "code",
      "source": [
        "class MyClass:\n",
        "    def my_method(self,a,b,c):\n",
        "        print(\"Hello, World!\")\n",
        "        print(a+b+c)\n",
        "\n",
        "# Creating an instance of the class\n",
        "obj = MyClass(2,4,5)\n",
        "\n",
        "# Calling the method of the class\n",
        "obj.my_method()"
      ],
      "metadata": {
        "id": "HWzRqYftM2Lx",
        "colab": {
          "base_uri": "https://localhost:8080/",
          "height": 245
        },
        "outputId": "3584c78e-004c-48b3-990b-75187636396e"
      },
      "id": "HWzRqYftM2Lx",
      "execution_count": 71,
      "outputs": [
        {
          "output_type": "error",
          "ename": "TypeError",
          "evalue": "MyClass() takes no arguments",
          "traceback": [
            "\u001b[0;31m---------------------------------------------------------------------------\u001b[0m",
            "\u001b[0;31mTypeError\u001b[0m                                 Traceback (most recent call last)",
            "\u001b[0;32m<ipython-input-71-fb4f5de21662>\u001b[0m in \u001b[0;36m<cell line: 7>\u001b[0;34m()\u001b[0m\n\u001b[1;32m      5\u001b[0m \u001b[0;34m\u001b[0m\u001b[0m\n\u001b[1;32m      6\u001b[0m \u001b[0;31m# Creating an instance of the class\u001b[0m\u001b[0;34m\u001b[0m\u001b[0;34m\u001b[0m\u001b[0m\n\u001b[0;32m----> 7\u001b[0;31m \u001b[0mobj\u001b[0m \u001b[0;34m=\u001b[0m \u001b[0mMyClass\u001b[0m\u001b[0;34m(\u001b[0m\u001b[0;36m2\u001b[0m\u001b[0;34m,\u001b[0m\u001b[0;36m4\u001b[0m\u001b[0;34m,\u001b[0m\u001b[0;36m5\u001b[0m\u001b[0;34m)\u001b[0m\u001b[0;34m\u001b[0m\u001b[0;34m\u001b[0m\u001b[0m\n\u001b[0m\u001b[1;32m      8\u001b[0m \u001b[0;34m\u001b[0m\u001b[0m\n\u001b[1;32m      9\u001b[0m \u001b[0;31m# Calling the method of the class\u001b[0m\u001b[0;34m\u001b[0m\u001b[0;34m\u001b[0m\u001b[0m\n",
            "\u001b[0;31mTypeError\u001b[0m: MyClass() takes no arguments"
          ]
        }
      ]
    },
    {
      "cell_type": "markdown",
      "metadata": {
        "id": "Y9SYCwLK94Bp"
      },
      "source": [
        "__init__# constructor ,,It is a special method that is automatically called when an object is created from a class"
      ],
      "id": "Y9SYCwLK94Bp"
    },
    {
      "cell_type": "markdown",
      "metadata": {
        "id": "aBzkIAFA8fjp"
      },
      "source": [
        "**__init__ method allows you to pass more parameters to an object during its creation.\n",
        "\n",
        "When an object is instantiated (created) from a class, the __init__ method is automatically called.\n",
        "\n",
        "By defining the __init__ method, you encapsulate the initialization logic within the class itself\n",
        "**"
      ],
      "id": "aBzkIAFA8fjp"
    },
    {
      "cell_type": "code",
      "execution_count": 72,
      "metadata": {
        "colab": {
          "base_uri": "https://localhost:8080/"
        },
        "id": "YMQaEhsz-AsI",
        "outputId": "3041959d-00b9-49fa-bdbd-0d1ab69d1273"
      },
      "outputs": [
        {
          "output_type": "stream",
          "name": "stdout",
          "text": [
            "My name is Alice and I am 25 years old.\n"
          ]
        }
      ],
      "source": [
        "class Person:\n",
        "    def __init__(self, name, age):\n",
        "        self.name = name\n",
        "        self.age = age\n",
        "\n",
        "    def introduce(self):\n",
        "        print(f\"My name is {self.name} and I am {self.age} years old.\")\n",
        "\n",
        "\n",
        "# Creating an instance of the Person class\n",
        "person1 = Person(\"Alice\", 25)\n",
        "person1.introduce()\n"
      ],
      "id": "YMQaEhsz-AsI"
    },
    {
      "cell_type": "code",
      "execution_count": 73,
      "metadata": {
        "colab": {
          "base_uri": "https://localhost:8080/"
        },
        "id": "HDzYLxkr-AvP",
        "outputId": "a323f41b-903e-469a-a003-8e97b7ff2eef"
      },
      "outputs": [
        {
          "output_type": "stream",
          "name": "stdout",
          "text": [
            "Buddy says woof!\n"
          ]
        }
      ],
      "source": [
        "class Dog:\n",
        "    def __init__(self, name):\n",
        "        self.name = name\n",
        "\n",
        "    def bark(self):\n",
        "        print(f\"{self.name} says woof!\")\n",
        "\n",
        "\n",
        "# Creating an instance of the Dog class\n",
        "dog = Dog(\"Buddy\")\n",
        "dog.bark()\n"
      ],
      "id": "HDzYLxkr-AvP"
    },
    {
      "cell_type": "code",
      "execution_count": 74,
      "metadata": {
        "colab": {
          "base_uri": "https://localhost:8080/"
        },
        "id": "nXbMWxjk-Ayi",
        "outputId": "0657e6b0-657b-4185-9358-df666dcfb13a"
      },
      "outputs": [
        {
          "output_type": "stream",
          "name": "stdout",
          "text": [
            "The area of the rectangle is: 15\n"
          ]
        }
      ],
      "source": [
        "class Rectangle:\n",
        "    def __init__(self, width, height):\n",
        "        self.width = width\n",
        "        self.height = height\n",
        "\n",
        "    def calculate_area(self):\n",
        "        return self.width * self.height\n",
        "\n",
        "\n",
        "# Creating an instance of the Rectangle class\n",
        "rectangle = Rectangle(5, 3)\n",
        "area = rectangle.calculate_area()\n",
        "print(f\"The area of the rectangle is: {area}\")\n"
      ],
      "id": "nXbMWxjk-Ayi"
    },
    {
      "cell_type": "code",
      "execution_count": 75,
      "metadata": {
        "colab": {
          "base_uri": "https://localhost:8080/"
        },
        "id": "Fjccop7v-A1y",
        "outputId": "258f79f7-0fad-498c-9bb6-9f8b927138d5"
      },
      "outputs": [
        {
          "output_type": "stream",
          "name": "stdout",
          "text": [
            "The car is currently moving at 20 km/h.\n",
            "The car is currently moving at 10 km/h.\n"
          ]
        }
      ],
      "source": [
        "class Car:\n",
        "    def __init__(self, make, model, year):\n",
        "        self.make = make\n",
        "        self.model = model\n",
        "        self.year = year\n",
        "        self.speed = 0\n",
        "\n",
        "    def accelerate(self, increment):\n",
        "        self.speed += increment\n",
        "\n",
        "    def brake(self, decrement):\n",
        "        self.speed -= decrement\n",
        "\n",
        "    def display_speed(self):\n",
        "        print(f\"The car is currently moving at {self.speed} km/h.\")\n",
        "\n",
        "\n",
        "# Creating an instance of the Car class\n",
        "car = Car(\"Toyota\", \"Camry\", 2022)\n",
        "\n",
        "# Accelerating and displaying the speed\n",
        "car.accelerate(20)\n",
        "car.display_speed()\n",
        "\n",
        "# Applying brakes and displaying the speed\n",
        "car.brake(10)\n",
        "car.display_speed()\n"
      ],
      "id": "Fjccop7v-A1y"
    },
    {
      "cell_type": "code",
      "execution_count": 76,
      "metadata": {
        "id": "a0c803d4-25f0-4f19-ac38-434120f84497"
      },
      "outputs": [],
      "source": [
        "class SpaceWindow:\n",
        "\n",
        "\n",
        "    def __init__(self ,phone_number , email_id , student_id ):\n",
        "        self.phone_number = phone_number\n",
        "        self.email_id = email_id\n",
        "        self.student_id = student_id\n",
        "\n",
        "    def return_student_deetials(self) :\n",
        "        return self.student_id ,self.phone_number ,self.email_id\n"
      ],
      "id": "a0c803d4-25f0-4f19-ac38-434120f84497"
    },
    {
      "cell_type": "code",
      "execution_count": 77,
      "metadata": {
        "id": "afc21b01-a33b-464c-a2fc-becf84c14cd7",
        "colab": {
          "base_uri": "https://localhost:8080/"
        },
        "outputId": "5403275c-0a72-4de6-962a-074558c95613"
      },
      "outputs": [
        {
          "output_type": "execute_result",
          "data": {
            "text/plain": [
              "(101, 122232432342, 'rohan@gmail.com')"
            ]
          },
          "metadata": {},
          "execution_count": 77
        }
      ],
      "source": [
        "rohan = SpaceWindow(122232432342,\"rohan@gmail.com\",101)\n",
        "rohan.return_student_deetials()"
      ],
      "id": "afc21b01-a33b-464c-a2fc-becf84c14cd7"
    },
    {
      "cell_type": "code",
      "execution_count": 78,
      "metadata": {
        "id": "bsqrF8YkEsvR"
      },
      "outputs": [],
      "source": [
        "#how to access variable inside the class and outside the class\n",
        "#inside the class:self.variable_name\n",
        "#outside the Class:object.variable_name without self"
      ],
      "id": "bsqrF8YkEsvR"
    },
    {
      "cell_type": "code",
      "execution_count": 79,
      "metadata": {
        "colab": {
          "base_uri": "https://localhost:8080/"
        },
        "id": "bc3241e2-7bcf-4169-91d2-a1f98f846096",
        "outputId": "ba5061ae-4987-4e3e-d32f-9f63d6aea350"
      },
      "outputs": [
        {
          "output_type": "execute_result",
          "data": {
            "text/plain": [
              "122232432342"
            ]
          },
          "metadata": {},
          "execution_count": 79
        }
      ],
      "source": [
        "rohan.phone_number"
      ],
      "id": "bc3241e2-7bcf-4169-91d2-a1f98f846096"
    },
    {
      "cell_type": "code",
      "execution_count": 80,
      "metadata": {
        "colab": {
          "base_uri": "https://localhost:8080/",
          "height": 35
        },
        "id": "b6d01b96-e406-4496-b42d-9cb0452c6cf7",
        "outputId": "5fc59258-3c2f-4606-f009-585c1a7cb1b5"
      },
      "outputs": [
        {
          "output_type": "execute_result",
          "data": {
            "text/plain": [
              "'rohan@gmail.com'"
            ],
            "application/vnd.google.colaboratory.intrinsic+json": {
              "type": "string"
            }
          },
          "metadata": {},
          "execution_count": 80
        }
      ],
      "source": [
        "rohan.email_id"
      ],
      "id": "b6d01b96-e406-4496-b42d-9cb0452c6cf7"
    },
    {
      "cell_type": "code",
      "execution_count": 81,
      "metadata": {
        "colab": {
          "base_uri": "https://localhost:8080/"
        },
        "id": "9bd2123c-a261-4a4d-ae52-eb64573b53fa",
        "outputId": "b099eef0-39f7-49ca-d72c-1d25a1e41105"
      },
      "outputs": [
        {
          "output_type": "execute_result",
          "data": {
            "text/plain": [
              "(101, 122232432342, 'rohan@gmail.com')"
            ]
          },
          "metadata": {},
          "execution_count": 81
        }
      ],
      "source": [
        "rohan.return_student_deetials()"
      ],
      "id": "9bd2123c-a261-4a4d-ae52-eb64573b53fa"
    },
    {
      "cell_type": "code",
      "execution_count": 82,
      "metadata": {
        "id": "9128e91c-f9f3-43b1-b64e-9e3b177c6755"
      },
      "outputs": [],
      "source": [
        "gaurav = SpaceWindow(98797867678, \"gaurav@gmail.com\" , 102)"
      ],
      "id": "9128e91c-f9f3-43b1-b64e-9e3b177c6755"
    },
    {
      "cell_type": "code",
      "execution_count": 83,
      "metadata": {
        "colab": {
          "base_uri": "https://localhost:8080/"
        },
        "id": "8dc7ccfd-f72a-4898-95b0-2f4d9d19b8ee",
        "outputId": "43a70146-6ef9-4485-c4bd-4f12d26ed141"
      },
      "outputs": [
        {
          "output_type": "execute_result",
          "data": {
            "text/plain": [
              "(102, 98797867678, 'gaurav@gmail.com')"
            ]
          },
          "metadata": {},
          "execution_count": 83
        }
      ],
      "source": [
        "gaurav.return_student_deetials()"
      ],
      "id": "8dc7ccfd-f72a-4898-95b0-2f4d9d19b8ee"
    },
    {
      "cell_type": "code",
      "execution_count": 84,
      "metadata": {
        "id": "e09e7df0-922b-482a-a866-454539e9e70c"
      },
      "outputs": [],
      "source": [
        "class Space2 :\n",
        "\n",
        "    def __init__(self ,phone_number , email_id , student_id ):\n",
        "        self.phone_number1 = phone_number\n",
        "        self.email_id1 = email_id\n",
        "        self.student_id1 = student_id\n",
        "\n",
        "    def return_student_deetials(self) :\n",
        "        return self.student_id1 ,self.phone_number1 ,self.email_id1\n"
      ],
      "id": "e09e7df0-922b-482a-a866-454539e9e70c"
    },
    {
      "cell_type": "code",
      "execution_count": 85,
      "metadata": {
        "id": "358fb994-7d97-4807-9f28-3933b3979e2f"
      },
      "outputs": [],
      "source": [
        "sudh = Space2(999954355, \"sudh@gmail.com\" , 102)"
      ],
      "id": "358fb994-7d97-4807-9f28-3933b3979e2f"
    },
    {
      "cell_type": "code",
      "execution_count": 86,
      "metadata": {
        "colab": {
          "base_uri": "https://localhost:8080/"
        },
        "id": "265a8fd0-40b9-45d6-959d-7e0d1c7400eb",
        "outputId": "97d23e78-1c55-4926-89b2-47ce75b018d9"
      },
      "outputs": [
        {
          "output_type": "execute_result",
          "data": {
            "text/plain": [
              "(102, 999954355, 'sudh@gmail.com')"
            ]
          },
          "metadata": {},
          "execution_count": 86
        }
      ],
      "source": [
        "sudh.return_student_deetials()"
      ],
      "id": "265a8fd0-40b9-45d6-959d-7e0d1c7400eb"
    },
    {
      "cell_type": "code",
      "execution_count": 87,
      "metadata": {
        "colab": {
          "base_uri": "https://localhost:8080/"
        },
        "id": "10f5cd7a-837f-455f-b2cb-df4cf496da50",
        "outputId": "454c8401-b9c4-440d-e75f-4049aed5b780"
      },
      "outputs": [
        {
          "output_type": "execute_result",
          "data": {
            "text/plain": [
              "999954355"
            ]
          },
          "metadata": {},
          "execution_count": 87
        }
      ],
      "source": [
        "sudh.phone_number1"
      ],
      "id": "10f5cd7a-837f-455f-b2cb-df4cf496da50"
    },
    {
      "cell_type": "code",
      "execution_count": 88,
      "metadata": {
        "colab": {
          "base_uri": "https://localhost:8080/",
          "height": 35
        },
        "id": "e64431c0-7a55-48ba-9c4a-b9e12a52896a",
        "outputId": "4a795eec-9e97-4744-9ca0-5938b6603321"
      },
      "outputs": [
        {
          "output_type": "execute_result",
          "data": {
            "text/plain": [
              "'sudh@gmail.com'"
            ],
            "application/vnd.google.colaboratory.intrinsic+json": {
              "type": "string"
            }
          },
          "metadata": {},
          "execution_count": 88
        }
      ],
      "source": [
        "sudh.email_id1"
      ],
      "id": "e64431c0-7a55-48ba-9c4a-b9e12a52896a"
    },
    {
      "cell_type": "code",
      "execution_count": 89,
      "metadata": {
        "id": "9e471991-7b97-40aa-ada9-aaeeff51a1ed"
      },
      "outputs": [],
      "source": [
        "class pwskills2 :\n",
        "\n",
        "    def __init__(sudh ,phone_number , email_id , student_id ):\n",
        "        sudh.phone_number1 = phone_number\n",
        "        sudh.email_id1 = email_id\n",
        "        sudh.student_id1 = student_id\n",
        "\n",
        "    def return_student_deetials(sudh) :\n",
        "        return sudh.student_id1 ,sudh.phone_number1 ,sudh.email_id1\n"
      ],
      "id": "9e471991-7b97-40aa-ada9-aaeeff51a1ed"
    },
    {
      "cell_type": "code",
      "execution_count": 90,
      "metadata": {
        "id": "00e19e9e-4452-4ada-991d-e8e92dba7b44"
      },
      "outputs": [],
      "source": [
        "parthav = pwskills2(8360103913, \"parthav@gmail.com\" , 324)\n"
      ],
      "id": "00e19e9e-4452-4ada-991d-e8e92dba7b44"
    },
    {
      "cell_type": "code",
      "execution_count": 91,
      "metadata": {
        "colab": {
          "base_uri": "https://localhost:8080/"
        },
        "id": "02c3459f-306a-4fc2-92ba-58d0a6afcfe3",
        "outputId": "4555b7ad-2d1b-469c-d40a-ede208170d58"
      },
      "outputs": [
        {
          "output_type": "execute_result",
          "data": {
            "text/plain": [
              "(324, 8360103913, 'parthav@gmail.com')"
            ]
          },
          "metadata": {},
          "execution_count": 91
        }
      ],
      "source": [
        "parthav.return_student_deetials()"
      ],
      "id": "02c3459f-306a-4fc2-92ba-58d0a6afcfe3"
    },
    {
      "cell_type": "code",
      "source": [
        "parthav.phone_number1=6283336208"
      ],
      "metadata": {
        "id": "u-z5K5Ziqflv"
      },
      "id": "u-z5K5Ziqflv",
      "execution_count": 92,
      "outputs": []
    },
    {
      "cell_type": "code",
      "source": [
        "parthav.return_student_deetials()"
      ],
      "metadata": {
        "colab": {
          "base_uri": "https://localhost:8080/"
        },
        "id": "_7uPzxMOqfpY",
        "outputId": "8d5b21a5-c190-44f1-f0fa-fb2c1fb5295b"
      },
      "id": "_7uPzxMOqfpY",
      "execution_count": 93,
      "outputs": [
        {
          "output_type": "execute_result",
          "data": {
            "text/plain": [
              "(324, 6283336208, 'parthav@gmail.com')"
            ]
          },
          "metadata": {},
          "execution_count": 93
        }
      ]
    },
    {
      "cell_type": "code",
      "execution_count": 94,
      "metadata": {
        "colab": {
          "base_uri": "https://localhost:8080/"
        },
        "id": "f65f69cf-768d-4292-a635-5a0eec120c36",
        "outputId": "b09f1795-d4ab-4091-b426-7a6bc797eaa7"
      },
      "outputs": [
        {
          "output_type": "stream",
          "name": "stdout",
          "text": [
            "my name is John and my age is 36\n"
          ]
        }
      ],
      "source": [
        "class Person:\n",
        "  def __init__(self, name, age):\n",
        "    self.name1 = name\n",
        "    self.age1 = age\n",
        "\n",
        "  def myfunc(self):\n",
        "    print(\"my name is {} and my age is {}\".format(self.name1,self.age1))\n",
        "\n",
        "p1 = Person(\"John\", 36)\n",
        "p1.myfunc()"
      ],
      "id": "f65f69cf-768d-4292-a635-5a0eec120c36"
    },
    {
      "cell_type": "code",
      "execution_count": 95,
      "metadata": {
        "id": "MzicR4Z7rfnW"
      },
      "outputs": [],
      "source": [
        "p1.age1 = 40"
      ],
      "id": "MzicR4Z7rfnW"
    },
    {
      "cell_type": "code",
      "execution_count": 96,
      "metadata": {
        "colab": {
          "base_uri": "https://localhost:8080/"
        },
        "id": "inDq7ioHtqW9",
        "outputId": "f79e5405-776e-4942-8675-0a11b791dbaa"
      },
      "outputs": [
        {
          "output_type": "stream",
          "name": "stdout",
          "text": [
            "my name is John and my age is 40\n"
          ]
        }
      ],
      "source": [
        "p1.myfunc()"
      ],
      "id": "inDq7ioHtqW9"
    },
    {
      "cell_type": "code",
      "execution_count": 96,
      "metadata": {
        "id": "ImzIfufjttne"
      },
      "outputs": [],
      "source": [],
      "id": "ImzIfufjttne"
    },
    {
      "cell_type": "code",
      "execution_count": 97,
      "metadata": {
        "id": "XtGahnWquMZe"
      },
      "outputs": [],
      "source": [
        "class Space2 :\n",
        "\n",
        "    def __init__(self ,phone_number , email_id , student_id ):\n",
        "        self.phone_number1 = phone_number\n",
        "        self.email_id1 = email_id\n",
        "        self.student_id1 = student_id\n",
        "\n",
        "    def return_student_deetials(self) :\n",
        "        return self.student_id1 ,self.phone_number1 ,self.email_id1"
      ],
      "id": "XtGahnWquMZe"
    },
    {
      "cell_type": "code",
      "execution_count": 98,
      "metadata": {
        "id": "4tWXNkv7uMcW"
      },
      "outputs": [],
      "source": [
        "sunil = Space2(999954355, \"sudh@gmail.com\" , 102)"
      ],
      "id": "4tWXNkv7uMcW"
    },
    {
      "cell_type": "code",
      "execution_count": 99,
      "metadata": {
        "colab": {
          "base_uri": "https://localhost:8080/"
        },
        "id": "z7bo9YfUuMfm",
        "outputId": "7b18c90c-ada7-448e-cf91-13d9b6ca349d"
      },
      "outputs": [
        {
          "output_type": "execute_result",
          "data": {
            "text/plain": [
              "(102, 999954355, 'sudh@gmail.com')"
            ]
          },
          "metadata": {},
          "execution_count": 99
        }
      ],
      "source": [
        "sunil.return_student_deetials()\n"
      ],
      "id": "z7bo9YfUuMfm"
    },
    {
      "cell_type": "code",
      "execution_count": 100,
      "metadata": {
        "id": "GN1il1VCuW8R"
      },
      "outputs": [],
      "source": [
        "sunil.student_id=50"
      ],
      "id": "GN1il1VCuW8R"
    },
    {
      "cell_type": "code",
      "execution_count": 101,
      "metadata": {
        "colab": {
          "base_uri": "https://localhost:8080/"
        },
        "id": "dIBakmyougp8",
        "outputId": "76d1907b-fe6a-4914-a645-fb2ceda7e7a5"
      },
      "outputs": [
        {
          "output_type": "execute_result",
          "data": {
            "text/plain": [
              "(102, 999954355, 'sudh@gmail.com')"
            ]
          },
          "metadata": {},
          "execution_count": 101
        }
      ],
      "source": [
        "sunil.return_student_deetials()\n"
      ],
      "id": "dIBakmyougp8"
    },
    {
      "cell_type": "markdown",
      "metadata": {
        "id": "fFopJoreSBXL"
      },
      "source": [
        "**Polymorphism**"
      ],
      "id": "fFopJoreSBXL"
    },
    {
      "cell_type": "code",
      "execution_count": 102,
      "metadata": {
        "id": "j8UAlnljuoNY"
      },
      "outputs": [],
      "source": [
        "#polymorphism:greek_word\n",
        "#poly_mean:Many\n",
        "#Morphos mean:Forms\n",
        "# manyForms\n",
        "\n",
        "#different kind of behaviour at different- different situation"
      ],
      "id": "j8UAlnljuoNY"
    },
    {
      "cell_type": "code",
      "execution_count": 103,
      "metadata": {
        "id": "we2MCXu-SHrh"
      },
      "outputs": [],
      "source": [
        "#variable,object or method perform different behaviour according to situation it is called polymorphism."
      ],
      "id": "we2MCXu-SHrh"
    },
    {
      "cell_type": "code",
      "execution_count": 104,
      "metadata": {
        "id": "MuG3aNqESHxI"
      },
      "outputs": [],
      "source": [
        "#concept come in polymorphisam\n",
        "# duck typing\n",
        "# opertor overloading\n",
        "# method overloading\n",
        "# method overriding"
      ],
      "id": "MuG3aNqESHxI"
    },
    {
      "cell_type": "code",
      "execution_count": 105,
      "metadata": {
        "id": "RrtROt2YbVCT"
      },
      "outputs": [],
      "source": [
        "def test(a , b ):\n",
        "    return a+b"
      ],
      "id": "RrtROt2YbVCT"
    },
    {
      "cell_type": "code",
      "source": [],
      "metadata": {
        "id": "V86n8FdPbEAz"
      },
      "id": "V86n8FdPbEAz",
      "execution_count": 105,
      "outputs": []
    },
    {
      "cell_type": "code",
      "execution_count": 106,
      "metadata": {
        "id": "1tD0CbtHbVFb",
        "colab": {
          "base_uri": "https://localhost:8080/"
        },
        "outputId": "590a5d52-e732-4c6a-e37b-e599f0cd838d"
      },
      "outputs": [
        {
          "output_type": "execute_result",
          "data": {
            "text/plain": [
              "7"
            ]
          },
          "metadata": {},
          "execution_count": 106
        }
      ],
      "source": [
        "test(3,4)"
      ],
      "id": "1tD0CbtHbVFb"
    },
    {
      "cell_type": "code",
      "execution_count": 107,
      "metadata": {
        "colab": {
          "base_uri": "https://localhost:8080/",
          "height": 35
        },
        "id": "KRUyHA7IbVI-",
        "outputId": "13e68778-3fd7-4be4-f58b-c495035f8a5b"
      },
      "outputs": [
        {
          "output_type": "execute_result",
          "data": {
            "text/plain": [
              "'sudh kumar '"
            ],
            "application/vnd.google.colaboratory.intrinsic+json": {
              "type": "string"
            }
          },
          "metadata": {},
          "execution_count": 107
        }
      ],
      "source": [
        "test(\"sudh \" , \"kumar \" )"
      ],
      "id": "KRUyHA7IbVI-"
    },
    {
      "cell_type": "code",
      "execution_count": 108,
      "metadata": {
        "id": "dtDlM1EdbVL-",
        "colab": {
          "base_uri": "https://localhost:8080/"
        },
        "outputId": "19cfe39e-1902-4bd6-af6e-978665ff79e8"
      },
      "outputs": [
        {
          "output_type": "execute_result",
          "data": {
            "text/plain": [
              "[3, 4, 5, 6, 45, 767, 67]"
            ]
          },
          "metadata": {},
          "execution_count": 108
        }
      ],
      "source": [
        "test([3,4,5,6] , [45,767,67])"
      ],
      "id": "dtDlM1EdbVL-"
    },
    {
      "cell_type": "code",
      "execution_count": 109,
      "metadata": {
        "id": "HeMJAErbbVPt",
        "colab": {
          "base_uri": "https://localhost:8080/"
        },
        "outputId": "9908aded-521e-4bdd-8030-12a93f425cd2"
      },
      "outputs": [
        {
          "output_type": "stream",
          "name": "stdout",
          "text": [
            "this is my syllabus for data science masters \n",
            "this is  my subllabus for web dev\n"
          ]
        }
      ],
      "source": [
        "class data_science:\n",
        "\n",
        "    def syllabus(self) :\n",
        "        print(\"this is my syllabus for data science masters \")\n",
        "class web_dev:\n",
        "\n",
        "    def syllabus(self) :\n",
        "        print(\"this is  my subllabus for web dev\" )\n",
        "def class_parcer(class_obj):\n",
        "    for i in class_obj :\n",
        "        i.syllabus()\n",
        "data_science = data_science()\n",
        "web_dev = web_dev()\n",
        "class_obj1 = [data_science , web_dev]\n",
        "class_parcer(class_obj1)"
      ],
      "id": "HeMJAErbbVPt"
    },
    {
      "cell_type": "markdown",
      "metadata": {
        "id": "wPVlT-jcXfQG"
      },
      "source": [
        "**duck typing**"
      ],
      "id": "wPVlT-jcXfQG"
    },
    {
      "cell_type": "code",
      "execution_count": 109,
      "metadata": {
        "id": "s-4FTCo_SH0y"
      },
      "outputs": [],
      "source": [],
      "id": "s-4FTCo_SH0y"
    },
    {
      "cell_type": "markdown",
      "metadata": {
        "id": "Y766wrjCXj_F"
      },
      "source": [
        "**duck typing means that if something looks like a duck, walks like a duck, and quacks like a duck, then we can treat it as a duck.**"
      ],
      "id": "Y766wrjCXj_F"
    },
    {
      "cell_type": "code",
      "execution_count": 110,
      "metadata": {
        "id": "xeNm_B6kSH4K",
        "colab": {
          "base_uri": "https://localhost:8080/"
        },
        "outputId": "7fab2050-71dc-4f80-c635-98064e21b042"
      },
      "outputs": [
        {
          "output_type": "stream",
          "name": "stdout",
          "text": [
            "Quack!\n",
            "Beep boop! I'm a robot.\n"
          ]
        }
      ],
      "source": [
        "class Duck:\n",
        "    def quack(self):\n",
        "        print(\"Quack!\")\n",
        "\n",
        "class Robot:\n",
        "    def quack(self):\n",
        "        print(\"Beep boop! I'm a robot.\")\n",
        "\n",
        "def make_sound(creature):\n",
        "    creature.quack()\n",
        "\n",
        "# Creating instances of Duck and Robot\n",
        "duck = Duck()\n",
        "robot = Robot()\n",
        "\n",
        "# Both duck and robot can quack, so they can be passed to make_sound()\n",
        "make_sound(duck)\n",
        "make_sound(robot)\n"
      ],
      "id": "xeNm_B6kSH4K"
    },
    {
      "cell_type": "markdown",
      "metadata": {
        "id": "hLZoJaWgYntZ"
      },
      "source": [
        "**duck is an instance of the Duck class and robot is an instance of the Robot class, both objects can be passed to the make_sound() function because they have a quack() method**"
      ],
      "id": "hLZoJaWgYntZ"
    },
    {
      "cell_type": "markdown",
      "metadata": {
        "id": "cLEaqgQ-Yunj"
      },
      "source": [
        "**The function doesn't care about the specific type of the object; it only needs the object to have the quack() method. This is the essence of duck typing – focusing on the behavior of the object rather than its specific type.**"
      ],
      "id": "cLEaqgQ-Yunj"
    },
    {
      "cell_type": "code",
      "execution_count": 111,
      "metadata": {
        "colab": {
          "base_uri": "https://localhost:8080/"
        },
        "id": "cz1AK2M5SH7E",
        "outputId": "f05feade-3a4f-4d86-89ba-50133d8f05f1"
      },
      "outputs": [
        {
          "output_type": "stream",
          "name": "stdout",
          "text": [
            "Driving the car!\n",
            "Riding the bike!\n"
          ]
        }
      ],
      "source": [
        "class Car:\n",
        "    def drive(self):\n",
        "        print(\"Driving the car!\")\n",
        "\n",
        "class Bike:\n",
        "    def drive(self):\n",
        "        print(\"Riding the bike!\")\n",
        "\n",
        "class Scooter:\n",
        "    def ride(self):\n",
        "        print(\"Riding the scooter!\")\n",
        "\n",
        "def travel(vehicle):\n",
        "    vehicle.drive()\n",
        "\n",
        "\n",
        "# Creating instances of Car, Bike, and Scooter\n",
        "car = Car()\n",
        "bike = Bike()\n",
        "scooter = Scooter()\n",
        "\n",
        "# Both car and bike can drive, so they can be passed to the travel() function\n",
        "travel(car)  # Output: Driving the car!\n",
        "travel(bike)  # Output: Riding the bike!\n",
        "\n",
        "\n"
      ],
      "id": "cz1AK2M5SH7E"
    },
    {
      "cell_type": "code",
      "execution_count": 112,
      "metadata": {
        "colab": {
          "base_uri": "https://localhost:8080/",
          "height": 315
        },
        "id": "qVjAxcofSH98",
        "outputId": "a88b73d8-2784-4663-eb4b-7edbdd70a758"
      },
      "outputs": [
        {
          "output_type": "error",
          "ename": "AttributeError",
          "evalue": "'Scooter' object has no attribute 'drive'",
          "traceback": [
            "\u001b[0;31m---------------------------------------------------------------------------\u001b[0m",
            "\u001b[0;31mAttributeError\u001b[0m                            Traceback (most recent call last)",
            "\u001b[0;32m<ipython-input-112-3293e3c7541b>\u001b[0m in \u001b[0;36m<cell line: 2>\u001b[0;34m()\u001b[0m\n\u001b[1;32m      1\u001b[0m \u001b[0;31m# The scooter has a different method name, but we can still treat it as a vehicle\u001b[0m\u001b[0;34m\u001b[0m\u001b[0;34m\u001b[0m\u001b[0m\n\u001b[0;32m----> 2\u001b[0;31m \u001b[0mtravel\u001b[0m\u001b[0;34m(\u001b[0m\u001b[0mscooter\u001b[0m\u001b[0;34m)\u001b[0m\u001b[0;31m#: 'Scooter' object has no attribute 'drive'\u001b[0m\u001b[0;34m\u001b[0m\u001b[0;34m\u001b[0m\u001b[0m\n\u001b[0m",
            "\u001b[0;32m<ipython-input-111-f089ed33ba4f>\u001b[0m in \u001b[0;36mtravel\u001b[0;34m(vehicle)\u001b[0m\n\u001b[1;32m     12\u001b[0m \u001b[0;34m\u001b[0m\u001b[0m\n\u001b[1;32m     13\u001b[0m \u001b[0;32mdef\u001b[0m \u001b[0mtravel\u001b[0m\u001b[0;34m(\u001b[0m\u001b[0mvehicle\u001b[0m\u001b[0;34m)\u001b[0m\u001b[0;34m:\u001b[0m\u001b[0;34m\u001b[0m\u001b[0;34m\u001b[0m\u001b[0m\n\u001b[0;32m---> 14\u001b[0;31m     \u001b[0mvehicle\u001b[0m\u001b[0;34m.\u001b[0m\u001b[0mdrive\u001b[0m\u001b[0;34m(\u001b[0m\u001b[0;34m)\u001b[0m\u001b[0;34m\u001b[0m\u001b[0;34m\u001b[0m\u001b[0m\n\u001b[0m\u001b[1;32m     15\u001b[0m \u001b[0;34m\u001b[0m\u001b[0m\n\u001b[1;32m     16\u001b[0m \u001b[0;34m\u001b[0m\u001b[0m\n",
            "\u001b[0;31mAttributeError\u001b[0m: 'Scooter' object has no attribute 'drive'"
          ]
        }
      ],
      "source": [
        "# The scooter has a different method name, but we can still treat it as a vehicle\n",
        "travel(scooter)#: 'Scooter' object has no attribute 'drive'"
      ],
      "id": "qVjAxcofSH98"
    },
    {
      "cell_type": "markdown",
      "metadata": {
        "id": "ep26aZUFZ0-5"
      },
      "source": [
        "**This example demonstrates that duck typing is about focusing on the expected behavior rather than the specific type of an object. **"
      ],
      "id": "ep26aZUFZ0-5"
    },
    {
      "cell_type": "markdown",
      "metadata": {
        "id": "tZ0-dZMLZ-zQ"
      },
      "source": [
        "**In this example, we have three classes: Car, Bike, and Scooter. Both Car and Bike have a drive() method, while Scooter has a ride() method.\n",
        "\n",
        "The travel() function takes a vehicle object as an argument and calls its drive() method. It expects the object to have a drive() method, but it doesn't check for a specific type.\n",
        "\n",
        "We create instances of Car, Bike, and Scooter, and pass them to the travel() function. Both the car and bike objects have a drive() method, so they can be treated as vehicles and successfully drive. However, the scooter object doesn't have a drive() method, so when we try to treat it as a vehicle, it raises an AttributeError**"
      ],
      "id": "tZ0-dZMLZ-zQ"
    },
    {
      "cell_type": "code",
      "execution_count": 113,
      "metadata": {
        "colab": {
          "base_uri": "https://localhost:8080/"
        },
        "id": "4PvTZXzASIBC",
        "outputId": "6e317a1b-0712-47c9-e35a-e5e4d9f665ca"
      },
      "outputs": [
        {
          "output_type": "stream",
          "name": "stdout",
          "text": [
            "Area: 25\n",
            "Area: 24\n"
          ]
        }
      ],
      "source": [
        "class Square:\n",
        "    def __init__(self, side_length):\n",
        "        self.side_length = side_length\n",
        "\n",
        "    def area(self):\n",
        "        return self.side_length ** 2\n",
        "\n",
        "class Rectangle:\n",
        "    def __init__(self, length, width):\n",
        "        self.length = length\n",
        "        self.width = width\n",
        "\n",
        "    def area(self):\n",
        "        return self.length * self.width\n",
        "\n",
        "def print_area(shape):\n",
        "    print(\"Area:\", shape.area())\n",
        "\n",
        "# Creating instances of Square and Rectangle\n",
        "square = Square(5)\n",
        "rectangle = Rectangle(4, 6)\n",
        "\n",
        "# Both square and rectangle have an area() method, so they can be passed to print_area()\n",
        "print_area(square)\n",
        "print_area(rectangle)\n"
      ],
      "id": "4PvTZXzASIBC"
    },
    {
      "cell_type": "code",
      "source": [
        "\n",
        "class India():\n",
        "    def capital(self):\n",
        "        print(\"New Delhi is the capital of India.\")\n",
        "\n",
        "    def language(self):\n",
        "        print(\"Hindi is the most widely spoken language of India.\")\n",
        "\n",
        "    def type(self):\n",
        "        print(\"India is a developing country.\")\n",
        "\n",
        "class USA():\n",
        "    def capital(self):\n",
        "        print(\"Washington, D.C. is the capital of USA.\")\n",
        "\n",
        "    def language(self):\n",
        "        print(\"English is the primary language of USA.\")\n",
        "\n",
        "    def type(self):\n",
        "        print(\"USA is a developed country.\")\n",
        "\n",
        "obj_ind = India()\n",
        "obj_usa = USA()\n",
        "for country in (obj_ind, obj_usa):\n",
        "    country.capital()\n",
        "    country.language()\n",
        "    country.type()"
      ],
      "metadata": {
        "colab": {
          "base_uri": "https://localhost:8080/"
        },
        "id": "ck5C2ciHB_Om",
        "outputId": "a7b31802-0380-47f8-cb29-e6e2cb40a5f7"
      },
      "id": "ck5C2ciHB_Om",
      "execution_count": 114,
      "outputs": [
        {
          "output_type": "stream",
          "name": "stdout",
          "text": [
            "New Delhi is the capital of India.\n",
            "Hindi is the most widely spoken language of India.\n",
            "India is a developing country.\n",
            "Washington, D.C. is the capital of USA.\n",
            "English is the primary language of USA.\n",
            "USA is a developed country.\n"
          ]
        }
      ]
    },
    {
      "cell_type": "code",
      "source": [
        "class Bird:\n",
        "  def intro(self):\n",
        "    print(\"There are many types of birds.\")\n",
        "\n",
        "  def flight(self):\n",
        "    print(\"Most of the birds can fly but some cannot.\")\n",
        "\n",
        "class sparrow(Bird):\n",
        "  def flight(self):\n",
        "    print(\"Sparrows can fly.\")\n",
        "\n",
        "class ostrich(Bird):\n",
        "  def flight(self):\n",
        "    print(\"Ostriches cannot fly.\")\n",
        "\n",
        "\n",
        "obj_bird = Bird()\n",
        "obj_spr = sparrow()\n",
        "obj_ost = ostrich()\n",
        "\n",
        "obj_bird.intro()\n",
        "obj_bird.flight()\n",
        "\n",
        "obj_spr.intro()\n",
        "obj_spr.flight()\n",
        "\n",
        "obj_ost.intro()\n",
        "obj_ost.flight()"
      ],
      "metadata": {
        "colab": {
          "base_uri": "https://localhost:8080/"
        },
        "id": "UCAcc9vHCUeG",
        "outputId": "d0f2ebed-fae7-4cb3-8f37-e52f56fa32cd"
      },
      "id": "UCAcc9vHCUeG",
      "execution_count": 115,
      "outputs": [
        {
          "output_type": "stream",
          "name": "stdout",
          "text": [
            "There are many types of birds.\n",
            "Most of the birds can fly but some cannot.\n",
            "There are many types of birds.\n",
            "Sparrows can fly.\n",
            "There are many types of birds.\n",
            "Ostriches cannot fly.\n"
          ]
        }
      ]
    },
    {
      "cell_type": "code",
      "source": [
        "class India():\n",
        "    def capital(self):\n",
        "        print(\"New Delhi is the capital of India.\")\n",
        "\n",
        "    def language(self):\n",
        "        print(\"Hindi is the most widely spoken language of India.\")\n",
        "\n",
        "    def type(self):\n",
        "        print(\"India is a developing country.\")\n",
        "\n",
        "class USA():\n",
        "    def capital(self):\n",
        "        print(\"Washington, D.C. is the capital of USA.\")\n",
        "\n",
        "    def language(self):\n",
        "        print(\"English is the primary language of USA.\")\n",
        "\n",
        "    def type(self):\n",
        "        print(\"USA is a developed country.\")\n",
        "\n",
        "def func(obj):\n",
        "    obj.capital()\n",
        "    obj.language()\n",
        "    obj.type()\n",
        "\n",
        "obj_ind = India()\n",
        "obj_usa = USA()\n",
        "\n",
        "func(obj_ind)\n",
        "func(obj_usa)"
      ],
      "metadata": {
        "colab": {
          "base_uri": "https://localhost:8080/"
        },
        "id": "1I6ycRU4Cy7N",
        "outputId": "6d92c0be-d915-4fa2-c2fb-5100bfb80c90"
      },
      "id": "1I6ycRU4Cy7N",
      "execution_count": 116,
      "outputs": [
        {
          "output_type": "stream",
          "name": "stdout",
          "text": [
            "New Delhi is the capital of India.\n",
            "Hindi is the most widely spoken language of India.\n",
            "India is a developing country.\n",
            "Washington, D.C. is the capital of USA.\n",
            "English is the primary language of USA.\n",
            "USA is a developed country.\n"
          ]
        }
      ]
    },
    {
      "cell_type": "code",
      "source": [
        "import datetime\n",
        "\n",
        "x = datetime.datetime.now()\n",
        "print(x)"
      ],
      "metadata": {
        "colab": {
          "base_uri": "https://localhost:8080/"
        },
        "id": "5mi35k0jD-Ey",
        "outputId": "9e8a4418-0fe0-439c-e066-865df47b6680"
      },
      "id": "5mi35k0jD-Ey",
      "execution_count": 117,
      "outputs": [
        {
          "output_type": "stream",
          "name": "stdout",
          "text": [
            "2024-02-07 07:38:56.401951\n"
          ]
        }
      ]
    },
    {
      "cell_type": "code",
      "source": [
        "import datetime\n",
        "\n",
        "x = datetime.datetime.now()\n",
        "\n",
        "print(x.year)\n",
        "print(x.strftime(\"%A\"))"
      ],
      "metadata": {
        "id": "5EmRVTopEHVs",
        "outputId": "de0ba105-2743-4bd9-a637-db442e8681cb",
        "colab": {
          "base_uri": "https://localhost:8080/"
        }
      },
      "id": "5EmRVTopEHVs",
      "execution_count": 118,
      "outputs": [
        {
          "output_type": "stream",
          "name": "stdout",
          "text": [
            "2024\n",
            "Wednesday\n"
          ]
        }
      ]
    },
    {
      "cell_type": "markdown",
      "source": [
        "**method overloading**"
      ],
      "metadata": {
        "id": "ZNk0q0ofqYan"
      },
      "id": "ZNk0q0ofqYan"
    },
    {
      "cell_type": "code",
      "execution_count": 119,
      "metadata": {
        "id": "VxL6dDSWSIEK"
      },
      "outputs": [],
      "source": [
        "#when more than one method with the same name is defined in the same class is known as method overloadind"
      ],
      "id": "VxL6dDSWSIEK"
    },
    {
      "cell_type": "code",
      "source": [
        "#but the concept of method overloading in the python is not present,but we can achive"
      ],
      "metadata": {
        "id": "JuzBv_8xqXzY"
      },
      "id": "JuzBv_8xqXzY",
      "execution_count": 120,
      "outputs": []
    },
    {
      "cell_type": "code",
      "source": [
        "#if a method is written such that it can perform more than one task ,it is called method overloading"
      ],
      "metadata": {
        "id": "rK6eRkf1qX2t"
      },
      "id": "rK6eRkf1qX2t",
      "execution_count": 121,
      "outputs": []
    },
    {
      "cell_type": "code",
      "source": [
        "#other programming langauge run according passing paramenter\n",
        "class Myclass:\n",
        "  def sum(self,a):\n",
        "    print('1ST-METHOD',a)\n",
        "  def sum(self):\n",
        "    print(\"2ND-METHOD\")\n",
        "obj=Myclass()\n",
        "obj.sum(10)"
      ],
      "metadata": {
        "id": "Kn-DsUUts6JO",
        "colab": {
          "base_uri": "https://localhost:8080/",
          "height": 211
        },
        "outputId": "50a84865-b5a4-4a57-b474-e9da8cdcbe87"
      },
      "id": "Kn-DsUUts6JO",
      "execution_count": 122,
      "outputs": [
        {
          "output_type": "error",
          "ename": "TypeError",
          "evalue": "Myclass.sum() takes 1 positional argument but 2 were given",
          "traceback": [
            "\u001b[0;31m---------------------------------------------------------------------------\u001b[0m",
            "\u001b[0;31mTypeError\u001b[0m                                 Traceback (most recent call last)",
            "\u001b[0;32m<ipython-input-122-b9f7a9e11c1d>\u001b[0m in \u001b[0;36m<cell line: 8>\u001b[0;34m()\u001b[0m\n\u001b[1;32m      6\u001b[0m     \u001b[0mprint\u001b[0m\u001b[0;34m(\u001b[0m\u001b[0;34m\"2ND-METHOD\"\u001b[0m\u001b[0;34m)\u001b[0m\u001b[0;34m\u001b[0m\u001b[0;34m\u001b[0m\u001b[0m\n\u001b[1;32m      7\u001b[0m \u001b[0mobj\u001b[0m\u001b[0;34m=\u001b[0m\u001b[0mMyclass\u001b[0m\u001b[0;34m(\u001b[0m\u001b[0;34m)\u001b[0m\u001b[0;34m\u001b[0m\u001b[0;34m\u001b[0m\u001b[0m\n\u001b[0;32m----> 8\u001b[0;31m \u001b[0mobj\u001b[0m\u001b[0;34m.\u001b[0m\u001b[0msum\u001b[0m\u001b[0;34m(\u001b[0m\u001b[0;36m10\u001b[0m\u001b[0;34m)\u001b[0m\u001b[0;34m\u001b[0m\u001b[0;34m\u001b[0m\u001b[0m\n\u001b[0m",
            "\u001b[0;31mTypeError\u001b[0m: Myclass.sum() takes 1 positional argument but 2 were given"
          ]
        }
      ]
    },
    {
      "cell_type": "code",
      "source": [
        "class Myclass:\n",
        "  def sum(self,a):\n",
        "    print('1ST-METHOD',a)\n",
        "\n",
        "obj=Myclass()\n",
        "obj.sum(8)"
      ],
      "metadata": {
        "colab": {
          "base_uri": "https://localhost:8080/"
        },
        "id": "0ZWLisfeqX5j",
        "outputId": "cc0b34f7-4d2c-4dc5-dcc7-da14e963ac81"
      },
      "id": "0ZWLisfeqX5j",
      "execution_count": 123,
      "outputs": [
        {
          "output_type": "stream",
          "name": "stdout",
          "text": [
            "1ST-METHOD 8\n"
          ]
        }
      ]
    },
    {
      "cell_type": "code",
      "source": [
        "class Myclass:\n",
        "  def sum(self,a):\n",
        "    print('1ST-METHOD',a)\n",
        "  def sum(self):\n",
        "    print(\"2ND-METHOD\")\n",
        "obj=Myclass()\n",
        "obj.sum(19)"
      ],
      "metadata": {
        "colab": {
          "base_uri": "https://localhost:8080/",
          "height": 211
        },
        "id": "vXVojmMLdt-9",
        "outputId": "48890da4-5755-4874-ae63-e4924256d8b4"
      },
      "id": "vXVojmMLdt-9",
      "execution_count": 124,
      "outputs": [
        {
          "output_type": "error",
          "ename": "TypeError",
          "evalue": "Myclass.sum() takes 1 positional argument but 2 were given",
          "traceback": [
            "\u001b[0;31m---------------------------------------------------------------------------\u001b[0m",
            "\u001b[0;31mTypeError\u001b[0m                                 Traceback (most recent call last)",
            "\u001b[0;32m<ipython-input-124-b68dfc345876>\u001b[0m in \u001b[0;36m<cell line: 7>\u001b[0;34m()\u001b[0m\n\u001b[1;32m      5\u001b[0m     \u001b[0mprint\u001b[0m\u001b[0;34m(\u001b[0m\u001b[0;34m\"2ND-METHOD\"\u001b[0m\u001b[0;34m)\u001b[0m\u001b[0;34m\u001b[0m\u001b[0;34m\u001b[0m\u001b[0m\n\u001b[1;32m      6\u001b[0m \u001b[0mobj\u001b[0m\u001b[0;34m=\u001b[0m\u001b[0mMyclass\u001b[0m\u001b[0;34m(\u001b[0m\u001b[0;34m)\u001b[0m\u001b[0;34m\u001b[0m\u001b[0;34m\u001b[0m\u001b[0m\n\u001b[0;32m----> 7\u001b[0;31m \u001b[0mobj\u001b[0m\u001b[0;34m.\u001b[0m\u001b[0msum\u001b[0m\u001b[0;34m(\u001b[0m\u001b[0;36m19\u001b[0m\u001b[0;34m)\u001b[0m\u001b[0;34m\u001b[0m\u001b[0;34m\u001b[0m\u001b[0m\n\u001b[0m",
            "\u001b[0;31mTypeError\u001b[0m: Myclass.sum() takes 1 positional argument but 2 were given"
          ]
        }
      ]
    },
    {
      "cell_type": "code",
      "source": [
        "class Myclass:\n",
        "  def sum(self,a):\n",
        "    print('1ST-METHOD',a)\n",
        "  def sum(self):\n",
        "    print(\"2ND-METHOD\")\n",
        "obj=Myclass()\n",
        "obj.sum()\n",
        "obj.sum(10)"
      ],
      "metadata": {
        "colab": {
          "base_uri": "https://localhost:8080/",
          "height": 228
        },
        "id": "sbZrQpzwqX9O",
        "outputId": "b641f120-1472-41d4-dd8c-b28afb19a4b5"
      },
      "id": "sbZrQpzwqX9O",
      "execution_count": 125,
      "outputs": [
        {
          "output_type": "stream",
          "name": "stdout",
          "text": [
            "2ND-METHOD\n"
          ]
        },
        {
          "output_type": "error",
          "ename": "TypeError",
          "evalue": "Myclass.sum() takes 1 positional argument but 2 were given",
          "traceback": [
            "\u001b[0;31m---------------------------------------------------------------------------\u001b[0m",
            "\u001b[0;31mTypeError\u001b[0m                                 Traceback (most recent call last)",
            "\u001b[0;32m<ipython-input-125-5404c86a871b>\u001b[0m in \u001b[0;36m<cell line: 8>\u001b[0;34m()\u001b[0m\n\u001b[1;32m      6\u001b[0m \u001b[0mobj\u001b[0m\u001b[0;34m=\u001b[0m\u001b[0mMyclass\u001b[0m\u001b[0;34m(\u001b[0m\u001b[0;34m)\u001b[0m\u001b[0;34m\u001b[0m\u001b[0;34m\u001b[0m\u001b[0m\n\u001b[1;32m      7\u001b[0m \u001b[0mobj\u001b[0m\u001b[0;34m.\u001b[0m\u001b[0msum\u001b[0m\u001b[0;34m(\u001b[0m\u001b[0;34m)\u001b[0m\u001b[0;34m\u001b[0m\u001b[0;34m\u001b[0m\u001b[0m\n\u001b[0;32m----> 8\u001b[0;31m \u001b[0mobj\u001b[0m\u001b[0;34m.\u001b[0m\u001b[0msum\u001b[0m\u001b[0;34m(\u001b[0m\u001b[0;36m10\u001b[0m\u001b[0;34m)\u001b[0m\u001b[0;34m\u001b[0m\u001b[0;34m\u001b[0m\u001b[0m\n\u001b[0m",
            "\u001b[0;31mTypeError\u001b[0m: Myclass.sum() takes 1 positional argument but 2 were given"
          ]
        }
      ]
    },
    {
      "cell_type": "code",
      "source": [
        "#python overloading\n",
        "class Myclass:\n",
        "  def sum(self,a,b,c):\n",
        "    s=a+b+c\n",
        "    return s\n",
        "obj=Myclass()\n",
        "obj.sum(10,20,30)"
      ],
      "metadata": {
        "colab": {
          "base_uri": "https://localhost:8080/"
        },
        "id": "frD8FKWhs4GY",
        "outputId": "6103cde4-e4ca-427c-a12e-a615c9687dd7"
      },
      "id": "frD8FKWhs4GY",
      "execution_count": 126,
      "outputs": [
        {
          "output_type": "execute_result",
          "data": {
            "text/plain": [
              "60"
            ]
          },
          "metadata": {},
          "execution_count": 126
        }
      ]
    },
    {
      "cell_type": "code",
      "source": [
        "#python overloading\n",
        "class Myclass:\n",
        "  def sum(self,a,b,c):\n",
        "    s=a+b+c\n",
        "    return s\n",
        "obj=Myclass()\n",
        "obj.sum(10,20)"
      ],
      "metadata": {
        "colab": {
          "base_uri": "https://localhost:8080/",
          "height": 211
        },
        "id": "IzhPvXSetPon",
        "outputId": "5870d168-2ed2-4a6d-84a2-6e47fa4fbaf3"
      },
      "id": "IzhPvXSetPon",
      "execution_count": 127,
      "outputs": [
        {
          "output_type": "error",
          "ename": "TypeError",
          "evalue": "Myclass.sum() missing 1 required positional argument: 'c'",
          "traceback": [
            "\u001b[0;31m---------------------------------------------------------------------------\u001b[0m",
            "\u001b[0;31mTypeError\u001b[0m                                 Traceback (most recent call last)",
            "\u001b[0;32m<ipython-input-127-6000350d8cf3>\u001b[0m in \u001b[0;36m<cell line: 7>\u001b[0;34m()\u001b[0m\n\u001b[1;32m      5\u001b[0m     \u001b[0;32mreturn\u001b[0m \u001b[0ms\u001b[0m\u001b[0;34m\u001b[0m\u001b[0;34m\u001b[0m\u001b[0m\n\u001b[1;32m      6\u001b[0m \u001b[0mobj\u001b[0m\u001b[0;34m=\u001b[0m\u001b[0mMyclass\u001b[0m\u001b[0;34m(\u001b[0m\u001b[0;34m)\u001b[0m\u001b[0;34m\u001b[0m\u001b[0;34m\u001b[0m\u001b[0m\n\u001b[0;32m----> 7\u001b[0;31m \u001b[0mobj\u001b[0m\u001b[0;34m.\u001b[0m\u001b[0msum\u001b[0m\u001b[0;34m(\u001b[0m\u001b[0;36m10\u001b[0m\u001b[0;34m,\u001b[0m\u001b[0;36m20\u001b[0m\u001b[0;34m)\u001b[0m\u001b[0;34m\u001b[0m\u001b[0;34m\u001b[0m\u001b[0m\n\u001b[0m",
            "\u001b[0;31mTypeError\u001b[0m: Myclass.sum() missing 1 required positional argument: 'c'"
          ]
        }
      ]
    },
    {
      "cell_type": "code",
      "source": [
        "#python overloading\n",
        "class Myclass:\n",
        "  def sum(self,a,b,c):\n",
        "    s=a+b+c\n",
        "    return s\n",
        "obj=Myclass()\n",
        "obj.sum(10,)"
      ],
      "metadata": {
        "colab": {
          "base_uri": "https://localhost:8080/",
          "height": 211
        },
        "id": "qkYVMMwjtPrr",
        "outputId": "1ad0c61f-42c0-428f-8da0-e750b1344aea"
      },
      "id": "qkYVMMwjtPrr",
      "execution_count": 128,
      "outputs": [
        {
          "output_type": "error",
          "ename": "TypeError",
          "evalue": "Myclass.sum() missing 2 required positional arguments: 'b' and 'c'",
          "traceback": [
            "\u001b[0;31m---------------------------------------------------------------------------\u001b[0m",
            "\u001b[0;31mTypeError\u001b[0m                                 Traceback (most recent call last)",
            "\u001b[0;32m<ipython-input-128-456adb357a09>\u001b[0m in \u001b[0;36m<cell line: 7>\u001b[0;34m()\u001b[0m\n\u001b[1;32m      5\u001b[0m     \u001b[0;32mreturn\u001b[0m \u001b[0ms\u001b[0m\u001b[0;34m\u001b[0m\u001b[0;34m\u001b[0m\u001b[0m\n\u001b[1;32m      6\u001b[0m \u001b[0mobj\u001b[0m\u001b[0;34m=\u001b[0m\u001b[0mMyclass\u001b[0m\u001b[0;34m(\u001b[0m\u001b[0;34m)\u001b[0m\u001b[0;34m\u001b[0m\u001b[0;34m\u001b[0m\u001b[0m\n\u001b[0;32m----> 7\u001b[0;31m \u001b[0mobj\u001b[0m\u001b[0;34m.\u001b[0m\u001b[0msum\u001b[0m\u001b[0;34m(\u001b[0m\u001b[0;36m10\u001b[0m\u001b[0;34m,\u001b[0m\u001b[0;34m)\u001b[0m\u001b[0;34m\u001b[0m\u001b[0;34m\u001b[0m\u001b[0m\n\u001b[0m",
            "\u001b[0;31mTypeError\u001b[0m: Myclass.sum() missing 2 required positional arguments: 'b' and 'c'"
          ]
        }
      ]
    },
    {
      "cell_type": "code",
      "source": [
        "#python overloading\n",
        "class Myclass:\n",
        "  def sum(self,a=None,b=None,c=None):\n",
        "    s=a+b+c\n",
        "    return s\n",
        "obj=Myclass()\n",
        "obj.sum(10,20,30)"
      ],
      "metadata": {
        "colab": {
          "base_uri": "https://localhost:8080/"
        },
        "id": "yBMaYovLtPu5",
        "outputId": "fa0f5e74-4e44-49c4-8d9b-4ea955254bb8"
      },
      "id": "yBMaYovLtPu5",
      "execution_count": 129,
      "outputs": [
        {
          "output_type": "execute_result",
          "data": {
            "text/plain": [
              "60"
            ]
          },
          "metadata": {},
          "execution_count": 129
        }
      ]
    },
    {
      "cell_type": "code",
      "source": [
        "#python overloading\n",
        "class Myclass:\n",
        "  def sum(self,a=None,b=None,c=None):\n",
        "    s=a+b+c\n",
        "    return s\n",
        "obj=Myclass()\n",
        "obj.sum(10,20)"
      ],
      "metadata": {
        "colab": {
          "base_uri": "https://localhost:8080/",
          "height": 332
        },
        "id": "Hu8cZ0VVt_V9",
        "outputId": "6153c700-2891-443e-be46-468497d2b887"
      },
      "id": "Hu8cZ0VVt_V9",
      "execution_count": 130,
      "outputs": [
        {
          "output_type": "error",
          "ename": "TypeError",
          "evalue": "unsupported operand type(s) for +: 'int' and 'NoneType'",
          "traceback": [
            "\u001b[0;31m---------------------------------------------------------------------------\u001b[0m",
            "\u001b[0;31mTypeError\u001b[0m                                 Traceback (most recent call last)",
            "\u001b[0;32m<ipython-input-130-c1642947c2b0>\u001b[0m in \u001b[0;36m<cell line: 7>\u001b[0;34m()\u001b[0m\n\u001b[1;32m      5\u001b[0m     \u001b[0;32mreturn\u001b[0m \u001b[0ms\u001b[0m\u001b[0;34m\u001b[0m\u001b[0;34m\u001b[0m\u001b[0m\n\u001b[1;32m      6\u001b[0m \u001b[0mobj\u001b[0m\u001b[0;34m=\u001b[0m\u001b[0mMyclass\u001b[0m\u001b[0;34m(\u001b[0m\u001b[0;34m)\u001b[0m\u001b[0;34m\u001b[0m\u001b[0;34m\u001b[0m\u001b[0m\n\u001b[0;32m----> 7\u001b[0;31m \u001b[0mobj\u001b[0m\u001b[0;34m.\u001b[0m\u001b[0msum\u001b[0m\u001b[0;34m(\u001b[0m\u001b[0;36m10\u001b[0m\u001b[0;34m,\u001b[0m\u001b[0;36m20\u001b[0m\u001b[0;34m)\u001b[0m\u001b[0;34m\u001b[0m\u001b[0;34m\u001b[0m\u001b[0m\n\u001b[0m",
            "\u001b[0;32m<ipython-input-130-c1642947c2b0>\u001b[0m in \u001b[0;36msum\u001b[0;34m(self, a, b, c)\u001b[0m\n\u001b[1;32m      2\u001b[0m \u001b[0;32mclass\u001b[0m \u001b[0mMyclass\u001b[0m\u001b[0;34m:\u001b[0m\u001b[0;34m\u001b[0m\u001b[0;34m\u001b[0m\u001b[0m\n\u001b[1;32m      3\u001b[0m   \u001b[0;32mdef\u001b[0m \u001b[0msum\u001b[0m\u001b[0;34m(\u001b[0m\u001b[0mself\u001b[0m\u001b[0;34m,\u001b[0m\u001b[0ma\u001b[0m\u001b[0;34m=\u001b[0m\u001b[0;32mNone\u001b[0m\u001b[0;34m,\u001b[0m\u001b[0mb\u001b[0m\u001b[0;34m=\u001b[0m\u001b[0;32mNone\u001b[0m\u001b[0;34m,\u001b[0m\u001b[0mc\u001b[0m\u001b[0;34m=\u001b[0m\u001b[0;32mNone\u001b[0m\u001b[0;34m)\u001b[0m\u001b[0;34m:\u001b[0m\u001b[0;34m\u001b[0m\u001b[0;34m\u001b[0m\u001b[0m\n\u001b[0;32m----> 4\u001b[0;31m     \u001b[0ms\u001b[0m\u001b[0;34m=\u001b[0m\u001b[0ma\u001b[0m\u001b[0;34m+\u001b[0m\u001b[0mb\u001b[0m\u001b[0;34m+\u001b[0m\u001b[0mc\u001b[0m\u001b[0;34m\u001b[0m\u001b[0;34m\u001b[0m\u001b[0m\n\u001b[0m\u001b[1;32m      5\u001b[0m     \u001b[0;32mreturn\u001b[0m \u001b[0ms\u001b[0m\u001b[0;34m\u001b[0m\u001b[0;34m\u001b[0m\u001b[0m\n\u001b[1;32m      6\u001b[0m \u001b[0mobj\u001b[0m\u001b[0;34m=\u001b[0m\u001b[0mMyclass\u001b[0m\u001b[0;34m(\u001b[0m\u001b[0;34m)\u001b[0m\u001b[0;34m\u001b[0m\u001b[0;34m\u001b[0m\u001b[0m\n",
            "\u001b[0;31mTypeError\u001b[0m: unsupported operand type(s) for +: 'int' and 'NoneType'"
          ]
        }
      ]
    },
    {
      "cell_type": "code",
      "source": [
        "#python overloading\n",
        "class Myclass:\n",
        "  def sum(self,a=None,b=None,c=None):\n",
        "    print(a)\n",
        "    if a!=None and b!=None and c!=None:\n",
        "      s=a+b+c\n",
        "      return s\n",
        "    elif a!=None and b!=None:\n",
        "      s=a*b\n",
        "      return s\n",
        "    else:\n",
        "      return a\n",
        "\n",
        "obj=Myclass()\n",
        "obj.sum(10)"
      ],
      "metadata": {
        "id": "bGHvH1U6uRji",
        "colab": {
          "base_uri": "https://localhost:8080/"
        },
        "outputId": "5a7b1c12-5609-4a77-889c-6ff1f124e8d7"
      },
      "id": "bGHvH1U6uRji",
      "execution_count": 131,
      "outputs": [
        {
          "output_type": "stream",
          "name": "stdout",
          "text": [
            "10\n"
          ]
        },
        {
          "output_type": "execute_result",
          "data": {
            "text/plain": [
              "10"
            ]
          },
          "metadata": {},
          "execution_count": 131
        }
      ]
    },
    {
      "cell_type": "code",
      "source": [
        "#python overloading\n",
        "class Myclass:\n",
        "  def sum(self,a=None,b=None,c=None):\n",
        "    if a!=None and b!=None and c!=None:\n",
        "      s=a+b+c\n",
        "      return s\n",
        "    elif a!=None and b!=None:\n",
        "      s=a*b\n",
        "      return s\n",
        "    else:\n",
        "      return a\n",
        "\n",
        "obj=Myclass()\n",
        "obj.sum(10,20,30)"
      ],
      "metadata": {
        "colab": {
          "base_uri": "https://localhost:8080/"
        },
        "id": "_xjPm3xPxrOo",
        "outputId": "74754b36-c00a-4813-a5ca-6733dd820998"
      },
      "id": "_xjPm3xPxrOo",
      "execution_count": 132,
      "outputs": [
        {
          "output_type": "execute_result",
          "data": {
            "text/plain": [
              "60"
            ]
          },
          "metadata": {},
          "execution_count": 132
        }
      ]
    },
    {
      "cell_type": "code",
      "source": [
        "#python overloading\n",
        "class Myclass:\n",
        "  def sum(self,a=None,b=None,c=None):\n",
        "    if a!=None and b!=None and c!=None:\n",
        "      s=a+b+c\n",
        "      return s\n",
        "    elif a!=None and b!=None:\n",
        "      s=a*b\n",
        "      return s\n",
        "    else:\n",
        "      return a\n",
        "\n",
        "obj=Myclass()\n",
        "obj.sum(10)"
      ],
      "metadata": {
        "colab": {
          "base_uri": "https://localhost:8080/"
        },
        "id": "qnNkuFBFx1fG",
        "outputId": "83f77f69-82d0-4f0b-bd3d-a88ab1b08e3b"
      },
      "id": "qnNkuFBFx1fG",
      "execution_count": 133,
      "outputs": [
        {
          "output_type": "execute_result",
          "data": {
            "text/plain": [
              "10"
            ]
          },
          "metadata": {},
          "execution_count": 133
        }
      ]
    },
    {
      "cell_type": "code",
      "source": [
        "class MyClass:\n",
        "    def my_method(self, *args):\n",
        "        print(\"hi\",args)\n",
        "        print(len(args))\n",
        "        if len(args) == 1:\n",
        "            # Handle the case when only one argument is provided\n",
        "            print(args[0])\n",
        "        else:\n",
        "            # Handle the case when multiple arguments are provided\n",
        "            for i in args:\n",
        "                print(i)\n",
        "\n",
        "my_object = MyClass()\n",
        "my_object.my_method(\"Hello\",)  # Prints: Hello\n",
        "my_object.my_method(\"Hello\", \"World\")  # Prints: Hello World\n",
        "my_object.my_method(\"A\")\n",
        "my_object.my_method(\"AB\")"
      ],
      "metadata": {
        "colab": {
          "base_uri": "https://localhost:8080/"
        },
        "id": "q8xkj4JxyCdW",
        "outputId": "aed4f8d0-551b-44cc-d16e-80fb85fec00e"
      },
      "id": "q8xkj4JxyCdW",
      "execution_count": 134,
      "outputs": [
        {
          "output_type": "stream",
          "name": "stdout",
          "text": [
            "hi ('Hello',)\n",
            "1\n",
            "Hello\n",
            "hi ('Hello', 'World')\n",
            "2\n",
            "Hello\n",
            "World\n",
            "hi ('A',)\n",
            "1\n",
            "A\n",
            "hi ('AB',)\n",
            "1\n",
            "AB\n"
          ]
        }
      ]
    },
    {
      "cell_type": "code",
      "source": [
        "args=(\"Hr\",)\n",
        "len(args)"
      ],
      "metadata": {
        "colab": {
          "base_uri": "https://localhost:8080/"
        },
        "id": "j2yxRre_hmVE",
        "outputId": "bbf09e96-7db7-4a27-c498-19e6e65de6bd"
      },
      "id": "j2yxRre_hmVE",
      "execution_count": 135,
      "outputs": [
        {
          "output_type": "execute_result",
          "data": {
            "text/plain": [
              "1"
            ]
          },
          "metadata": {},
          "execution_count": 135
        }
      ]
    },
    {
      "cell_type": "code",
      "source": [
        "args[1]"
      ],
      "metadata": {
        "colab": {
          "base_uri": "https://localhost:8080/",
          "height": 176
        },
        "id": "mriRq0Sxhv84",
        "outputId": "c3d104c6-3c9e-4e03-95da-dec26873f2b9"
      },
      "id": "mriRq0Sxhv84",
      "execution_count": 136,
      "outputs": [
        {
          "output_type": "error",
          "ename": "IndexError",
          "evalue": "tuple index out of range",
          "traceback": [
            "\u001b[0;31m---------------------------------------------------------------------------\u001b[0m",
            "\u001b[0;31mIndexError\u001b[0m                                Traceback (most recent call last)",
            "\u001b[0;32m<ipython-input-136-4980816dbb48>\u001b[0m in \u001b[0;36m<cell line: 1>\u001b[0;34m()\u001b[0m\n\u001b[0;32m----> 1\u001b[0;31m \u001b[0margs\u001b[0m\u001b[0;34m[\u001b[0m\u001b[0;36m1\u001b[0m\u001b[0;34m]\u001b[0m\u001b[0;34m\u001b[0m\u001b[0;34m\u001b[0m\u001b[0m\n\u001b[0m",
            "\u001b[0;31mIndexError\u001b[0m: tuple index out of range"
          ]
        }
      ]
    },
    {
      "cell_type": "code",
      "source": [
        "len(args)==1"
      ],
      "metadata": {
        "id": "8UkCzhnWh5US"
      },
      "id": "8UkCzhnWh5US",
      "execution_count": null,
      "outputs": []
    },
    {
      "cell_type": "code",
      "source": [
        "# Check if an object is an instance of a specific class\n",
        "x = 5\n",
        "print(isinstance(x, int))  # True\n",
        "print(isinstance(x, str))  # False"
      ],
      "metadata": {
        "colab": {
          "base_uri": "https://localhost:8080/"
        },
        "id": "xGIGWjZ2y2Qp",
        "outputId": "0cf035b4-68cf-48c4-c058-bcd8ec04b7ff"
      },
      "id": "xGIGWjZ2y2Qp",
      "execution_count": 137,
      "outputs": [
        {
          "output_type": "stream",
          "name": "stdout",
          "text": [
            "True\n",
            "False\n"
          ]
        }
      ]
    },
    {
      "cell_type": "code",
      "source": [
        "class MyClass:\n",
        "    def my_method(self, data):\n",
        "        if isinstance(data, list):\n",
        "            # Handle the case when data is a list\n",
        "            for item in data:\n",
        "                print(item)\n",
        "        elif isinstance(data, str):\n",
        "            # Handle the case when data is a string\n",
        "            print(data)\n",
        "        else:\n",
        "            print(\"Invalid data type\")\n",
        "\n",
        "my_object = MyClass()\n",
        "my_object.my_method([1, 2, 3])  # Prints each item on a new line\n",
        "my_object.my_method(\"Hello, World!\")  # Prints: Hello, World!\n"
      ],
      "metadata": {
        "colab": {
          "base_uri": "https://localhost:8080/"
        },
        "id": "Wsg-OTpByVHL",
        "outputId": "e42639ed-6227-41f2-e3d8-03dac6bdffdd"
      },
      "id": "Wsg-OTpByVHL",
      "execution_count": 138,
      "outputs": [
        {
          "output_type": "stream",
          "name": "stdout",
          "text": [
            "1\n",
            "2\n",
            "3\n",
            "Hello, World!\n"
          ]
        }
      ]
    },
    {
      "cell_type": "code",
      "source": [
        "class MyClass:\n",
        "    def my_method(self, data):\n",
        "        if isinstance(data, list):\n",
        "            # Handle the case when data is a list\n",
        "            for item in data:\n",
        "                print(item)\n",
        "        elif isinstance(data, str):\n",
        "            # Handle the case when data is a string\n",
        "            print(data)\n",
        "        else:\n",
        "            print(\"Invalid data type\")\n",
        "\n",
        "my_object = MyClass()\n",
        "my_object.my_method([1, 2, 3])  # Prints each item on a new line\n",
        "my_object.my_method(\"Hello, World!\")\n",
        "my_object.my_method(3)  # Prints: Hello, World!\n"
      ],
      "metadata": {
        "id": "OBMSF73Iygff",
        "colab": {
          "base_uri": "https://localhost:8080/"
        },
        "outputId": "da25e02f-c7ca-4815-b754-19c8a0498f0b"
      },
      "id": "OBMSF73Iygff",
      "execution_count": 139,
      "outputs": [
        {
          "output_type": "stream",
          "name": "stdout",
          "text": [
            "1\n",
            "2\n",
            "3\n",
            "Hello, World!\n",
            "Invalid data type\n"
          ]
        }
      ]
    },
    {
      "cell_type": "markdown",
      "source": [
        "**method_overriding**"
      ],
      "metadata": {
        "id": "TAjzQJRPbbQA"
      },
      "id": "TAjzQJRPbbQA"
    },
    {
      "cell_type": "code",
      "source": [
        "#we write same method in the both classes,parent class and child class then the parent class's method is not avilable to the child class\n",
        "#child class method replacing the parents class method\n",
        "# used when programmer want to modify the existing behavior of a methof"
      ],
      "metadata": {
        "id": "b2eMOAidzDN4"
      },
      "id": "b2eMOAidzDN4",
      "execution_count": 140,
      "outputs": []
    },
    {
      "cell_type": "code",
      "source": [
        "class add:\n",
        "  def result(self,a,b):\n",
        "    print(\"addition\",a+b)\n",
        "class multi(add):\n",
        "  def result(self,a,b):\n",
        "    print(\"multiplication:\",a*b)\n",
        "m=multi()\n",
        "m.result(10,20)"
      ],
      "metadata": {
        "id": "mE8DhyYgzDRP",
        "colab": {
          "base_uri": "https://localhost:8080/"
        },
        "outputId": "89d37980-14cd-474d-8036-3a2beacd91f8"
      },
      "id": "mE8DhyYgzDRP",
      "execution_count": 141,
      "outputs": [
        {
          "output_type": "stream",
          "name": "stdout",
          "text": [
            "multiplication: 200\n"
          ]
        }
      ]
    },
    {
      "cell_type": "code",
      "source": [
        "class add:\n",
        "  def result(self,a,b):\n",
        "    print(\"addition\",a+b)\n",
        "class multi(add):\n",
        "  def result(self,a,b):\n",
        "    print(\"multiplication:\",a*b)\n",
        "m=add()\n",
        "m.result(10,20)"
      ],
      "metadata": {
        "id": "YSevl9tJzDUX",
        "colab": {
          "base_uri": "https://localhost:8080/"
        },
        "outputId": "52d7e677-5889-4619-a638-964b829d4d23"
      },
      "id": "YSevl9tJzDUX",
      "execution_count": 142,
      "outputs": [
        {
          "output_type": "stream",
          "name": "stdout",
          "text": [
            "addition 30\n"
          ]
        }
      ]
    },
    {
      "cell_type": "code",
      "source": [
        "class add:\n",
        "  def result(self,a,b):\n",
        "    print(\"addition\",a+b)\n",
        "class multi(add):\n",
        "  pass\n",
        "\n",
        "m=multi()\n",
        "m.result(10,20)"
      ],
      "metadata": {
        "colab": {
          "base_uri": "https://localhost:8080/"
        },
        "id": "JRqxp101dCo6",
        "outputId": "6819a09c-bb12-4606-be9c-615a41b985a7"
      },
      "id": "JRqxp101dCo6",
      "execution_count": 143,
      "outputs": [
        {
          "output_type": "stream",
          "name": "stdout",
          "text": [
            "addition 30\n"
          ]
        }
      ]
    },
    {
      "cell_type": "code",
      "source": [
        "#super()"
      ],
      "metadata": {
        "id": "zTPSWTwng0q_"
      },
      "id": "zTPSWTwng0q_",
      "execution_count": 144,
      "outputs": []
    },
    {
      "cell_type": "code",
      "source": [
        "#same method in both classes,parent and child class then the parent class's method is not avliable to the child class\n",
        "#only child class method is accessiable which means child class's  methodnis replacing parents class's method\n",
        "#super()\n",
        "#use when to parent class's method from the child class"
      ],
      "metadata": {
        "id": "RIWf6Q4Pg0v2"
      },
      "id": "RIWf6Q4Pg0v2",
      "execution_count": 145,
      "outputs": []
    },
    {
      "cell_type": "code",
      "source": [
        "class add:\n",
        "  def result(self,x,y):\n",
        "    print(\"addition\",x+y)\n",
        "class multi(add):\n",
        "  def result(self,a,b):\n",
        "    super().result(3,4)#calling parent class's method\n",
        "    print(\"multiplication:\",a*b)\n",
        "m=multi()\n",
        "m.result(10,20)"
      ],
      "metadata": {
        "colab": {
          "base_uri": "https://localhost:8080/"
        },
        "id": "OT169Qd-dCsU",
        "outputId": "e4552fe7-7165-4c2c-bd8c-85b58dacb43f"
      },
      "id": "OT169Qd-dCsU",
      "execution_count": 146,
      "outputs": [
        {
          "output_type": "stream",
          "name": "stdout",
          "text": [
            "addition 7\n",
            "multiplication: 200\n"
          ]
        }
      ]
    },
    {
      "cell_type": "markdown",
      "source": [
        "**Operator_overloading**"
      ],
      "metadata": {
        "id": "OrG72vKKiSKQ"
      },
      "id": "OrG72vKKiSKQ"
    },
    {
      "cell_type": "code",
      "source": [
        "# Operator overloading is a feature in Python that allows you to define how operators such as +, -, *, /, and others work for objects of your own custom classes."
      ],
      "metadata": {
        "id": "DfaTmJTJnWbF"
      },
      "id": "DfaTmJTJnWbF",
      "execution_count": 147,
      "outputs": []
    },
    {
      "cell_type": "code",
      "source": [
        "print(10+29)"
      ],
      "metadata": {
        "colab": {
          "base_uri": "https://localhost:8080/"
        },
        "id": "qU_GrpBhfGSG",
        "outputId": "b012d288-5b1f-447e-9796-5665f0446450"
      },
      "id": "qU_GrpBhfGSG",
      "execution_count": 148,
      "outputs": [
        {
          "output_type": "stream",
          "name": "stdout",
          "text": [
            "39\n"
          ]
        }
      ]
    },
    {
      "cell_type": "code",
      "source": [
        "# int.__add__(self,other)"
      ],
      "metadata": {
        "id": "iGRPA_tEiQ-6"
      },
      "id": "iGRPA_tEiQ-6",
      "execution_count": 149,
      "outputs": []
    },
    {
      "cell_type": "code",
      "source": [
        "int.__add__(10,20)"
      ],
      "metadata": {
        "colab": {
          "base_uri": "https://localhost:8080/"
        },
        "id": "mwVIqBSDiRBa",
        "outputId": "5fe5bca6-28da-4a71-dd1b-4cbee5580219"
      },
      "id": "mwVIqBSDiRBa",
      "execution_count": 150,
      "outputs": [
        {
          "output_type": "execute_result",
          "data": {
            "text/plain": [
              "30"
            ]
          },
          "metadata": {},
          "execution_count": 150
        }
      ]
    },
    {
      "cell_type": "code",
      "source": [
        "'''\n",
        "__add__(self,other)\n",
        "__sub__(self,other)\n",
        "__mul__(self,other)\n",
        "'''"
      ],
      "metadata": {
        "id": "rqNCxY6jiRD_",
        "colab": {
          "base_uri": "https://localhost:8080/",
          "height": 35
        },
        "outputId": "e16b1afd-2aaf-4281-b621-3a0c40c856a7"
      },
      "id": "rqNCxY6jiRD_",
      "execution_count": 151,
      "outputs": [
        {
          "output_type": "execute_result",
          "data": {
            "text/plain": [
              "'\\n__add__(self,other)\\n__sub__(self,other)\\n__mul__(self,other)\\n'"
            ],
            "application/vnd.google.colaboratory.intrinsic+json": {
              "type": "string"
            }
          },
          "metadata": {},
          "execution_count": 151
        }
      ]
    },
    {
      "cell_type": "code",
      "source": [
        "print(\"heloo\"+\"world\")"
      ],
      "metadata": {
        "colab": {
          "base_uri": "https://localhost:8080/"
        },
        "id": "1Vj8D7C9iRGZ",
        "outputId": "772c84d2-49ab-453c-e66a-94c27be47301"
      },
      "id": "1Vj8D7C9iRGZ",
      "execution_count": 152,
      "outputs": [
        {
          "output_type": "stream",
          "name": "stdout",
          "text": [
            "helooworld\n"
          ]
        }
      ]
    },
    {
      "cell_type": "code",
      "source": [
        "str.__add__(\"hello\",\"sunil\")"
      ],
      "metadata": {
        "colab": {
          "base_uri": "https://localhost:8080/",
          "height": 35
        },
        "id": "Gd-fre7DMjyr",
        "outputId": "f8f75cd6-3058-42d0-9188-3cbf052791f9"
      },
      "id": "Gd-fre7DMjyr",
      "execution_count": 153,
      "outputs": [
        {
          "output_type": "execute_result",
          "data": {
            "text/plain": [
              "'hellosunil'"
            ],
            "application/vnd.google.colaboratory.intrinsic+json": {
              "type": "string"
            }
          },
          "metadata": {},
          "execution_count": 153
        }
      ]
    },
    {
      "cell_type": "code",
      "source": [
        "int.__sub__(30,23)"
      ],
      "metadata": {
        "colab": {
          "base_uri": "https://localhost:8080/"
        },
        "id": "3Op5s5f_jgLl",
        "outputId": "4c579820-8193-4300-848c-2c4a652cf0bc"
      },
      "id": "3Op5s5f_jgLl",
      "execution_count": 154,
      "outputs": [
        {
          "output_type": "execute_result",
          "data": {
            "text/plain": [
              "7"
            ]
          },
          "metadata": {},
          "execution_count": 154
        }
      ]
    },
    {
      "cell_type": "code",
      "source": [],
      "metadata": {
        "id": "6hg1SifxjgPA"
      },
      "id": "6hg1SifxjgPA",
      "execution_count": 154,
      "outputs": []
    },
    {
      "cell_type": "code",
      "source": [
        "print(\"b\">\"a\")"
      ],
      "metadata": {
        "id": "vBMF8Rs1iRJW",
        "colab": {
          "base_uri": "https://localhost:8080/"
        },
        "outputId": "45570b70-29c0-4bf1-ae3d-2a0253b564af"
      },
      "id": "vBMF8Rs1iRJW",
      "execution_count": 155,
      "outputs": [
        {
          "output_type": "stream",
          "name": "stdout",
          "text": [
            "True\n"
          ]
        }
      ]
    },
    {
      "cell_type": "code",
      "source": [
        "ord(\"a\")"
      ],
      "metadata": {
        "id": "bVYAsvCFiRMl",
        "colab": {
          "base_uri": "https://localhost:8080/"
        },
        "outputId": "3c559407-dcd4-4d34-ddb2-f3a86682d49a"
      },
      "id": "bVYAsvCFiRMl",
      "execution_count": 156,
      "outputs": [
        {
          "output_type": "execute_result",
          "data": {
            "text/plain": [
              "97"
            ]
          },
          "metadata": {},
          "execution_count": 156
        }
      ]
    },
    {
      "cell_type": "code",
      "source": [
        "ord(\"A\")"
      ],
      "metadata": {
        "id": "lAKArxG_iRPX",
        "colab": {
          "base_uri": "https://localhost:8080/"
        },
        "outputId": "36102a9c-e4bf-4e08-84d7-4504ae6d638f"
      },
      "id": "lAKArxG_iRPX",
      "execution_count": 157,
      "outputs": [
        {
          "output_type": "execute_result",
          "data": {
            "text/plain": [
              "65"
            ]
          },
          "metadata": {},
          "execution_count": 157
        }
      ]
    },
    {
      "cell_type": "code",
      "source": [
        "print(10+\"sunil\")"
      ],
      "metadata": {
        "id": "q8IFoe6wou7K",
        "colab": {
          "base_uri": "https://localhost:8080/",
          "height": 176
        },
        "outputId": "bc68f6ab-c959-47c8-a0fd-4c69aa354c4b"
      },
      "id": "q8IFoe6wou7K",
      "execution_count": 158,
      "outputs": [
        {
          "output_type": "error",
          "ename": "TypeError",
          "evalue": "unsupported operand type(s) for +: 'int' and 'str'",
          "traceback": [
            "\u001b[0;31m---------------------------------------------------------------------------\u001b[0m",
            "\u001b[0;31mTypeError\u001b[0m                                 Traceback (most recent call last)",
            "\u001b[0;32m<ipython-input-158-524ed7bfec66>\u001b[0m in \u001b[0;36m<cell line: 1>\u001b[0;34m()\u001b[0m\n\u001b[0;32m----> 1\u001b[0;31m \u001b[0mprint\u001b[0m\u001b[0;34m(\u001b[0m\u001b[0;36m10\u001b[0m\u001b[0;34m+\u001b[0m\u001b[0;34m\"sunil\"\u001b[0m\u001b[0;34m)\u001b[0m\u001b[0;34m\u001b[0m\u001b[0;34m\u001b[0m\u001b[0m\n\u001b[0m",
            "\u001b[0;31mTypeError\u001b[0m: unsupported operand type(s) for +: 'int' and 'str'"
          ]
        }
      ]
    },
    {
      "cell_type": "code",
      "source": [],
      "metadata": {
        "id": "XgIZkePUMfFI"
      },
      "id": "XgIZkePUMfFI",
      "execution_count": 158,
      "outputs": []
    }
  ],
  "metadata": {
    "colab": {
      "provenance": []
    },
    "kernelspec": {
      "display_name": "Python 3 (ipykernel)",
      "language": "python",
      "name": "python3"
    },
    "language_info": {
      "codemirror_mode": {
        "name": "ipython",
        "version": 3
      },
      "file_extension": ".py",
      "mimetype": "text/x-python",
      "name": "python",
      "nbconvert_exporter": "python",
      "pygments_lexer": "ipython3",
      "version": "3.10.8"
    }
  },
  "nbformat": 4,
  "nbformat_minor": 5
}