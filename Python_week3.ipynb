{
  "nbformat": 4,
  "nbformat_minor": 0,
  "metadata": {
    "colab": {
      "provenance": []
    },
    "kernelspec": {
      "name": "python3",
      "display_name": "Python 3"
    },
    "language_info": {
      "name": "python"
    }
  },
  "cells": [
    {
      "cell_type": "code",
      "execution_count": 6,
      "metadata": {
        "id": "TlldgaJdWpg4",
        "colab": {
          "base_uri": "https://localhost:8080/"
        },
        "outputId": "e7f33ad0-3d97-4dbf-8d97-91a4b4a7ffb5"
      },
      "outputs": [
        {
          "output_type": "stream",
          "name": "stdout",
          "text": [
            "hloo\n"
          ]
        }
      ],
      "source": [
        "def test():\n",
        "  print(\"hloo\")\n",
        "test()"
      ]
    },
    {
      "cell_type": "code",
      "source": [
        "test()+\"akshay\""
      ],
      "metadata": {
        "id": "_zDW32ALWwH-",
        "colab": {
          "base_uri": "https://localhost:8080/",
          "height": 193
        },
        "outputId": "1dd68325-54dc-492d-ab6e-94138e9bd9fb"
      },
      "execution_count": 7,
      "outputs": [
        {
          "output_type": "stream",
          "name": "stdout",
          "text": [
            "hloo\n"
          ]
        },
        {
          "output_type": "error",
          "ename": "TypeError",
          "evalue": "unsupported operand type(s) for +: 'NoneType' and 'str'",
          "traceback": [
            "\u001b[0;31m---------------------------------------------------------------------------\u001b[0m",
            "\u001b[0;31mTypeError\u001b[0m                                 Traceback (most recent call last)",
            "\u001b[0;32m<ipython-input-7-234bce58b68d>\u001b[0m in \u001b[0;36m<cell line: 1>\u001b[0;34m()\u001b[0m\n\u001b[0;32m----> 1\u001b[0;31m \u001b[0mtest\u001b[0m\u001b[0;34m(\u001b[0m\u001b[0;34m)\u001b[0m\u001b[0;34m+\u001b[0m\u001b[0;34m\"akshay\"\u001b[0m\u001b[0;34m\u001b[0m\u001b[0;34m\u001b[0m\u001b[0m\n\u001b[0m",
            "\u001b[0;31mTypeError\u001b[0m: unsupported operand type(s) for +: 'NoneType' and 'str'"
          ]
        }
      ]
    },
    {
      "cell_type": "code",
      "source": [
        "type(test())"
      ],
      "metadata": {
        "id": "eq7sC7E3WwKV",
        "colab": {
          "base_uri": "https://localhost:8080/"
        },
        "outputId": "ac2a598b-877b-4391-b0cf-83d6e39bd2f5"
      },
      "execution_count": 8,
      "outputs": [
        {
          "output_type": "stream",
          "name": "stdout",
          "text": [
            "hloo\n"
          ]
        },
        {
          "output_type": "execute_result",
          "data": {
            "text/plain": [
              "NoneType"
            ]
          },
          "metadata": {},
          "execution_count": 8
        }
      ]
    },
    {
      "cell_type": "code",
      "source": [
        "def test1():\n",
        "  return \"hloo\"\n",
        "test1()"
      ],
      "metadata": {
        "id": "gQSlJa24WwNB",
        "colab": {
          "base_uri": "https://localhost:8080/",
          "height": 35
        },
        "outputId": "f642715e-69a2-495c-8619-861792b228be"
      },
      "execution_count": 9,
      "outputs": [
        {
          "output_type": "execute_result",
          "data": {
            "text/plain": [
              "'hloo'"
            ],
            "application/vnd.google.colaboratory.intrinsic+json": {
              "type": "string"
            }
          },
          "metadata": {},
          "execution_count": 9
        }
      ]
    },
    {
      "cell_type": "code",
      "source": [
        "test1()+\"akshay\""
      ],
      "metadata": {
        "id": "GJ9aqc3WWwPX",
        "colab": {
          "base_uri": "https://localhost:8080/",
          "height": 35
        },
        "outputId": "e8d58180-075f-43a1-da6e-39d16f048f89"
      },
      "execution_count": 10,
      "outputs": [
        {
          "output_type": "execute_result",
          "data": {
            "text/plain": [
              "'hlooakshay'"
            ],
            "application/vnd.google.colaboratory.intrinsic+json": {
              "type": "string"
            }
          },
          "metadata": {},
          "execution_count": 10
        }
      ]
    },
    {
      "cell_type": "code",
      "source": [
        "type(test1())"
      ],
      "metadata": {
        "id": "IhsAYeCtWwSC",
        "colab": {
          "base_uri": "https://localhost:8080/"
        },
        "outputId": "6e420edd-f9b8-4c74-f572-e7b893026790"
      },
      "execution_count": 11,
      "outputs": [
        {
          "output_type": "execute_result",
          "data": {
            "text/plain": [
              "str"
            ]
          },
          "metadata": {},
          "execution_count": 11
        }
      ]
    },
    {
      "cell_type": "code",
      "source": [
        "def test3():\n",
        "  return \"hloo\",1,3,[4,5,7]\n",
        "test3()"
      ],
      "metadata": {
        "id": "Z4DmywlqWwUM",
        "colab": {
          "base_uri": "https://localhost:8080/"
        },
        "outputId": "ecc1b8ba-8112-4aa6-da56-6e87235ef33a"
      },
      "execution_count": 12,
      "outputs": [
        {
          "output_type": "execute_result",
          "data": {
            "text/plain": [
              "('hloo', 1, 3, [4, 5, 7])"
            ]
          },
          "metadata": {},
          "execution_count": 12
        }
      ]
    },
    {
      "cell_type": "code",
      "source": [
        "a,b,c,d=test3()"
      ],
      "metadata": {
        "id": "kqXQm7XlWwWr"
      },
      "execution_count": 13,
      "outputs": []
    },
    {
      "cell_type": "code",
      "source": [
        "a"
      ],
      "metadata": {
        "id": "cK05KA4aWwZa",
        "colab": {
          "base_uri": "https://localhost:8080/",
          "height": 35
        },
        "outputId": "b1039bad-4136-4286-8a5a-9ee4326bb35d"
      },
      "execution_count": 14,
      "outputs": [
        {
          "output_type": "execute_result",
          "data": {
            "text/plain": [
              "'hloo'"
            ],
            "application/vnd.google.colaboratory.intrinsic+json": {
              "type": "string"
            }
          },
          "metadata": {},
          "execution_count": 14
        }
      ]
    },
    {
      "cell_type": "code",
      "source": [
        "b"
      ],
      "metadata": {
        "colab": {
          "base_uri": "https://localhost:8080/",
          "height": 176
        },
        "id": "O2cuBdq44_LU",
        "outputId": "4b2319b6-ef97-4fc1-b414-6fb4661a80f1"
      },
      "execution_count": 5,
      "outputs": [
        {
          "output_type": "error",
          "ename": "NameError",
          "evalue": "name 'b' is not defined",
          "traceback": [
            "\u001b[0;31m---------------------------------------------------------------------------\u001b[0m",
            "\u001b[0;31mNameError\u001b[0m                                 Traceback (most recent call last)",
            "\u001b[0;32m<ipython-input-5-89e6c98d9288>\u001b[0m in \u001b[0;36m<cell line: 1>\u001b[0;34m()\u001b[0m\n\u001b[0;32m----> 1\u001b[0;31m \u001b[0mb\u001b[0m\u001b[0;34m\u001b[0m\u001b[0;34m\u001b[0m\u001b[0m\n\u001b[0m",
            "\u001b[0;31mNameError\u001b[0m: name 'b' is not defined"
          ]
        }
      ]
    },
    {
      "cell_type": "code",
      "source": [
        "c"
      ],
      "metadata": {
        "colab": {
          "base_uri": "https://localhost:8080/"
        },
        "id": "Wt2kGKbQ4_OZ",
        "outputId": "59f44770-7768-4707-eb59-954536245061"
      },
      "execution_count": 15,
      "outputs": [
        {
          "output_type": "execute_result",
          "data": {
            "text/plain": [
              "3"
            ]
          },
          "metadata": {},
          "execution_count": 15
        }
      ]
    },
    {
      "cell_type": "code",
      "source": [
        "d"
      ],
      "metadata": {
        "colab": {
          "base_uri": "https://localhost:8080/"
        },
        "id": "8V8RzP9v4_RT",
        "outputId": "27c3d038-2b58-4e49-aad4-0dfcec7e1ec9"
      },
      "execution_count": 16,
      "outputs": [
        {
          "output_type": "execute_result",
          "data": {
            "text/plain": [
              "[4, 5, 7]"
            ]
          },
          "metadata": {},
          "execution_count": 16
        }
      ]
    },
    {
      "cell_type": "code",
      "source": [
        "type(d)"
      ],
      "metadata": {
        "colab": {
          "base_uri": "https://localhost:8080/"
        },
        "id": "jMt7Ljt44_UJ",
        "outputId": "7b7eaab6-8224-48ac-aa61-2f1d2211e1a6"
      },
      "execution_count": 17,
      "outputs": [
        {
          "output_type": "execute_result",
          "data": {
            "text/plain": [
              "list"
            ]
          },
          "metadata": {},
          "execution_count": 17
        }
      ]
    },
    {
      "cell_type": "code",
      "source": [],
      "metadata": {
        "id": "i5zFIF6_4_Xw"
      },
      "execution_count": 17,
      "outputs": []
    },
    {
      "cell_type": "markdown",
      "source": [
        "**A function is a block of code which only runs when it is called.\n",
        "\n",
        "You can pass data, known as parameters, into a function.\n",
        "\n",
        "A function can return data as a result.**"
      ],
      "metadata": {
        "id": "sXaoNf_yXp4z"
      }
    },
    {
      "cell_type": "markdown",
      "source": [
        "**Creating a Function**"
      ],
      "metadata": {
        "id": "1TGayfk_Xzbd"
      }
    },
    {
      "cell_type": "code",
      "source": [
        "def my_function():\n",
        "  print(\"Hello from a function\")"
      ],
      "metadata": {
        "id": "2lvUWoRcWwcA"
      },
      "execution_count": 18,
      "outputs": []
    },
    {
      "cell_type": "markdown",
      "source": [
        "**Calling a Function**"
      ],
      "metadata": {
        "id": "M162U_WpX_In"
      }
    },
    {
      "cell_type": "code",
      "source": [
        "def my_function():\n",
        "  print(\"Hello from a function\")\n",
        "\n",
        "my_function()"
      ],
      "metadata": {
        "colab": {
          "base_uri": "https://localhost:8080/"
        },
        "id": "aT8V4gU9WwfB",
        "outputId": "41f860e4-4c42-4ba3-c498-d7757ec0358d"
      },
      "execution_count": 19,
      "outputs": [
        {
          "output_type": "stream",
          "name": "stdout",
          "text": [
            "Hello from a function\n"
          ]
        }
      ]
    },
    {
      "cell_type": "markdown",
      "source": [
        "**Arguments\n",
        "Information can be passed into functions as arguments.\n",
        "\n",
        "Arguments are specified after the function name, inside the parentheses. You can add as many arguments as you want, just separate them with a comma.**"
      ],
      "metadata": {
        "id": "mhqHlbupYPAk"
      }
    },
    {
      "cell_type": "code",
      "source": [
        "def my_function(fname):\n",
        "  print(fname + \" Kumar\")\n",
        "\n",
        "my_function(\"Emil\")\n",
        "my_function(\"Akshay\")\n",
        "my_function(\"Linus\")"
      ],
      "metadata": {
        "colab": {
          "base_uri": "https://localhost:8080/"
        },
        "id": "s1om6QbEWwhc",
        "outputId": "554587c7-0e93-45ff-a284-99b3ecde22ba"
      },
      "execution_count": 21,
      "outputs": [
        {
          "output_type": "stream",
          "name": "stdout",
          "text": [
            "Emil Kumar\n",
            "Akshay Kumar\n",
            "Linus Kumar\n"
          ]
        }
      ]
    },
    {
      "cell_type": "code",
      "source": [
        "def my_function(fname, lname):\n",
        "  print(fname + \" \" + lname)\n",
        "\n",
        "my_function(\"Emil\", \"Refusus\")"
      ],
      "metadata": {
        "colab": {
          "base_uri": "https://localhost:8080/"
        },
        "id": "7LFbQTB2WwkA",
        "outputId": "378378e1-c2c8-4427-d09d-b614a992d3d8"
      },
      "execution_count": 23,
      "outputs": [
        {
          "output_type": "stream",
          "name": "stdout",
          "text": [
            "Emil Refusus\n"
          ]
        }
      ]
    },
    {
      "cell_type": "code",
      "source": [
        "def my_function(fname, lname):\n",
        "  print(fname + \" \" + lname)\n",
        "\n",
        "my_function(\"Emil\")"
      ],
      "metadata": {
        "colab": {
          "base_uri": "https://localhost:8080/",
          "height": 211
        },
        "id": "50jFX-o6Wwme",
        "outputId": "200a655a-50f4-4193-ecae-38da755996fa"
      },
      "execution_count": 24,
      "outputs": [
        {
          "output_type": "error",
          "ename": "TypeError",
          "evalue": "my_function() missing 1 required positional argument: 'lname'",
          "traceback": [
            "\u001b[0;31m---------------------------------------------------------------------------\u001b[0m",
            "\u001b[0;31mTypeError\u001b[0m                                 Traceback (most recent call last)",
            "\u001b[0;32m<ipython-input-24-49655f8043be>\u001b[0m in \u001b[0;36m<cell line: 4>\u001b[0;34m()\u001b[0m\n\u001b[1;32m      2\u001b[0m   \u001b[0mprint\u001b[0m\u001b[0;34m(\u001b[0m\u001b[0mfname\u001b[0m \u001b[0;34m+\u001b[0m \u001b[0;34m\" \"\u001b[0m \u001b[0;34m+\u001b[0m \u001b[0mlname\u001b[0m\u001b[0;34m)\u001b[0m\u001b[0;34m\u001b[0m\u001b[0;34m\u001b[0m\u001b[0m\n\u001b[1;32m      3\u001b[0m \u001b[0;34m\u001b[0m\u001b[0m\n\u001b[0;32m----> 4\u001b[0;31m \u001b[0mmy_function\u001b[0m\u001b[0;34m(\u001b[0m\u001b[0;34m\"Emil\"\u001b[0m\u001b[0;34m)\u001b[0m\u001b[0;34m\u001b[0m\u001b[0;34m\u001b[0m\u001b[0m\n\u001b[0m",
            "\u001b[0;31mTypeError\u001b[0m: my_function() missing 1 required positional argument: 'lname'"
          ]
        }
      ]
    },
    {
      "cell_type": "code",
      "source": [
        "def my_function(*kids):\n",
        "  print(\"The youngest child is \" + kids[2])\n",
        "\n",
        "my_function(\"Emil\", \"Tobias\", \"Linus\")"
      ],
      "metadata": {
        "colab": {
          "base_uri": "https://localhost:8080/"
        },
        "id": "P8r52fGPWwpY",
        "outputId": "9b9e10c0-e538-4523-b49e-22ee71fb6485"
      },
      "execution_count": 25,
      "outputs": [
        {
          "output_type": "stream",
          "name": "stdout",
          "text": [
            "The youngest child is Linus\n"
          ]
        }
      ]
    },
    {
      "cell_type": "code",
      "source": [
        "def my_function(child3, child2, child1):\n",
        "  print(\"The youngest child is \" + child3)\n",
        "\n",
        "my_function(child1 = \"Emil\", child2 = \"Tobias\", child3 = \"Linus\")"
      ],
      "metadata": {
        "colab": {
          "base_uri": "https://localhost:8080/"
        },
        "id": "MFOsnscmWwsA",
        "outputId": "54d74cef-0e4c-4a1f-de6f-17003a8b77a7"
      },
      "execution_count": 26,
      "outputs": [
        {
          "output_type": "stream",
          "name": "stdout",
          "text": [
            "The youngest child is Linus\n"
          ]
        }
      ]
    },
    {
      "cell_type": "code",
      "source": [
        "def my_function(**kid):\n",
        "  print(\"His last name is \" + kid[\"lname\"])\n",
        "\n",
        "my_function(fname = \"Tobias\", lname = \"Refuses\")"
      ],
      "metadata": {
        "colab": {
          "base_uri": "https://localhost:8080/"
        },
        "id": "B8MuB7FgWwuA",
        "outputId": "8e296aec-50fb-4b39-a9c8-209e35d385ca"
      },
      "execution_count": 28,
      "outputs": [
        {
          "output_type": "stream",
          "name": "stdout",
          "text": [
            "His last name is Refuses\n"
          ]
        }
      ]
    },
    {
      "cell_type": "code",
      "source": [
        "def my_function(**kid):\n",
        "  print(\"His last name is \" + kid[\"lname\"])\n",
        "\n",
        "my_function(fname = \"Tobias\", lname = \"Refuses\")"
      ],
      "metadata": {
        "colab": {
          "base_uri": "https://localhost:8080/"
        },
        "id": "96MTQR2tWwwh",
        "outputId": "46bce0c6-c8af-4a62-9cf4-6a14f02d6045"
      },
      "execution_count": 30,
      "outputs": [
        {
          "output_type": "stream",
          "name": "stdout",
          "text": [
            "His last name is Refuses\n"
          ]
        }
      ]
    },
    {
      "cell_type": "code",
      "source": [
        "def my_function(food):\n",
        "  for x in food:\n",
        "    print(x)\n",
        "\n",
        "fruits = [\"apple\", \"banana\", \"cherry\"]\n",
        "\n",
        "my_function(fruits)"
      ],
      "metadata": {
        "colab": {
          "base_uri": "https://localhost:8080/"
        },
        "id": "5VKU0_sRWwzL",
        "outputId": "8f496be2-ea40-4479-bc12-609b8fc19889"
      },
      "execution_count": 31,
      "outputs": [
        {
          "output_type": "stream",
          "name": "stdout",
          "text": [
            "apple\n",
            "banana\n",
            "cherry\n"
          ]
        }
      ]
    },
    {
      "cell_type": "code",
      "source": [
        "def my_function(x):\n",
        "  return 5 * x\n",
        "\n",
        "print(my_function(3))\n",
        "print(my_function(5))\n",
        "print(my_function(9))"
      ],
      "metadata": {
        "colab": {
          "base_uri": "https://localhost:8080/"
        },
        "id": "iwLC25XsWw1l",
        "outputId": "fb34655e-5dee-46ea-a70a-ad412b1c38f8"
      },
      "execution_count": 32,
      "outputs": [
        {
          "output_type": "stream",
          "name": "stdout",
          "text": [
            "15\n",
            "25\n",
            "45\n"
          ]
        }
      ]
    },
    {
      "cell_type": "code",
      "source": [
        "def myfunction():\n",
        "  pass"
      ],
      "metadata": {
        "id": "TNoEvVH3Ww5J"
      },
      "execution_count": 33,
      "outputs": []
    },
    {
      "cell_type": "markdown",
      "source": [
        "**more example**"
      ],
      "metadata": {
        "id": "9uPR2VkliSx4"
      }
    },
    {
      "cell_type": "code",
      "source": [
        "def comp():\n",
        "  name=\"Akshay\"\n",
        "  print(name+\" \"+\"Trending news\")\n"
      ],
      "metadata": {
        "id": "9nrz0f4nWxr0"
      },
      "execution_count": 35,
      "outputs": []
    },
    {
      "cell_type": "code",
      "source": [
        "def comp():\n",
        "  name=\"Akshay\"\n",
        "  print(name+\" \"+\"Trending news\")\n",
        "comp()"
      ],
      "metadata": {
        "colab": {
          "base_uri": "https://localhost:8080/"
        },
        "id": "BzlHyF_UiYwk",
        "outputId": "29bc77d6-0e3d-449b-9fe9-3b1cc09b2bf0"
      },
      "execution_count": 36,
      "outputs": [
        {
          "output_type": "stream",
          "name": "stdout",
          "text": [
            "Akshay Trending news\n"
          ]
        }
      ]
    },
    {
      "cell_type": "code",
      "source": [
        "def comp():\n",
        "  name=\"Akshay\"\n",
        "  print(name+\" \"+\"Trending news\")\n",
        "comp()\n",
        "comp()\n",
        "comp()\n",
        "comp()"
      ],
      "metadata": {
        "colab": {
          "base_uri": "https://localhost:8080/"
        },
        "id": "_1S6rimsiYzL",
        "outputId": "7f0f4a91-e726-4282-bc67-3d827b12821d"
      },
      "execution_count": 37,
      "outputs": [
        {
          "output_type": "stream",
          "name": "stdout",
          "text": [
            "Akshay Trending news\n",
            "Akshay Trending news\n",
            "Akshay Trending news\n",
            "Akshay Trending news\n"
          ]
        }
      ]
    },
    {
      "cell_type": "code",
      "source": [
        "def add():\n",
        "  x=5\n",
        "  y=7\n",
        "  print(x+y)\n",
        "add()\n",
        "def sub():\n",
        "  x=5\n",
        "  y=7\n",
        "  print(x-y)\n",
        "sub()"
      ],
      "metadata": {
        "colab": {
          "base_uri": "https://localhost:8080/"
        },
        "id": "iiRKdPz5iY10",
        "outputId": "72ff975f-8bd2-42c1-914e-9747e4b1423f"
      },
      "execution_count": 38,
      "outputs": [
        {
          "output_type": "stream",
          "name": "stdout",
          "text": [
            "12\n",
            "-2\n"
          ]
        }
      ]
    },
    {
      "cell_type": "code",
      "source": [
        "def add(a):\n",
        "  x=5\n",
        "  y=7\n",
        "  print(x+y+a)\n",
        "add(12)\n",
        "def sub(b):\n",
        "  x=5\n",
        "  y=7\n",
        "  c=print(x-y+b)\n",
        "  print(type(c))\n",
        "sub(15)"
      ],
      "metadata": {
        "colab": {
          "base_uri": "https://localhost:8080/"
        },
        "id": "O_FSS6hpiY4o",
        "outputId": "15aa4dfe-119e-414b-939f-f47b26cc0ead"
      },
      "execution_count": 39,
      "outputs": [
        {
          "output_type": "stream",
          "name": "stdout",
          "text": [
            "24\n",
            "13\n",
            "<class 'NoneType'>\n"
          ]
        }
      ]
    },
    {
      "cell_type": "code",
      "source": [
        "def add(c):\n",
        "  y=c+20.12345\n",
        "  print(y)\n",
        "  print(f\"the final output i need is {y:5.2f}\")\n",
        "add(20)\n"
      ],
      "metadata": {
        "colab": {
          "base_uri": "https://localhost:8080/"
        },
        "id": "YvNuZNGHiY68",
        "outputId": "d208ebd1-31c2-492f-fa30-8f14876c0b12"
      },
      "execution_count": 40,
      "outputs": [
        {
          "output_type": "stream",
          "name": "stdout",
          "text": [
            "40.12345\n",
            "the final output i need is 40.12\n"
          ]
        }
      ]
    },
    {
      "cell_type": "code",
      "source": [
        "def add():\n",
        "  x=8\n",
        "  y=9\n",
        "  c=x+y\n",
        "  return c\n",
        "add()"
      ],
      "metadata": {
        "colab": {
          "base_uri": "https://localhost:8080/"
        },
        "id": "ohvZIKIRiY9g",
        "outputId": "1c6a5ee6-6e2e-44a8-a406-8121de44c10e"
      },
      "execution_count": 41,
      "outputs": [
        {
          "output_type": "execute_result",
          "data": {
            "text/plain": [
              "17"
            ]
          },
          "metadata": {},
          "execution_count": 41
        }
      ]
    },
    {
      "cell_type": "code",
      "source": [
        "def add():\n",
        "  x=8\n",
        "  y=9\n",
        "  c=x+y\n",
        "  return c\n",
        "print(add())\n",
        "print(add())\n",
        "print(add())"
      ],
      "metadata": {
        "colab": {
          "base_uri": "https://localhost:8080/"
        },
        "id": "6-Wd_Qx-iY__",
        "outputId": "29de559b-bd6c-4991-f68a-38227d5f65f9"
      },
      "execution_count": 42,
      "outputs": [
        {
          "output_type": "stream",
          "name": "stdout",
          "text": [
            "17\n",
            "17\n",
            "17\n"
          ]
        }
      ]
    },
    {
      "cell_type": "code",
      "source": [
        "def add():\n",
        "  x=8\n",
        "  y=9\n",
        "  c=x+y\n",
        "  return c\n",
        "sum=add()\n",
        "print(sum)"
      ],
      "metadata": {
        "colab": {
          "base_uri": "https://localhost:8080/"
        },
        "id": "MHotAuVsiZCo",
        "outputId": "71547df4-b7a4-4c5c-9b11-a2eacf798c89"
      },
      "execution_count": 43,
      "outputs": [
        {
          "output_type": "stream",
          "name": "stdout",
          "text": [
            "17\n"
          ]
        }
      ]
    },
    {
      "cell_type": "code",
      "source": [
        "def add():\n",
        "  x=8\n",
        "  y=9\n",
        "\n",
        "  return x+y\n",
        "sum=add()\n",
        "print(sum)"
      ],
      "metadata": {
        "colab": {
          "base_uri": "https://localhost:8080/"
        },
        "id": "3ZVbNH1CiZFJ",
        "outputId": "ec5a7f20-da0b-4f8a-96e8-c1108e355722"
      },
      "execution_count": 44,
      "outputs": [
        {
          "output_type": "stream",
          "name": "stdout",
          "text": [
            "17\n"
          ]
        }
      ]
    },
    {
      "cell_type": "code",
      "source": [
        "def add():\n",
        "  x=8\n",
        "  y=9\n",
        "  c=x+y\n",
        "  d=x-y\n",
        "  return c,d\n",
        "sum,sub=add()\n",
        "print(sum)\n",
        "print(sub)"
      ],
      "metadata": {
        "colab": {
          "base_uri": "https://localhost:8080/"
        },
        "id": "61sgPBYBiZH4",
        "outputId": "711fb7fc-3432-4017-c57c-0154c7cba366"
      },
      "execution_count": 45,
      "outputs": [
        {
          "output_type": "stream",
          "name": "stdout",
          "text": [
            "17\n",
            "-1\n"
          ]
        }
      ]
    },
    {
      "cell_type": "code",
      "source": [
        "def add():\n",
        "  x=8\n",
        "  y=9\n",
        "  c=x+y\n",
        "  d=x-y\n",
        "  return c,d\n",
        "add()"
      ],
      "metadata": {
        "colab": {
          "base_uri": "https://localhost:8080/"
        },
        "id": "Hyy3YmjQiZKo",
        "outputId": "fc37195a-8be2-4e13-ed5f-a0cfeef6f145"
      },
      "execution_count": 46,
      "outputs": [
        {
          "output_type": "execute_result",
          "data": {
            "text/plain": [
              "(17, -1)"
            ]
          },
          "metadata": {},
          "execution_count": 46
        }
      ]
    },
    {
      "cell_type": "code",
      "source": [
        "def add():\n",
        "  x=8\n",
        "  y=9\n",
        "  c=x+y\n",
        "  d=x-y\n",
        "  return c,d,40\n",
        "add()"
      ],
      "metadata": {
        "colab": {
          "base_uri": "https://localhost:8080/"
        },
        "id": "ZvwpbhipiZOC",
        "outputId": "e7cc16d8-a825-4e37-b105-b3ef8cfa610e"
      },
      "execution_count": 47,
      "outputs": [
        {
          "output_type": "execute_result",
          "data": {
            "text/plain": [
              "(17, -1, 40)"
            ]
          },
          "metadata": {},
          "execution_count": 47
        }
      ]
    },
    {
      "cell_type": "code",
      "source": [
        "def add():\n",
        "  x=8\n",
        "  y=9\n",
        "  c=x+y\n",
        "  d=x-y\n",
        "  return c,d,40\n",
        "sum,sub,a=add()\n",
        "print(sum)\n",
        "print(sub)\n",
        "print(a)"
      ],
      "metadata": {
        "colab": {
          "base_uri": "https://localhost:8080/"
        },
        "id": "F9SKnsxPWxxO",
        "outputId": "2f739471-3099-44ab-e002-2d90c6c31d27"
      },
      "execution_count": 48,
      "outputs": [
        {
          "output_type": "stream",
          "name": "stdout",
          "text": [
            "17\n",
            "-1\n",
            "40\n"
          ]
        }
      ]
    },
    {
      "cell_type": "markdown",
      "source": [
        "**Nested_function**"
      ],
      "metadata": {
        "id": "uKC3G3_Ru2tH"
      }
    },
    {
      "cell_type": "code",
      "source": [
        "def akshay():\n",
        "  def anmol():\n",
        "    print(\"i am anmol\")\n",
        "  print(\"i am akshay\")\n",
        "  anmol()\n",
        "akshay()"
      ],
      "metadata": {
        "colab": {
          "base_uri": "https://localhost:8080/"
        },
        "id": "lsB1PveeusUC",
        "outputId": "a5586000-95a5-4281-cd3d-485fd9395c50"
      },
      "execution_count": 50,
      "outputs": [
        {
          "output_type": "stream",
          "name": "stdout",
          "text": [
            "i am akshay\n",
            "i am anmol\n"
          ]
        }
      ]
    },
    {
      "cell_type": "code",
      "source": [
        "def akshay():\n",
        "  def anmol():\n",
        "    print(\"i am anmol\")\n",
        "  print(\"i am akshay\")\n",
        "  anmol()\n",
        "  print(\" i am web developer\")\n",
        "akshay()\n",
        "print(\" i am data scientist\")"
      ],
      "metadata": {
        "colab": {
          "base_uri": "https://localhost:8080/"
        },
        "id": "KzvQlqCMu7-O",
        "outputId": "f32d2935-01e4-49e0-9a46-d148557839f2"
      },
      "execution_count": 51,
      "outputs": [
        {
          "output_type": "stream",
          "name": "stdout",
          "text": [
            "i am akshay\n",
            "i am anmol\n",
            " i am web developer\n",
            " i am data scientist\n"
          ]
        }
      ]
    },
    {
      "cell_type": "code",
      "source": [
        "def akshay():\n",
        "\n",
        "c=akshay()\n",
        "print(c)"
      ],
      "metadata": {
        "colab": {
          "base_uri": "https://localhost:8080/",
          "height": 141
        },
        "id": "sky3pnoGu8An",
        "outputId": "9354b2e7-5e51-4e57-9fe6-8c62172b4f91"
      },
      "execution_count": 53,
      "outputs": [
        {
          "output_type": "error",
          "ename": "IndentationError",
          "evalue": "expected an indented block after function definition on line 1 (<ipython-input-53-8599cc60b13f>, line 3)",
          "traceback": [
            "\u001b[0;36m  File \u001b[0;32m\"<ipython-input-53-8599cc60b13f>\"\u001b[0;36m, line \u001b[0;32m3\u001b[0m\n\u001b[0;31m    c=akshay()\u001b[0m\n\u001b[0m    ^\u001b[0m\n\u001b[0;31mIndentationError\u001b[0m\u001b[0;31m:\u001b[0m expected an indented block after function definition on line 1\n"
          ]
        }
      ]
    },
    {
      "cell_type": "code",
      "source": [
        "def akshay(b):\n",
        "  def anmol():\n",
        "    return \"i am anmol\"\n",
        "  result=anmol()+\" \"+b+\" \"+\" i am akshay\"\n",
        "  return result\n",
        "\n",
        "c=akshay('this is jass')\n",
        "print(c)"
      ],
      "metadata": {
        "colab": {
          "base_uri": "https://localhost:8080/"
        },
        "id": "mywii-Wru8DI",
        "outputId": "29e1868b-1d88-4c50-8f2e-96242cdee161"
      },
      "execution_count": 54,
      "outputs": [
        {
          "output_type": "stream",
          "name": "stdout",
          "text": [
            "i am anmol this is jass  i am akshay\n"
          ]
        }
      ]
    },
    {
      "cell_type": "markdown",
      "source": [
        "**function as parameter**"
      ],
      "metadata": {
        "id": "gJzScJO_z-mX"
      }
    },
    {
      "cell_type": "code",
      "source": [
        "def rupinder(an):\n",
        "  print(\" i am Hr\"+\" \"+an())\n",
        "def gagan():\n",
        "  return \"i gagan and also HR\"\n",
        "rupinder(gagan)"
      ],
      "metadata": {
        "colab": {
          "base_uri": "https://localhost:8080/"
        },
        "id": "Gd-NirZiu8Fc",
        "outputId": "aa0984c9-b981-4b7f-a231-74d239f5f754"
      },
      "execution_count": 55,
      "outputs": [
        {
          "output_type": "stream",
          "name": "stdout",
          "text": [
            " i am Hr i gagan and also HR\n"
          ]
        }
      ]
    },
    {
      "cell_type": "code",
      "source": [
        "def rupinder(an):\n",
        "  return \" i am Hr\"+\" \"+an()\n",
        "def gagan():\n",
        "  return \"i gagan and also HR\"\n",
        "c=rupinder(gagan)\n",
        "print(c)"
      ],
      "metadata": {
        "colab": {
          "base_uri": "https://localhost:8080/"
        },
        "id": "nYFWn1Cdu8H_",
        "outputId": "c5e3ef7a-d0ca-4e92-cc5a-bd177145d477"
      },
      "execution_count": 56,
      "outputs": [
        {
          "output_type": "stream",
          "name": "stdout",
          "text": [
            " i am Hr i gagan and also HR\n"
          ]
        }
      ]
    },
    {
      "cell_type": "markdown",
      "source": [
        "**Function_return_another_function**"
      ],
      "metadata": {
        "id": "MCHOHzHe1tAJ"
      }
    },
    {
      "cell_type": "code",
      "source": [
        "def rupinder():\n",
        "  def gagan():\n",
        "    return \" i am gagan\"\n",
        "  print(\"I am ruinder\")\n",
        "  return gagan\n",
        "c=rupinder()\n",
        "print(c())"
      ],
      "metadata": {
        "colab": {
          "base_uri": "https://localhost:8080/"
        },
        "id": "hsJEmQD0u8Kh",
        "outputId": "a177d59a-c627-4ab4-d3ea-1eb1feea038e"
      },
      "execution_count": 59,
      "outputs": [
        {
          "output_type": "stream",
          "name": "stdout",
          "text": [
            "I am ruinder\n",
            " i am gagan\n"
          ]
        }
      ]
    },
    {
      "cell_type": "markdown",
      "source": [
        "**Postional_argument**"
      ],
      "metadata": {
        "id": "emJphYJF7CmT"
      }
    },
    {
      "cell_type": "code",
      "source": [
        "def pow(x,y):\n",
        "  c=x**y\n",
        "  print(c)\n",
        "pow(2,5)"
      ],
      "metadata": {
        "colab": {
          "base_uri": "https://localhost:8080/"
        },
        "id": "AuChFxQhu8NJ",
        "outputId": "7096e229-7810-4181-9e2c-849fd6ad645d"
      },
      "execution_count": 60,
      "outputs": [
        {
          "output_type": "stream",
          "name": "stdout",
          "text": [
            "32\n"
          ]
        }
      ]
    },
    {
      "cell_type": "code",
      "source": [
        "def pow(x,y):\n",
        "  c=x**y\n",
        "  print(c)\n",
        "pow(5,2)"
      ],
      "metadata": {
        "colab": {
          "base_uri": "https://localhost:8080/"
        },
        "id": "8EULynw-u8Pu",
        "outputId": "b6f399bc-8e69-4f61-b304-37ba0e951c6f"
      },
      "execution_count": 61,
      "outputs": [
        {
          "output_type": "stream",
          "name": "stdout",
          "text": [
            "25\n"
          ]
        }
      ]
    },
    {
      "cell_type": "code",
      "source": [
        "def pow(x,y):\n",
        "  c=x**y\n",
        "  print(c)\n",
        "pow(5,2,4)"
      ],
      "metadata": {
        "colab": {
          "base_uri": "https://localhost:8080/",
          "height": 211
        },
        "id": "RZP62WXhu8SX",
        "outputId": "97c08210-bf63-491f-ef7f-160b96b0846b"
      },
      "execution_count": 62,
      "outputs": [
        {
          "output_type": "error",
          "ename": "TypeError",
          "evalue": "pow() takes 2 positional arguments but 3 were given",
          "traceback": [
            "\u001b[0;31m---------------------------------------------------------------------------\u001b[0m",
            "\u001b[0;31mTypeError\u001b[0m                                 Traceback (most recent call last)",
            "\u001b[0;32m<ipython-input-62-d76b20d46ac7>\u001b[0m in \u001b[0;36m<cell line: 4>\u001b[0;34m()\u001b[0m\n\u001b[1;32m      2\u001b[0m   \u001b[0mc\u001b[0m\u001b[0;34m=\u001b[0m\u001b[0mx\u001b[0m\u001b[0;34m**\u001b[0m\u001b[0my\u001b[0m\u001b[0;34m\u001b[0m\u001b[0;34m\u001b[0m\u001b[0m\n\u001b[1;32m      3\u001b[0m   \u001b[0mprint\u001b[0m\u001b[0;34m(\u001b[0m\u001b[0mc\u001b[0m\u001b[0;34m)\u001b[0m\u001b[0;34m\u001b[0m\u001b[0;34m\u001b[0m\u001b[0m\n\u001b[0;32m----> 4\u001b[0;31m \u001b[0mpow\u001b[0m\u001b[0;34m(\u001b[0m\u001b[0;36m5\u001b[0m\u001b[0;34m,\u001b[0m\u001b[0;36m2\u001b[0m\u001b[0;34m,\u001b[0m\u001b[0;36m4\u001b[0m\u001b[0;34m)\u001b[0m\u001b[0;34m\u001b[0m\u001b[0;34m\u001b[0m\u001b[0m\n\u001b[0m",
            "\u001b[0;31mTypeError\u001b[0m: pow() takes 2 positional arguments but 3 were given"
          ]
        }
      ]
    },
    {
      "cell_type": "markdown",
      "source": [
        "**keyword_argument**"
      ],
      "metadata": {
        "id": "fplUJnTz8v8N"
      }
    },
    {
      "cell_type": "code",
      "source": [
        "def det(name,age):\n",
        "  print(name,age)\n",
        "det(name=\"akshay\",age=21)"
      ],
      "metadata": {
        "colab": {
          "base_uri": "https://localhost:8080/"
        },
        "id": "aqYIXPSeu8Un",
        "outputId": "5f0d4ced-6491-413e-80cf-372b4c5629a0"
      },
      "execution_count": 65,
      "outputs": [
        {
          "output_type": "stream",
          "name": "stdout",
          "text": [
            "akshay 21\n"
          ]
        }
      ]
    },
    {
      "cell_type": "code",
      "source": [
        "def det(name,age):\n",
        "  print(name,age)\n",
        "det(age=21,name=\"akshay\")"
      ],
      "metadata": {
        "colab": {
          "base_uri": "https://localhost:8080/"
        },
        "id": "fCmAyVelu8W-",
        "outputId": "8e6f7db4-9241-4283-b1af-19a3e33e8d18"
      },
      "execution_count": 66,
      "outputs": [
        {
          "output_type": "stream",
          "name": "stdout",
          "text": [
            "akshay 21\n"
          ]
        }
      ]
    },
    {
      "cell_type": "code",
      "source": [
        "def det(name,age):\n",
        "  print(name,age)\n",
        "det(age=21)"
      ],
      "metadata": {
        "colab": {
          "base_uri": "https://localhost:8080/",
          "height": 211
        },
        "id": "ET5wuIiz9oMo",
        "outputId": "dcdb75fd-0ccb-4e05-d5d3-c5e36e1c2043"
      },
      "execution_count": 67,
      "outputs": [
        {
          "output_type": "error",
          "ename": "TypeError",
          "evalue": "det() missing 1 required positional argument: 'name'",
          "traceback": [
            "\u001b[0;31m---------------------------------------------------------------------------\u001b[0m",
            "\u001b[0;31mTypeError\u001b[0m                                 Traceback (most recent call last)",
            "\u001b[0;32m<ipython-input-67-d9ac60ac2abc>\u001b[0m in \u001b[0;36m<cell line: 3>\u001b[0;34m()\u001b[0m\n\u001b[1;32m      1\u001b[0m \u001b[0;32mdef\u001b[0m \u001b[0mdet\u001b[0m\u001b[0;34m(\u001b[0m\u001b[0mname\u001b[0m\u001b[0;34m,\u001b[0m\u001b[0mage\u001b[0m\u001b[0;34m)\u001b[0m\u001b[0;34m:\u001b[0m\u001b[0;34m\u001b[0m\u001b[0;34m\u001b[0m\u001b[0m\n\u001b[1;32m      2\u001b[0m   \u001b[0mprint\u001b[0m\u001b[0;34m(\u001b[0m\u001b[0mname\u001b[0m\u001b[0;34m,\u001b[0m\u001b[0mage\u001b[0m\u001b[0;34m)\u001b[0m\u001b[0;34m\u001b[0m\u001b[0;34m\u001b[0m\u001b[0m\n\u001b[0;32m----> 3\u001b[0;31m \u001b[0mdet\u001b[0m\u001b[0;34m(\u001b[0m\u001b[0mage\u001b[0m\u001b[0;34m=\u001b[0m\u001b[0;36m21\u001b[0m\u001b[0;34m)\u001b[0m\u001b[0;34m\u001b[0m\u001b[0;34m\u001b[0m\u001b[0m\n\u001b[0m",
            "\u001b[0;31mTypeError\u001b[0m: det() missing 1 required positional argument: 'name'"
          ]
        }
      ]
    },
    {
      "cell_type": "code",
      "source": [
        "def det(name,age):\n",
        "  print(name,age)\n",
        "det(age=21,name=\"akshay\",uni=\"PU\")"
      ],
      "metadata": {
        "colab": {
          "base_uri": "https://localhost:8080/",
          "height": 211
        },
        "id": "NoNIKV9eu8Zy",
        "outputId": "5f0aa311-48c3-49cc-8e3a-a4739802db29"
      },
      "execution_count": 69,
      "outputs": [
        {
          "output_type": "error",
          "ename": "TypeError",
          "evalue": "det() got an unexpected keyword argument 'uni'",
          "traceback": [
            "\u001b[0;31m---------------------------------------------------------------------------\u001b[0m",
            "\u001b[0;31mTypeError\u001b[0m                                 Traceback (most recent call last)",
            "\u001b[0;32m<ipython-input-69-e05dbdb38449>\u001b[0m in \u001b[0;36m<cell line: 3>\u001b[0;34m()\u001b[0m\n\u001b[1;32m      1\u001b[0m \u001b[0;32mdef\u001b[0m \u001b[0mdet\u001b[0m\u001b[0;34m(\u001b[0m\u001b[0mname\u001b[0m\u001b[0;34m,\u001b[0m\u001b[0mage\u001b[0m\u001b[0;34m)\u001b[0m\u001b[0;34m:\u001b[0m\u001b[0;34m\u001b[0m\u001b[0;34m\u001b[0m\u001b[0m\n\u001b[1;32m      2\u001b[0m   \u001b[0mprint\u001b[0m\u001b[0;34m(\u001b[0m\u001b[0mname\u001b[0m\u001b[0;34m,\u001b[0m\u001b[0mage\u001b[0m\u001b[0;34m)\u001b[0m\u001b[0;34m\u001b[0m\u001b[0;34m\u001b[0m\u001b[0m\n\u001b[0;32m----> 3\u001b[0;31m \u001b[0mdet\u001b[0m\u001b[0;34m(\u001b[0m\u001b[0mage\u001b[0m\u001b[0;34m=\u001b[0m\u001b[0;36m21\u001b[0m\u001b[0;34m,\u001b[0m\u001b[0mname\u001b[0m\u001b[0;34m=\u001b[0m\u001b[0;34m\"akshay\"\u001b[0m\u001b[0;34m,\u001b[0m\u001b[0muni\u001b[0m\u001b[0;34m=\u001b[0m\u001b[0;34m\"PU\"\u001b[0m\u001b[0;34m)\u001b[0m\u001b[0;34m\u001b[0m\u001b[0;34m\u001b[0m\u001b[0m\n\u001b[0m",
            "\u001b[0;31mTypeError\u001b[0m: det() got an unexpected keyword argument 'uni'"
          ]
        }
      ]
    },
    {
      "cell_type": "markdown",
      "source": [
        "**default_argument**"
      ],
      "metadata": {
        "id": "CzlKg2OD_Dh2"
      }
    },
    {
      "cell_type": "code",
      "source": [
        "def det(name,age=27):\n",
        "  print(name,age)\n",
        "det(name=\"akshay\")"
      ],
      "metadata": {
        "colab": {
          "base_uri": "https://localhost:8080/"
        },
        "id": "wyQxBXGuu8dR",
        "outputId": "8d629a1f-48b8-4921-d36e-9da17694983b"
      },
      "execution_count": 72,
      "outputs": [
        {
          "output_type": "stream",
          "name": "stdout",
          "text": [
            "akshay 27\n"
          ]
        }
      ]
    },
    {
      "cell_type": "code",
      "source": [
        "def det(name,age=27):\n",
        "  print(name,age)\n",
        "det(name=\"akshay\",age=25)"
      ],
      "metadata": {
        "colab": {
          "base_uri": "https://localhost:8080/"
        },
        "id": "FSmoqJFn-2cV",
        "outputId": "d7e64ab6-fa65-4f4d-df18-d8f161309537"
      },
      "execution_count": 73,
      "outputs": [
        {
          "output_type": "stream",
          "name": "stdout",
          "text": [
            "akshay 25\n"
          ]
        }
      ]
    },
    {
      "cell_type": "code",
      "source": [
        "def det(name,age=27):\n",
        "  print(name,age)\n",
        "det(name=\"akshay\",age=25,roll_no=101)"
      ],
      "metadata": {
        "colab": {
          "base_uri": "https://localhost:8080/",
          "height": 211
        },
        "id": "tHRYZgkm-2e5",
        "outputId": "a045be8c-5560-436d-a7df-55b16178f411"
      },
      "execution_count": 75,
      "outputs": [
        {
          "output_type": "error",
          "ename": "TypeError",
          "evalue": "det() got an unexpected keyword argument 'roll_no'",
          "traceback": [
            "\u001b[0;31m---------------------------------------------------------------------------\u001b[0m",
            "\u001b[0;31mTypeError\u001b[0m                                 Traceback (most recent call last)",
            "\u001b[0;32m<ipython-input-75-a63571c9a63c>\u001b[0m in \u001b[0;36m<cell line: 3>\u001b[0;34m()\u001b[0m\n\u001b[1;32m      1\u001b[0m \u001b[0;32mdef\u001b[0m \u001b[0mdet\u001b[0m\u001b[0;34m(\u001b[0m\u001b[0mname\u001b[0m\u001b[0;34m,\u001b[0m\u001b[0mage\u001b[0m\u001b[0;34m=\u001b[0m\u001b[0;36m27\u001b[0m\u001b[0;34m)\u001b[0m\u001b[0;34m:\u001b[0m\u001b[0;34m\u001b[0m\u001b[0;34m\u001b[0m\u001b[0m\n\u001b[1;32m      2\u001b[0m   \u001b[0mprint\u001b[0m\u001b[0;34m(\u001b[0m\u001b[0mname\u001b[0m\u001b[0;34m,\u001b[0m\u001b[0mage\u001b[0m\u001b[0;34m)\u001b[0m\u001b[0;34m\u001b[0m\u001b[0;34m\u001b[0m\u001b[0m\n\u001b[0;32m----> 3\u001b[0;31m \u001b[0mdet\u001b[0m\u001b[0;34m(\u001b[0m\u001b[0mname\u001b[0m\u001b[0;34m=\u001b[0m\u001b[0;34m\"akshay\"\u001b[0m\u001b[0;34m,\u001b[0m\u001b[0mage\u001b[0m\u001b[0;34m=\u001b[0m\u001b[0;36m25\u001b[0m\u001b[0;34m,\u001b[0m\u001b[0mroll_no\u001b[0m\u001b[0;34m=\u001b[0m\u001b[0;36m101\u001b[0m\u001b[0;34m)\u001b[0m\u001b[0;34m\u001b[0m\u001b[0;34m\u001b[0m\u001b[0m\n\u001b[0m",
            "\u001b[0;31mTypeError\u001b[0m: det() got an unexpected keyword argument 'roll_no'"
          ]
        }
      ]
    },
    {
      "cell_type": "markdown",
      "source": [
        "**variable_lenght_argument**"
      ],
      "metadata": {
        "id": "_MsF7bUB_jTA"
      }
    },
    {
      "cell_type": "code",
      "source": [
        "#it store all value in form of tuple"
      ],
      "metadata": {
        "id": "DFk22dD7-2iV"
      },
      "execution_count": 76,
      "outputs": []
    },
    {
      "cell_type": "code",
      "source": [
        "def sum1(*num):\n",
        "  print(num)\n",
        "  c1=[num[0]+num[1]+num[2]]\n",
        "  print(c1)\n",
        "sum1(2,3,4,5,6,7,8,9)"
      ],
      "metadata": {
        "colab": {
          "base_uri": "https://localhost:8080/"
        },
        "id": "ZNDQhb0W_rR6",
        "outputId": "0c282e51-c8c9-408f-8e15-1327fe8fb1d9"
      },
      "execution_count": 77,
      "outputs": [
        {
          "output_type": "stream",
          "name": "stdout",
          "text": [
            "(2, 3, 4, 5, 6, 7, 8, 9)\n",
            "[9]\n"
          ]
        }
      ]
    },
    {
      "cell_type": "code",
      "source": [
        "def sum1(x,*num):\n",
        "  print(x)\n",
        "  print(num)\n",
        "  c1=[num[0]+num[1]+num[2]]\n",
        "  print(c1)\n",
        "sum1(2,3,4,5,6,7,8,9)"
      ],
      "metadata": {
        "colab": {
          "base_uri": "https://localhost:8080/"
        },
        "id": "jR5VIk4oC3nJ",
        "outputId": "fdcb9c58-c357-4bfd-8cb8-e7faf2f95f31"
      },
      "execution_count": 78,
      "outputs": [
        {
          "output_type": "stream",
          "name": "stdout",
          "text": [
            "2\n",
            "(3, 4, 5, 6, 7, 8, 9)\n",
            "[12]\n"
          ]
        }
      ]
    },
    {
      "cell_type": "markdown",
      "source": [
        "**keyword_variable_length_argument**"
      ],
      "metadata": {
        "id": "iIXlC_eBCZuI"
      }
    },
    {
      "cell_type": "code",
      "source": [
        "def sun(**num):\n",
        "  print(num)\n",
        "  c=num[\"a\"]+num[\"b\"]+num[\"c\"]\n",
        "  print(c)\n",
        "sun(a=5,b=7,c=8)"
      ],
      "metadata": {
        "colab": {
          "base_uri": "https://localhost:8080/"
        },
        "id": "O0050ouA_rWz",
        "outputId": "7acd139a-3ab3-4ef2-f917-a2c8e9a935db"
      },
      "execution_count": 79,
      "outputs": [
        {
          "output_type": "stream",
          "name": "stdout",
          "text": [
            "{'a': 5, 'b': 7, 'c': 8}\n",
            "20\n"
          ]
        }
      ]
    },
    {
      "cell_type": "code",
      "source": [
        "def sun(y,**num):\n",
        "  print(y)\n",
        "  print(num)\n",
        "  c=num[\"a\"]+num[\"b\"]+num[\"c\"]\n",
        "  print(c)\n",
        "sun(100,a=5,b=7,c=8)"
      ],
      "metadata": {
        "colab": {
          "base_uri": "https://localhost:8080/"
        },
        "id": "pXhZgWQi_rZa",
        "outputId": "2cc8f759-f751-44f7-b60e-d817de64b6bb"
      },
      "execution_count": 80,
      "outputs": [
        {
          "output_type": "stream",
          "name": "stdout",
          "text": [
            "100\n",
            "{'a': 5, 'b': 7, 'c': 8}\n",
            "20\n"
          ]
        }
      ]
    },
    {
      "cell_type": "markdown",
      "source": [
        "**lambda_function**"
      ],
      "metadata": {
        "id": "mYyilCHQQh2M"
      }
    },
    {
      "cell_type": "code",
      "source": [
        "def show(x):\n",
        "  print(x)\n",
        "show(5)"
      ],
      "metadata": {
        "colab": {
          "base_uri": "https://localhost:8080/"
        },
        "id": "vA0VIXuu_rbt",
        "outputId": "064058bd-4fba-4156-f678-c4f21158dd46"
      },
      "execution_count": 81,
      "outputs": [
        {
          "output_type": "stream",
          "name": "stdout",
          "text": [
            "5\n"
          ]
        }
      ]
    },
    {
      "cell_type": "code",
      "source": [
        "sum2=lambda x:print(x)\n",
        "sum2(5)"
      ],
      "metadata": {
        "colab": {
          "base_uri": "https://localhost:8080/"
        },
        "id": "lxczw5E-_reX",
        "outputId": "08aef621-6d31-42e8-a799-f1e3027ee52e"
      },
      "execution_count": 82,
      "outputs": [
        {
          "output_type": "stream",
          "name": "stdout",
          "text": [
            "5\n"
          ]
        }
      ]
    },
    {
      "cell_type": "code",
      "source": [
        "sum3=lambda x,y:x+y\n",
        "print(sum3(5,2))"
      ],
      "metadata": {
        "colab": {
          "base_uri": "https://localhost:8080/"
        },
        "id": "CXdeLhiu_rg9",
        "outputId": "a03f0cf3-ce03-488c-875c-1dd6034158d0"
      },
      "execution_count": 83,
      "outputs": [
        {
          "output_type": "stream",
          "name": "stdout",
          "text": [
            "7\n"
          ]
        }
      ]
    },
    {
      "cell_type": "code",
      "source": [
        "sum3=lambda x,y:(x+y,x-y)\n",
        "a,b=sum3(5,2)\n",
        "print(a)\n",
        "print(b)"
      ],
      "metadata": {
        "colab": {
          "base_uri": "https://localhost:8080/"
        },
        "id": "zrjF9dMk_rjM",
        "outputId": "3b9fda24-e62b-45cb-83e4-a39914d140a4"
      },
      "execution_count": 84,
      "outputs": [
        {
          "output_type": "stream",
          "name": "stdout",
          "text": [
            "7\n",
            "3\n"
          ]
        }
      ]
    },
    {
      "cell_type": "code",
      "source": [
        "c_to_f=lambda c:(9/5)*c+32"
      ],
      "metadata": {
        "id": "Fe9EryZy0jet"
      },
      "execution_count": 85,
      "outputs": []
    },
    {
      "cell_type": "code",
      "source": [
        "c_to_f(45)"
      ],
      "metadata": {
        "colab": {
          "base_uri": "https://localhost:8080/"
        },
        "id": "MwCObSBZ0tma",
        "outputId": "13423c24-f927-4c21-b1bd-275b404ac804"
      },
      "execution_count": 86,
      "outputs": [
        {
          "output_type": "execute_result",
          "data": {
            "text/plain": [
              "113.0"
            ]
          },
          "metadata": {},
          "execution_count": 86
        }
      ]
    },
    {
      "cell_type": "code",
      "source": [
        "big=lambda x,y:x if x>y else y\n",
        "big(12,5)"
      ],
      "metadata": {
        "colab": {
          "base_uri": "https://localhost:8080/"
        },
        "id": "b7TjF_Qh0w9g",
        "outputId": "b077287d-cac6-4584-d49a-94b6edffb86d"
      },
      "execution_count": 87,
      "outputs": [
        {
          "output_type": "execute_result",
          "data": {
            "text/plain": [
              "12"
            ]
          },
          "metadata": {},
          "execution_count": 87
        }
      ]
    },
    {
      "cell_type": "code",
      "source": [
        "\n",
        "count=lambda s:len(s)\n",
        "count(\"sunil\")"
      ],
      "metadata": {
        "colab": {
          "base_uri": "https://localhost:8080/"
        },
        "id": "F4iyBbbc0xAN",
        "outputId": "511e1c52-94aa-4bd1-81de-f93abdb3c94a"
      },
      "execution_count": 88,
      "outputs": [
        {
          "output_type": "execute_result",
          "data": {
            "text/plain": [
              "5"
            ]
          },
          "metadata": {},
          "execution_count": 88
        }
      ]
    },
    {
      "cell_type": "code",
      "source": [],
      "metadata": {
        "id": "uPHYOfeY0xDn"
      },
      "execution_count": 88,
      "outputs": []
    },
    {
      "cell_type": "markdown",
      "source": [
        "**nested_lambda_function**"
      ],
      "metadata": {
        "id": "r2H2gRZ2UO0B"
      }
    },
    {
      "cell_type": "code",
      "source": [
        "add=lambda x=10:(lambda y:x+y)\n",
        "a=add()\n",
        "print(a(30))"
      ],
      "metadata": {
        "colab": {
          "base_uri": "https://localhost:8080/"
        },
        "id": "b9l8xbB9_rli",
        "outputId": "16d1571d-25d8-4fcd-e19d-3a869d90a03a"
      },
      "execution_count": 89,
      "outputs": [
        {
          "output_type": "stream",
          "name": "stdout",
          "text": [
            "40\n"
          ]
        }
      ]
    },
    {
      "cell_type": "markdown",
      "source": [
        "**iife**"
      ],
      "metadata": {
        "id": "T9SxE8evWGGj"
      }
    },
    {
      "cell_type": "code",
      "source": [
        "#Immediately Invoked Function Expression"
      ],
      "metadata": {
        "id": "K8Z2GXeKWwxG"
      },
      "execution_count": 90,
      "outputs": []
    },
    {
      "cell_type": "code",
      "source": [
        "(lambda x,y:x+y)(5,2)"
      ],
      "metadata": {
        "colab": {
          "base_uri": "https://localhost:8080/"
        },
        "id": "r25BSkjC_roY",
        "outputId": "0f5f4a4d-dcb6-43a4-e2cd-c6c8608fa58e"
      },
      "execution_count": 91,
      "outputs": [
        {
          "output_type": "execute_result",
          "data": {
            "text/plain": [
              "7"
            ]
          },
          "metadata": {},
          "execution_count": 91
        }
      ]
    },
    {
      "cell_type": "code",
      "source": [
        "(lambda x,y:print(x+y))(5,2)"
      ],
      "metadata": {
        "colab": {
          "base_uri": "https://localhost:8080/"
        },
        "id": "8uPzEV8E_rrJ",
        "outputId": "034248f6-5522-4ab1-f386-257468dbf52b"
      },
      "execution_count": 92,
      "outputs": [
        {
          "output_type": "stream",
          "name": "stdout",
          "text": [
            "7\n"
          ]
        }
      ]
    },
    {
      "cell_type": "markdown",
      "source": [
        "**Local_variable**"
      ],
      "metadata": {
        "id": "VfSdt_Q4X0g8"
      }
    },
    {
      "cell_type": "code",
      "source": [
        "def sub(y):\n",
        "  x=10\n",
        "\n",
        "  c=x-y\n",
        "  print(c)\n",
        "sub(7)\n"
      ],
      "metadata": {
        "id": "x_bQFcmX_rtl",
        "colab": {
          "base_uri": "https://localhost:8080/"
        },
        "outputId": "42fa698b-1323-4cba-ec56-e09a11fb6dc5"
      },
      "execution_count": 93,
      "outputs": [
        {
          "output_type": "stream",
          "name": "stdout",
          "text": [
            "3\n"
          ]
        }
      ]
    },
    {
      "cell_type": "code",
      "source": [
        "def sub(y):\n",
        "  x=10\n",
        "\n",
        "  c=x-y\n",
        "  print(c)\n",
        "sub(7)\n",
        "print(x)\n"
      ],
      "metadata": {
        "id": "o59fhDex_rxA",
        "colab": {
          "base_uri": "https://localhost:8080/",
          "height": 228
        },
        "outputId": "81edd347-156a-4d88-a189-a604eb9fd7c0"
      },
      "execution_count": 94,
      "outputs": [
        {
          "output_type": "stream",
          "name": "stdout",
          "text": [
            "3\n"
          ]
        },
        {
          "output_type": "error",
          "ename": "NameError",
          "evalue": "name 'x' is not defined",
          "traceback": [
            "\u001b[0;31m---------------------------------------------------------------------------\u001b[0m",
            "\u001b[0;31mNameError\u001b[0m                                 Traceback (most recent call last)",
            "\u001b[0;32m<ipython-input-94-fd25f9ba991e>\u001b[0m in \u001b[0;36m<cell line: 7>\u001b[0;34m()\u001b[0m\n\u001b[1;32m      5\u001b[0m   \u001b[0mprint\u001b[0m\u001b[0;34m(\u001b[0m\u001b[0mc\u001b[0m\u001b[0;34m)\u001b[0m\u001b[0;34m\u001b[0m\u001b[0;34m\u001b[0m\u001b[0m\n\u001b[1;32m      6\u001b[0m \u001b[0msub\u001b[0m\u001b[0;34m(\u001b[0m\u001b[0;36m7\u001b[0m\u001b[0;34m)\u001b[0m\u001b[0;34m\u001b[0m\u001b[0;34m\u001b[0m\u001b[0m\n\u001b[0;32m----> 7\u001b[0;31m \u001b[0mprint\u001b[0m\u001b[0;34m(\u001b[0m\u001b[0mx\u001b[0m\u001b[0;34m)\u001b[0m\u001b[0;34m\u001b[0m\u001b[0;34m\u001b[0m\u001b[0m\n\u001b[0m",
            "\u001b[0;31mNameError\u001b[0m: name 'x' is not defined"
          ]
        }
      ]
    },
    {
      "cell_type": "markdown",
      "source": [
        "**gernator_function**"
      ],
      "metadata": {
        "id": "W6kEbKzPvXtn"
      }
    },
    {
      "cell_type": "code",
      "source": [
        "def test_fib(n):\n",
        "  a,b=0,1\n",
        "  for i in range(n):\n",
        "    yield a\n",
        "    a,b=b,a+b"
      ],
      "metadata": {
        "id": "7WyzhptmYi9W"
      },
      "execution_count": 95,
      "outputs": []
    },
    {
      "cell_type": "code",
      "source": [
        "for i in test_fib(10):\n",
        "  print(i)"
      ],
      "metadata": {
        "colab": {
          "base_uri": "https://localhost:8080/"
        },
        "id": "AukrOMtrvW8T",
        "outputId": "cb66093c-28eb-4907-c806-483db08b002d"
      },
      "execution_count": 96,
      "outputs": [
        {
          "output_type": "stream",
          "name": "stdout",
          "text": [
            "0\n",
            "1\n",
            "1\n",
            "2\n",
            "3\n",
            "5\n",
            "8\n",
            "13\n",
            "21\n",
            "34\n"
          ]
        }
      ]
    },
    {
      "cell_type": "code",
      "source": [
        "def count(n):\n",
        "  count=1\n",
        "  while count<=n:\n",
        "    yield count\n",
        "    count=count+1\n"
      ],
      "metadata": {
        "id": "_oMYOssOytOz"
      },
      "execution_count": 97,
      "outputs": []
    },
    {
      "cell_type": "code",
      "source": [
        "s1=count(9)\n",
        "for i in s1:\n",
        "  print(i)"
      ],
      "metadata": {
        "colab": {
          "base_uri": "https://localhost:8080/"
        },
        "id": "skEmWvVYy7Ud",
        "outputId": "5b032d50-1122-4dc4-cb3d-e1eecf43f989"
      },
      "execution_count": 98,
      "outputs": [
        {
          "output_type": "stream",
          "name": "stdout",
          "text": [
            "1\n",
            "2\n",
            "3\n",
            "4\n",
            "5\n",
            "6\n",
            "7\n",
            "8\n",
            "9\n"
          ]
        }
      ]
    },
    {
      "cell_type": "code",
      "source": [
        "# how for loop internally work:\n",
        "s=\"akshay\"\n",
        "for i in s:\n",
        "  print(i)"
      ],
      "metadata": {
        "colab": {
          "base_uri": "https://localhost:8080/"
        },
        "id": "uGQ9rdfNvW_X",
        "outputId": "853a4ecd-f3b8-45bd-ae42-2fcb0059772f"
      },
      "execution_count": 100,
      "outputs": [
        {
          "output_type": "stream",
          "name": "stdout",
          "text": [
            "a\n",
            "k\n",
            "s\n",
            "h\n",
            "a\n",
            "y\n"
          ]
        }
      ]
    },
    {
      "cell_type": "code",
      "source": [
        "next(s)"
      ],
      "metadata": {
        "colab": {
          "base_uri": "https://localhost:8080/",
          "height": 176
        },
        "id": "jcvcDpztvXCC",
        "outputId": "4d376b0a-6b69-4f6f-e693-14193b9cae70"
      },
      "execution_count": 101,
      "outputs": [
        {
          "output_type": "error",
          "ename": "TypeError",
          "evalue": "'str' object is not an iterator",
          "traceback": [
            "\u001b[0;31m---------------------------------------------------------------------------\u001b[0m",
            "\u001b[0;31mTypeError\u001b[0m                                 Traceback (most recent call last)",
            "\u001b[0;32m<ipython-input-101-61c30b5fe1d5>\u001b[0m in \u001b[0;36m<cell line: 1>\u001b[0;34m()\u001b[0m\n\u001b[0;32m----> 1\u001b[0;31m \u001b[0mnext\u001b[0m\u001b[0;34m(\u001b[0m\u001b[0ms\u001b[0m\u001b[0;34m)\u001b[0m\u001b[0;34m\u001b[0m\u001b[0;34m\u001b[0m\u001b[0m\n\u001b[0m",
            "\u001b[0;31mTypeError\u001b[0m: 'str' object is not an iterator"
          ]
        }
      ]
    },
    {
      "cell_type": "code",
      "source": [
        "s1=iter(s)"
      ],
      "metadata": {
        "id": "vEOUD-B5vXFd"
      },
      "execution_count": 102,
      "outputs": []
    },
    {
      "cell_type": "code",
      "source": [
        "next(s1)"
      ],
      "metadata": {
        "colab": {
          "base_uri": "https://localhost:8080/",
          "height": 35
        },
        "id": "uTZKPFiYw9u3",
        "outputId": "4a56399c-0dab-4dd9-93a5-ca4219be5a4b"
      },
      "execution_count": 103,
      "outputs": [
        {
          "output_type": "execute_result",
          "data": {
            "text/plain": [
              "'a'"
            ],
            "application/vnd.google.colaboratory.intrinsic+json": {
              "type": "string"
            }
          },
          "metadata": {},
          "execution_count": 103
        }
      ]
    },
    {
      "cell_type": "code",
      "source": [
        "next(s1)"
      ],
      "metadata": {
        "colab": {
          "base_uri": "https://localhost:8080/",
          "height": 35
        },
        "id": "PNdelotJw_gk",
        "outputId": "29af9196-2c89-4075-e29f-ad8934ca598f"
      },
      "execution_count": 104,
      "outputs": [
        {
          "output_type": "execute_result",
          "data": {
            "text/plain": [
              "'k'"
            ],
            "application/vnd.google.colaboratory.intrinsic+json": {
              "type": "string"
            }
          },
          "metadata": {},
          "execution_count": 104
        }
      ]
    },
    {
      "cell_type": "code",
      "source": [
        "next(s1)"
      ],
      "metadata": {
        "colab": {
          "base_uri": "https://localhost:8080/",
          "height": 35
        },
        "id": "g6-JNwhixDgk",
        "outputId": "cc45a8f9-1f2f-4159-83f8-4f34de4a4279"
      },
      "execution_count": 105,
      "outputs": [
        {
          "output_type": "execute_result",
          "data": {
            "text/plain": [
              "'s'"
            ],
            "application/vnd.google.colaboratory.intrinsic+json": {
              "type": "string"
            }
          },
          "metadata": {},
          "execution_count": 105
        }
      ]
    },
    {
      "cell_type": "code",
      "source": [
        "next(s1)"
      ],
      "metadata": {
        "colab": {
          "base_uri": "https://localhost:8080/",
          "height": 35
        },
        "id": "-ynBQA-YxE_u",
        "outputId": "030d00ee-b291-43a9-83c4-8ab2a193fbf0"
      },
      "execution_count": 106,
      "outputs": [
        {
          "output_type": "execute_result",
          "data": {
            "text/plain": [
              "'h'"
            ],
            "application/vnd.google.colaboratory.intrinsic+json": {
              "type": "string"
            }
          },
          "metadata": {},
          "execution_count": 106
        }
      ]
    },
    {
      "cell_type": "markdown",
      "source": [
        "**MAP,REDUCE,FILLITER**"
      ],
      "metadata": {
        "id": "2cctDn1m5rXX"
      }
    },
    {
      "cell_type": "code",
      "source": [
        "l=[12,13,14,1,14]"
      ],
      "metadata": {
        "id": "j3lNsXlIxH_d"
      },
      "execution_count": 107,
      "outputs": []
    },
    {
      "cell_type": "code",
      "source": [
        "def sq(l):\n",
        "  l1=[]\n",
        "  for i in l:\n",
        "\n",
        "    l1.append(i**2)\n",
        "  return l1\n",
        "sq(l)"
      ],
      "metadata": {
        "colab": {
          "base_uri": "https://localhost:8080/"
        },
        "id": "2Vw70BZ25p0A",
        "outputId": "fbda8ad9-8539-44de-f48d-c28b8b04dfb9"
      },
      "execution_count": 108,
      "outputs": [
        {
          "output_type": "execute_result",
          "data": {
            "text/plain": [
              "[144, 169, 196, 1, 196]"
            ]
          },
          "metadata": {},
          "execution_count": 108
        }
      ]
    },
    {
      "cell_type": "markdown",
      "source": [
        "**map**"
      ],
      "metadata": {
        "id": "yduOyYL361PQ"
      }
    },
    {
      "cell_type": "code",
      "source": [
        "l=[12,13,14,1,14]"
      ],
      "metadata": {
        "id": "tgSvHV2U8BiL"
      },
      "execution_count": 109,
      "outputs": []
    },
    {
      "cell_type": "code",
      "source": [
        "def sq1(l1):\n",
        "  return l1**2"
      ],
      "metadata": {
        "id": "UbkusG5T5p2f"
      },
      "execution_count": 110,
      "outputs": []
    },
    {
      "cell_type": "code",
      "source": [
        "map(sq1,l)"
      ],
      "metadata": {
        "colab": {
          "base_uri": "https://localhost:8080/"
        },
        "id": "-_nnp6CU77Ap",
        "outputId": "c4eb1941-bd8e-476d-874e-4f225e686678"
      },
      "execution_count": 111,
      "outputs": [
        {
          "output_type": "execute_result",
          "data": {
            "text/plain": [
              "<map at 0x7e63cf66b010>"
            ]
          },
          "metadata": {},
          "execution_count": 111
        }
      ]
    },
    {
      "cell_type": "code",
      "source": [
        "list(map(sq1,l))"
      ],
      "metadata": {
        "colab": {
          "base_uri": "https://localhost:8080/"
        },
        "id": "ux0tytbN77EH",
        "outputId": "2f5f0e21-9d46-4dfe-b6ba-2127b917ea2f"
      },
      "execution_count": 112,
      "outputs": [
        {
          "output_type": "execute_result",
          "data": {
            "text/plain": [
              "[144, 169, 196, 1, 196]"
            ]
          },
          "metadata": {},
          "execution_count": 112
        }
      ]
    },
    {
      "cell_type": "code",
      "source": [
        "#by using lambda function\n",
        "list(map(lambda x:x**2,l))"
      ],
      "metadata": {
        "colab": {
          "base_uri": "https://localhost:8080/"
        },
        "id": "vHkrIDSt5p5D",
        "outputId": "6506a9f9-f4ed-436a-bb88-6ad5f7618c18"
      },
      "execution_count": 113,
      "outputs": [
        {
          "output_type": "execute_result",
          "data": {
            "text/plain": [
              "[144, 169, 196, 1, 196]"
            ]
          },
          "metadata": {},
          "execution_count": 113
        }
      ]
    },
    {
      "cell_type": "code",
      "source": [
        "l1=[1,2,3,4,5,6,]\n",
        "l2=[12,1,3,12,14,]\n",
        "list(map(lambda x,y:x+y,l1,l2))"
      ],
      "metadata": {
        "colab": {
          "base_uri": "https://localhost:8080/"
        },
        "id": "aLwwVJQO5p74",
        "outputId": "f32c881f-ef2a-496f-9b37-0a2050ea3927"
      },
      "execution_count": 114,
      "outputs": [
        {
          "output_type": "execute_result",
          "data": {
            "text/plain": [
              "[13, 3, 6, 16, 19]"
            ]
          },
          "metadata": {},
          "execution_count": 114
        }
      ]
    },
    {
      "cell_type": "code",
      "source": [
        "s=\"akshay\"\n",
        "list(map(lambda x:x.upper(),s))"
      ],
      "metadata": {
        "colab": {
          "base_uri": "https://localhost:8080/"
        },
        "id": "QCZSCabz5p-e",
        "outputId": "92772ac9-f708-4cb4-cfa4-e186bdd5a91b"
      },
      "execution_count": 116,
      "outputs": [
        {
          "output_type": "execute_result",
          "data": {
            "text/plain": [
              "['A', 'K', 'S', 'H', 'A', 'Y']"
            ]
          },
          "metadata": {},
          "execution_count": 116
        }
      ]
    },
    {
      "cell_type": "code",
      "source": [
        "s=\"akshay\"\n",
        "tuple(map(lambda x:x.upper(),s))"
      ],
      "metadata": {
        "colab": {
          "base_uri": "https://localhost:8080/"
        },
        "id": "258Tvmu85qA4",
        "outputId": "fb17091a-6fb3-4714-9769-c64fed922bce"
      },
      "execution_count": 117,
      "outputs": [
        {
          "output_type": "execute_result",
          "data": {
            "text/plain": [
              "('A', 'K', 'S', 'H', 'A', 'Y')"
            ]
          },
          "metadata": {},
          "execution_count": 117
        }
      ]
    },
    {
      "cell_type": "code",
      "source": [
        "#reduce\n",
        "from functools import reduce\n",
        "l3=[1,2,3,4,5,6,7,89]\n",
        "reduce(lambda x,y:x+y,l3)"
      ],
      "metadata": {
        "colab": {
          "base_uri": "https://localhost:8080/"
        },
        "id": "6bxSJotW5qDs",
        "outputId": "d4c2af45-d574-4344-b334-01827fab9c6c"
      },
      "execution_count": 118,
      "outputs": [
        {
          "output_type": "execute_result",
          "data": {
            "text/plain": [
              "117"
            ]
          },
          "metadata": {},
          "execution_count": 118
        }
      ]
    },
    {
      "cell_type": "code",
      "source": [
        "l3=[1,2,3,4,5,6,7,89]\n",
        "reduce(lambda x,y:x*y,l3)"
      ],
      "metadata": {
        "colab": {
          "base_uri": "https://localhost:8080/"
        },
        "id": "llxRpfmd5qGM",
        "outputId": "0a9ade66-bb17-481e-97d1-dcff2401a9d4"
      },
      "execution_count": 119,
      "outputs": [
        {
          "output_type": "execute_result",
          "data": {
            "text/plain": [
              "448560"
            ]
          },
          "metadata": {},
          "execution_count": 119
        }
      ]
    },
    {
      "cell_type": "code",
      "source": [
        "l3=[1,2,3,4,5,6,7,89]\n",
        "reduce(lambda x,y:x if x>y else y,l3)"
      ],
      "metadata": {
        "colab": {
          "base_uri": "https://localhost:8080/"
        },
        "id": "IK8cW1Qb5qJA",
        "outputId": "cf7c8839-9282-4ebb-b01e-5054d1b8e4d9"
      },
      "execution_count": 120,
      "outputs": [
        {
          "output_type": "execute_result",
          "data": {
            "text/plain": [
              "89"
            ]
          },
          "metadata": {},
          "execution_count": 120
        }
      ]
    },
    {
      "cell_type": "markdown",
      "source": [
        "**FILTER**"
      ],
      "metadata": {
        "id": "4v05H_m6Bu1T"
      }
    },
    {
      "cell_type": "code",
      "source": [
        "l2"
      ],
      "metadata": {
        "id": "wANlb9785qLL",
        "colab": {
          "base_uri": "https://localhost:8080/"
        },
        "outputId": "a4050888-c4c4-4663-ec4a-35ba61efd13f"
      },
      "execution_count": 121,
      "outputs": [
        {
          "output_type": "execute_result",
          "data": {
            "text/plain": [
              "[12, 1, 3, 12, 14]"
            ]
          },
          "metadata": {},
          "execution_count": 121
        }
      ]
    },
    {
      "cell_type": "code",
      "source": [
        "list(filter(lambda x:x%2==0,l2))"
      ],
      "metadata": {
        "id": "q-ChtgPR5qOp",
        "colab": {
          "base_uri": "https://localhost:8080/"
        },
        "outputId": "c4bd092e-2478-45ca-ca46-ca24da4d46ae"
      },
      "execution_count": 122,
      "outputs": [
        {
          "output_type": "execute_result",
          "data": {
            "text/plain": [
              "[12, 12, 14]"
            ]
          },
          "metadata": {},
          "execution_count": 122
        }
      ]
    },
    {
      "cell_type": "code",
      "source": [
        "list(filter(lambda x:x%2!=0,l2))"
      ],
      "metadata": {
        "colab": {
          "base_uri": "https://localhost:8080/"
        },
        "id": "U77C1lvXE-Gb",
        "outputId": "254e1955-951c-4a25-efb8-0b544357b4f1"
      },
      "execution_count": 123,
      "outputs": [
        {
          "output_type": "execute_result",
          "data": {
            "text/plain": [
              "[1, 3]"
            ]
          },
          "metadata": {},
          "execution_count": 123
        }
      ]
    },
    {
      "cell_type": "code",
      "source": [
        "list(filter(lambda x:x<0,l2))"
      ],
      "metadata": {
        "colab": {
          "base_uri": "https://localhost:8080/"
        },
        "id": "2DVzSVCDFBtr",
        "outputId": "96c9aac4-760b-4a55-f9d2-6433e4e1fbbc"
      },
      "execution_count": 124,
      "outputs": [
        {
          "output_type": "execute_result",
          "data": {
            "text/plain": [
              "[]"
            ]
          },
          "metadata": {},
          "execution_count": 124
        }
      ]
    },
    {
      "cell_type": "code",
      "source": [
        "list(filter(lambda x:x>0,l2))"
      ],
      "metadata": {
        "colab": {
          "base_uri": "https://localhost:8080/"
        },
        "id": "OJT78jVaFH_8",
        "outputId": "8f411a3a-d5a4-4445-ae2e-18df6bdce866"
      },
      "execution_count": 125,
      "outputs": [
        {
          "output_type": "execute_result",
          "data": {
            "text/plain": [
              "[12, 1, 3, 12, 14]"
            ]
          },
          "metadata": {},
          "execution_count": 125
        }
      ]
    },
    {
      "cell_type": "code",
      "source": [
        "l4=['akshay',\"kumar\",\"aneja\",\"jasmine\",\"goutam\"]"
      ],
      "metadata": {
        "id": "JnpcN3OkFNKI"
      },
      "execution_count": 128,
      "outputs": []
    },
    {
      "cell_type": "code",
      "source": [
        "list(filter(lambda x:len(x)>7,l4))"
      ],
      "metadata": {
        "colab": {
          "base_uri": "https://localhost:8080/"
        },
        "id": "hWLohiq2FZeG",
        "outputId": "518b36eb-2a87-4e3f-b664-ff70bdf00205"
      },
      "execution_count": 129,
      "outputs": [
        {
          "output_type": "execute_result",
          "data": {
            "text/plain": [
              "[]"
            ]
          },
          "metadata": {},
          "execution_count": 129
        }
      ]
    },
    {
      "cell_type": "code",
      "source": [],
      "metadata": {
        "id": "8xczDxFKFdh-"
      },
      "execution_count": 129,
      "outputs": []
    }
  ]
}