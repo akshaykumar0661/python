{
  "cells": [
    {
      "cell_type": "markdown",
      "source": [
        "# **Python - Data Structures**"
      ],
      "metadata": {
        "id": "XTYmYVZdXvjz"
      }
    },
    {
      "cell_type": "code",
      "execution_count": 1,
      "metadata": {
        "colab": {
          "base_uri": "https://localhost:8080/"
        },
        "id": "HmxfzI0TCzKq",
        "outputId": "7752bf97-d80a-430a-b02c-c8daebc8da73"
      },
      "outputs": [
        {
          "output_type": "stream",
          "name": "stdout",
          "text": [
            "3\n"
          ]
        }
      ],
      "source": [
        "#pr2,2.2\n",
        "a=15\n",
        "b=4\n",
        "print(a%b)"
      ]
    },
    {
      "cell_type": "code",
      "execution_count": 2,
      "metadata": {
        "colab": {
          "base_uri": "https://localhost:8080/"
        },
        "id": "0ZOvrSAIC042",
        "outputId": "383f650d-4fb3-460e-fa6c-37add9298bea"
      },
      "outputs": [
        {
          "output_type": "stream",
          "name": "stdout",
          "text": [
            "enter ur number 5\n",
            "5\n",
            "<class 'int'>\n"
          ]
        }
      ],
      "source": [
        "#pr2,2.3\n",
        "a=input(\"enter ur number \")\n",
        "a=int(a)\n",
        "print(a)\n",
        "print(type(a))"
      ]
    },
    {
      "cell_type": "code",
      "execution_count": 3,
      "metadata": {
        "colab": {
          "base_uri": "https://localhost:8080/"
        },
        "id": "EKKcqQf4khCh",
        "outputId": "ecdc731c-78b5-48b1-9927-d6d269dae9ca"
      },
      "outputs": [
        {
          "output_type": "stream",
          "name": "stdout",
          "text": [
            "False\n"
          ]
        }
      ],
      "source": [
        "#pr2,2.4\n",
        "a=43\n",
        "b=80\n",
        "print(a>b)"
      ]
    },
    {
      "cell_type": "code",
      "execution_count": 4,
      "metadata": {
        "colab": {
          "base_uri": "https://localhost:8080/"
        },
        "id": "0heGoi3NkhH-",
        "outputId": "33e171c5-bb21-435e-c7a1-b22cd421e67c"
      },
      "outputs": [
        {
          "output_type": "stream",
          "name": "stdout",
          "text": [
            "enter the number7\n",
            "enter the number5\n",
            "6.0\n"
          ]
        }
      ],
      "source": [
        "#pr2,2.5\n",
        "a=int(input(\"enter the number\"))\n",
        "b=int(input(\"enter the number\"))\n",
        "print((a+b)/2)"
      ]
    },
    {
      "cell_type": "code",
      "execution_count": 5,
      "metadata": {
        "colab": {
          "base_uri": "https://localhost:8080/"
        },
        "id": "1pkwPCeJkhR9",
        "outputId": "4174347a-18d5-44f9-ee51-43f7f513ef6f"
      },
      "outputs": [
        {
          "output_type": "stream",
          "name": "stdout",
          "text": [
            "enter the number20\n",
            "square of a is  400\n"
          ]
        }
      ],
      "source": [
        "#pr2,3.5\n",
        "a=int(input(\"enter the number\"))\n",
        "square=a*a\n",
        "print(\"square of a is \",square)"
      ]
    },
    {
      "cell_type": "markdown",
      "metadata": {
        "id": "xZttj5twm1h7"
      },
      "source": [
        "## **Python \"Strings\"**"
      ]
    },
    {
      "cell_type": "code",
      "execution_count": 6,
      "metadata": {
        "id": "4fD6lNzLkhX4"
      },
      "outputs": [],
      "source": [
        "# String is data type in python.sequence of character"
      ]
    },
    {
      "cell_type": "code",
      "execution_count": 7,
      "metadata": {
        "colab": {
          "base_uri": "https://localhost:8080/"
        },
        "id": "M_hjVcnLm_JN",
        "outputId": "5ce18b1f-2621-4825-9f46-aacde2dae18c"
      },
      "outputs": [
        {
          "output_type": "stream",
          "name": "stdout",
          "text": [
            "34 harry\n",
            "<class 'int'>\n",
            "<class 'str'>\n"
          ]
        }
      ],
      "source": [
        "a=34\n",
        "b=\"harry\"\n",
        "print(a,b)\n",
        "print(type(a))\n",
        "print(type(b))"
      ]
    },
    {
      "cell_type": "code",
      "execution_count": 8,
      "metadata": {
        "id": "vrTI-EYAoSem"
      },
      "outputs": [],
      "source": [
        "#String can be write in 3 ways"
      ]
    },
    {
      "cell_type": "code",
      "execution_count": 9,
      "metadata": {
        "id": "VHxJXtsnm_Nc"
      },
      "outputs": [],
      "source": [
        "b=\"Akshay's\""
      ]
    },
    {
      "cell_type": "code",
      "execution_count": 10,
      "metadata": {
        "id": "mSQxafJAm_j6"
      },
      "outputs": [],
      "source": [
        "b='Akshay\"s'"
      ]
    },
    {
      "cell_type": "code",
      "execution_count": 11,
      "metadata": {
        "id": "1ioIPk_em_re"
      },
      "outputs": [],
      "source": [
        "b='''Akshay\"s and Akshay's'''"
      ]
    },
    {
      "cell_type": "markdown",
      "metadata": {
        "id": "qZo8h1F_ockm"
      },
      "source": [
        "# String slicing"
      ]
    },
    {
      "cell_type": "code",
      "execution_count": 12,
      "metadata": {
        "colab": {
          "base_uri": "https://localhost:8080/"
        },
        "id": "rt6VAvpBm0DR",
        "outputId": "017d364f-f04f-46fd-b4ca-f3ca64fbd514"
      },
      "outputs": [
        {
          "output_type": "stream",
          "name": "stdout",
          "text": [
            "Good Morningharry\n",
            "Good Morningharry\n",
            "<class 'str'>\n"
          ]
        }
      ],
      "source": [
        "#concatenating two strings\n",
        "greeting=\"Good Morning\"\n",
        "name=\"harry\"\n",
        "print(greeting + name)\n",
        "c=greeting + name\n",
        "print(c)\n",
        "print(type(name))"
      ]
    },
    {
      "cell_type": "code",
      "execution_count": 13,
      "metadata": {
        "id": "cd2BZd-um0HN"
      },
      "outputs": [],
      "source": [
        "#index start from 0 in python"
      ]
    },
    {
      "cell_type": "code",
      "execution_count": 14,
      "metadata": {
        "colab": {
          "base_uri": "https://localhost:8080/"
        },
        "id": "M2y6Nv36m0LW",
        "outputId": "4ca39a0e-e393-4f1e-ed8c-336a4133d7be"
      },
      "outputs": [
        {
          "output_type": "stream",
          "name": "stdout",
          "text": [
            "H\n",
            "a\n",
            "r\n",
            "r\n",
            "y\n"
          ]
        }
      ],
      "source": [
        "name=\"Harry\"\n",
        "print(name[0])\n",
        "print(name[1])\n",
        "print(name[2])\n",
        "print(name[3])\n",
        "print(name[4])"
      ]
    },
    {
      "cell_type": "code",
      "execution_count": 15,
      "metadata": {
        "colab": {
          "base_uri": "https://localhost:8080/"
        },
        "id": "jHAOcDVxq1K1",
        "outputId": "54018d54-c27d-48b1-9cf5-414dbdc116b8"
      },
      "outputs": [
        {
          "output_type": "stream",
          "name": "stdout",
          "text": [
            "y\n",
            "r\n",
            "r\n",
            "a\n",
            "H\n"
          ]
        }
      ],
      "source": [
        "print(name[-1])\n",
        "print(name[-2])\n",
        "print(name[-3])\n",
        "print(name[-4])\n",
        "print(name[-5])"
      ]
    },
    {
      "cell_type": "code",
      "execution_count": 16,
      "metadata": {
        "id": "bgo41Z34m0Pg",
        "colab": {
          "base_uri": "https://localhost:8080/",
          "height": 176
        },
        "outputId": "2ea24225-9bb2-4b78-86a7-5bada827fc3b"
      },
      "outputs": [
        {
          "output_type": "error",
          "ename": "IndexError",
          "evalue": "string index out of range",
          "traceback": [
            "\u001b[0;31m---------------------------------------------------------------------------\u001b[0m",
            "\u001b[0;31mIndexError\u001b[0m                                Traceback (most recent call last)",
            "\u001b[0;32m<ipython-input-16-402717e47358>\u001b[0m in \u001b[0;36m<cell line: 1>\u001b[0;34m()\u001b[0m\n\u001b[0;32m----> 1\u001b[0;31m \u001b[0mprint\u001b[0m\u001b[0;34m(\u001b[0m\u001b[0mname\u001b[0m\u001b[0;34m[\u001b[0m\u001b[0;36m5\u001b[0m\u001b[0;34m]\u001b[0m\u001b[0;34m)\u001b[0m \u001b[0;31m#not give any things bcz it does not have any chracter\u001b[0m\u001b[0;34m\u001b[0m\u001b[0;34m\u001b[0m\u001b[0m\n\u001b[0m",
            "\u001b[0;31mIndexError\u001b[0m: string index out of range"
          ]
        }
      ],
      "source": [
        "print(name[5]) #not give any things bcz it does not have any chracter"
      ]
    },
    {
      "cell_type": "code",
      "execution_count": 17,
      "metadata": {
        "id": "0TYVveg4m0Td",
        "colab": {
          "base_uri": "https://localhost:8080/",
          "height": 176
        },
        "outputId": "2fada479-27d5-4b1f-98c2-8881eb68eb64"
      },
      "outputs": [
        {
          "output_type": "error",
          "ename": "TypeError",
          "evalue": "'str' object does not support item assignment",
          "traceback": [
            "\u001b[0;31m---------------------------------------------------------------------------\u001b[0m",
            "\u001b[0;31mTypeError\u001b[0m                                 Traceback (most recent call last)",
            "\u001b[0;32m<ipython-input-17-f21efe00bb79>\u001b[0m in \u001b[0;36m<cell line: 1>\u001b[0;34m()\u001b[0m\n\u001b[0;32m----> 1\u001b[0;31m \u001b[0mname\u001b[0m\u001b[0;34m[\u001b[0m\u001b[0;36m3\u001b[0m\u001b[0;34m]\u001b[0m\u001b[0;34m=\u001b[0m\u001b[0;34m\"d\"\u001b[0m \u001b[0;31m# string can be acces but cannot be changed\u001b[0m\u001b[0;34m\u001b[0m\u001b[0;34m\u001b[0m\u001b[0m\n\u001b[0m",
            "\u001b[0;31mTypeError\u001b[0m: 'str' object does not support item assignment"
          ]
        }
      ],
      "source": [
        "name[3]=\"d\" # string can be acces but cannot be changed"
      ]
    },
    {
      "cell_type": "code",
      "execution_count": 18,
      "metadata": {
        "colab": {
          "base_uri": "https://localhost:8080/"
        },
        "id": "a-OnaZKrm0du",
        "outputId": "26b5a7f5-809b-42da-f6eb-3286af687b39"
      },
      "outputs": [
        {
          "output_type": "stream",
          "name": "stdout",
          "text": [
            "Har\n"
          ]
        }
      ],
      "source": [
        "print(name[0:3]) # 0 is included and 3 is exculeded it cannot be changed"
      ]
    },
    {
      "cell_type": "code",
      "execution_count": 19,
      "metadata": {
        "colab": {
          "base_uri": "https://localhost:8080/"
        },
        "id": "Me706r5Pm0h8",
        "outputId": "a339b5a8-6992-47a4-b779-0bbc40845d9c"
      },
      "outputs": [
        {
          "output_type": "stream",
          "name": "stdout",
          "text": [
            "Harr\n"
          ]
        }
      ],
      "source": [
        "print(name[0:4]) # 0 is included and 4 is exculeded it cannot be changed"
      ]
    },
    {
      "cell_type": "code",
      "execution_count": 20,
      "metadata": {
        "colab": {
          "base_uri": "https://localhost:8080/"
        },
        "id": "0DYKkuoYC08J",
        "outputId": "4e10b995-80a7-4544-a549-9299ac1a8f5a"
      },
      "outputs": [
        {
          "output_type": "stream",
          "name": "stdout",
          "text": [
            "arr\n"
          ]
        }
      ],
      "source": [
        "print(name[1:4]) # 1 is included and 4 is exculeded it cannot be changed"
      ]
    },
    {
      "cell_type": "code",
      "execution_count": 21,
      "metadata": {
        "colab": {
          "base_uri": "https://localhost:8080/"
        },
        "id": "ipVO3vQwsJ8O",
        "outputId": "a4675028-7717-4386-bd79-011fd0c999b7"
      },
      "outputs": [
        {
          "output_type": "stream",
          "name": "stdout",
          "text": [
            "Harr\n"
          ]
        }
      ],
      "source": [
        "print(name[:4]) # is same as name[0:4]"
      ]
    },
    {
      "cell_type": "code",
      "execution_count": 22,
      "metadata": {
        "colab": {
          "base_uri": "https://localhost:8080/"
        },
        "id": "OV0JHGgIsKBW",
        "outputId": "a0f0eba1-5e4a-436c-b722-933d28d4e131"
      },
      "outputs": [
        {
          "output_type": "stream",
          "name": "stdout",
          "text": [
            "arry\n"
          ]
        }
      ],
      "source": [
        "print(name[1:])# is same as name[1:5]"
      ]
    },
    {
      "cell_type": "code",
      "execution_count": 23,
      "metadata": {
        "colab": {
          "base_uri": "https://localhost:8080/"
        },
        "id": "NExksifhsKGh",
        "outputId": "eb3b9568-1cb6-4fcb-dd02-6e290096bc7c"
      },
      "outputs": [
        {
          "output_type": "stream",
          "name": "stdout",
          "text": [
            "Harry\n"
          ]
        }
      ],
      "source": [
        "print(name[:])#is same as name[0:5]"
      ]
    },
    {
      "cell_type": "markdown",
      "metadata": {
        "id": "2IvxnpkAsysW"
      },
      "source": [
        "# Negtive indexing"
      ]
    },
    {
      "cell_type": "code",
      "execution_count": 24,
      "metadata": {
        "colab": {
          "base_uri": "https://localhost:8080/",
          "height": 35
        },
        "id": "CPmPR_Y9rG8D",
        "outputId": "47e12253-0153-4450-d556-abe6ce899090"
      },
      "outputs": [
        {
          "output_type": "execute_result",
          "data": {
            "text/plain": [
              "'why we use negtive indix,bcz if do not know the length of indix so that we want to acess it .\\nwe can say if you want to acess last element '"
            ],
            "application/vnd.google.colaboratory.intrinsic+json": {
              "type": "string"
            }
          },
          "metadata": {},
          "execution_count": 24
        }
      ],
      "source": [
        "'''why we use negtive indix,bcz if do not know the length of indix so that we want to acess it .\n",
        "we can say if you want to acess last element '''"
      ]
    },
    {
      "cell_type": "code",
      "execution_count": 25,
      "metadata": {
        "colab": {
          "base_uri": "https://localhost:8080/",
          "height": 35
        },
        "id": "S8_Yp5gGrj8Q",
        "outputId": "9e4ab7c0-394f-44c4-c387-c9f4750ed48f"
      },
      "outputs": [
        {
          "output_type": "execute_result",
          "data": {
            "text/plain": [
              "'Harry'"
            ],
            "application/vnd.google.colaboratory.intrinsic+json": {
              "type": "string"
            }
          },
          "metadata": {},
          "execution_count": 25
        }
      ],
      "source": [
        "name[:]"
      ]
    },
    {
      "cell_type": "code",
      "execution_count": 26,
      "metadata": {
        "colab": {
          "base_uri": "https://localhost:8080/"
        },
        "id": "pbEGhjmwrkBd",
        "outputId": "da958220-248d-4b3e-c5c6-ca1f1d2c6cef"
      },
      "outputs": [
        {
          "output_type": "stream",
          "name": "stdout",
          "text": [
            "arr\n"
          ]
        }
      ],
      "source": [
        "print(name[-4:-1])"
      ]
    },
    {
      "cell_type": "markdown",
      "metadata": {
        "id": "Nm59t9rVtYWi"
      },
      "source": [
        "# Slicing with skip value"
      ]
    },
    {
      "cell_type": "code",
      "execution_count": 27,
      "metadata": {
        "colab": {
          "base_uri": "https://localhost:8080/",
          "height": 35
        },
        "id": "ywiuAAu2rkIb",
        "outputId": "74dc3d07-46d1-434f-af2f-c5c0f7412ee6"
      },
      "outputs": [
        {
          "output_type": "execute_result",
          "data": {
            "text/plain": [
              "'arr'"
            ],
            "application/vnd.google.colaboratory.intrinsic+json": {
              "type": "string"
            }
          },
          "metadata": {},
          "execution_count": 27
        }
      ],
      "source": [
        "name=\"HarryIsGood\"\n",
        "d=name[1:4:1]\n",
        "d"
      ]
    },
    {
      "cell_type": "code",
      "execution_count": 28,
      "metadata": {
        "colab": {
          "base_uri": "https://localhost:8080/",
          "height": 35
        },
        "id": "QgxpKOwGrHBA",
        "outputId": "790c8551-64c1-4807-c253-b2a6a017a038"
      },
      "outputs": [
        {
          "output_type": "execute_result",
          "data": {
            "text/plain": [
              "'arIGo'"
            ],
            "application/vnd.google.colaboratory.intrinsic+json": {
              "type": "string"
            }
          },
          "metadata": {},
          "execution_count": 28
        }
      ],
      "source": [
        "d=name[1::2]\n",
        "d\n"
      ]
    },
    {
      "cell_type": "code",
      "execution_count": 29,
      "metadata": {
        "colab": {
          "base_uri": "https://localhost:8080/",
          "height": 35
        },
        "id": "obRCAk9zrHGK",
        "outputId": "de633289-8de1-4343-d89e-4fbc2810fbda"
      },
      "outputs": [
        {
          "output_type": "execute_result",
          "data": {
            "text/plain": [
              "'HarryIsGood'"
            ],
            "application/vnd.google.colaboratory.intrinsic+json": {
              "type": "string"
            }
          },
          "metadata": {},
          "execution_count": 29
        }
      ],
      "source": [
        "d=name[::1]\n",
        "d\n"
      ]
    },
    {
      "cell_type": "code",
      "execution_count": 30,
      "metadata": {
        "colab": {
          "base_uri": "https://localhost:8080/",
          "height": 35
        },
        "id": "4eSgKZPFrg6t",
        "outputId": "08253368-09fb-455f-b2fa-f0d97093486c"
      },
      "outputs": [
        {
          "output_type": "execute_result",
          "data": {
            "text/plain": [
              "'Hrysod'"
            ],
            "application/vnd.google.colaboratory.intrinsic+json": {
              "type": "string"
            }
          },
          "metadata": {},
          "execution_count": 30
        }
      ],
      "source": [
        "d=name[::2]\n",
        "d\n"
      ]
    },
    {
      "cell_type": "markdown",
      "metadata": {
        "id": "BRU9Iu5wubaC"
      },
      "source": [
        "# #String function"
      ]
    },
    {
      "cell_type": "code",
      "execution_count": 31,
      "metadata": {
        "id": "yayckqCcrg_v"
      },
      "outputs": [],
      "source": [
        "story=\"Once upon a time there was a youtuber named Harry who uploaded python course with notes\""
      ]
    },
    {
      "cell_type": "code",
      "execution_count": 32,
      "metadata": {
        "colab": {
          "base_uri": "https://localhost:8080/"
        },
        "id": "yT399VWouOh-",
        "outputId": "dc638be1-647e-4456-fe97-fd1910b8a40d"
      },
      "outputs": [
        {
          "output_type": "stream",
          "name": "stdout",
          "text": [
            "Once \n"
          ]
        }
      ],
      "source": [
        "print(story[0:5])"
      ]
    },
    {
      "cell_type": "code",
      "execution_count": 32,
      "metadata": {
        "id": "ynhYR6a_wSF4"
      },
      "outputs": [],
      "source": []
    },
    {
      "cell_type": "markdown",
      "metadata": {
        "id": "1U8w_EaZwSwp"
      },
      "source": [
        "# len"
      ]
    },
    {
      "cell_type": "code",
      "execution_count": 33,
      "metadata": {
        "colab": {
          "base_uri": "https://localhost:8080/"
        },
        "id": "DSmFIgG_uOnN",
        "outputId": "89b252de-c38d-4333-87ba-b4f721bc3749"
      },
      "outputs": [
        {
          "output_type": "stream",
          "name": "stdout",
          "text": [
            "87\n"
          ]
        }
      ],
      "source": [
        "#len Function,it a total lenth of charcter\n",
        "print(len(story))"
      ]
    },
    {
      "cell_type": "code",
      "execution_count": 33,
      "metadata": {
        "id": "3LuFSM59wMEH"
      },
      "outputs": [],
      "source": []
    },
    {
      "cell_type": "markdown",
      "metadata": {
        "id": "HHC4ujQZwMzy"
      },
      "source": [
        "# endswith"
      ]
    },
    {
      "cell_type": "code",
      "execution_count": 34,
      "metadata": {
        "colab": {
          "base_uri": "https://localhost:8080/"
        },
        "id": "QTYN8uaIuOuB",
        "outputId": "21c5fc4c-1f47-4aaf-e115-c4fd01b2b537"
      },
      "outputs": [
        {
          "output_type": "stream",
          "name": "stdout",
          "text": [
            "True\n"
          ]
        }
      ],
      "source": [
        "#endswith,it return true or flase and cheack that string is finshed with that character or not.\n",
        "print(story.endswith(\"notes\"))\n"
      ]
    },
    {
      "cell_type": "code",
      "execution_count": 35,
      "metadata": {
        "colab": {
          "base_uri": "https://localhost:8080/"
        },
        "id": "KTm6ol-BuOzH",
        "outputId": "a36a3128-51c2-4d3b-f614-83ebc2b63378"
      },
      "outputs": [
        {
          "output_type": "stream",
          "name": "stdout",
          "text": [
            "False\n"
          ]
        }
      ],
      "source": [
        "print(story.endswith(\"sfsfef\"))\n"
      ]
    },
    {
      "cell_type": "code",
      "execution_count": 37,
      "metadata": {
        "colab": {
          "base_uri": "https://localhost:8080/"
        },
        "id": "4VQuE_vLuO3d",
        "outputId": "8aa073ac-c45a-487d-c100-243553939825"
      },
      "outputs": [
        {
          "output_type": "stream",
          "name": "stdout",
          "text": [
            "True\n",
            "True\n",
            "True\n",
            "True\n",
            "True\n",
            "False\n"
          ]
        }
      ],
      "source": [
        "print(story.endswith(\"s\"))\n",
        "print(story.endswith(\"es\"))\n",
        "print(story.endswith(\"tes\"))\n",
        "print(story.endswith(\"otes\"))\n",
        "print(story.endswith(\"notes\"))\n",
        "print(story.endswith(\"not_es\"))\n"
      ]
    },
    {
      "cell_type": "markdown",
      "metadata": {
        "id": "9Ivvw-j-wXZN"
      },
      "source": [
        "# Count"
      ]
    },
    {
      "cell_type": "code",
      "execution_count": 38,
      "metadata": {
        "id": "AsAbIelmxEem"
      },
      "outputs": [],
      "source": [
        "story=\"Once upon a time there was a youtuber named Harry who uploaded python course with notes upon\""
      ]
    },
    {
      "cell_type": "code",
      "execution_count": 39,
      "metadata": {
        "colab": {
          "base_uri": "https://localhost:8080/"
        },
        "id": "b3w-Qla4uPWW",
        "outputId": "7dd5b235-eea8-4d4f-e7ec-32c1cc4956b0"
      },
      "outputs": [
        {
          "output_type": "stream",
          "name": "stdout",
          "text": [
            "6\n"
          ]
        }
      ],
      "source": [
        "#count the charcter or world\n",
        "print(story.count(\"a\"))"
      ]
    },
    {
      "cell_type": "code",
      "execution_count": 40,
      "metadata": {
        "colab": {
          "base_uri": "https://localhost:8080/"
        },
        "id": "eMgqh7LMuPbS",
        "outputId": "ec6e0911-341f-4012-dbb5-676670465b25"
      },
      "outputs": [
        {
          "output_type": "stream",
          "name": "stdout",
          "text": [
            "1\n"
          ]
        }
      ],
      "source": [
        "print(story.count(\"course\"))"
      ]
    },
    {
      "cell_type": "code",
      "execution_count": 41,
      "metadata": {
        "colab": {
          "base_uri": "https://localhost:8080/"
        },
        "id": "d6Yp9P4-rhEx",
        "outputId": "52f755fb-9faf-42f4-a5d8-4f14312b4a6e"
      },
      "outputs": [
        {
          "output_type": "stream",
          "name": "stdout",
          "text": [
            "1\n"
          ]
        }
      ],
      "source": [
        "print(story.count(\"wa\"))"
      ]
    },
    {
      "cell_type": "code",
      "execution_count": 42,
      "metadata": {
        "colab": {
          "base_uri": "https://localhost:8080/"
        },
        "id": "aECpq1q9rhLB",
        "outputId": "f739248b-beeb-44f3-cfe7-b3389c0703fe"
      },
      "outputs": [
        {
          "output_type": "stream",
          "name": "stdout",
          "text": [
            "2\n"
          ]
        }
      ],
      "source": [
        "print(story.count(\"upon\"))"
      ]
    },
    {
      "cell_type": "markdown",
      "metadata": {
        "id": "GG9n50nFxT3x"
      },
      "source": [
        "## *Captalize*"
      ]
    },
    {
      "cell_type": "code",
      "execution_count": 48,
      "metadata": {
        "colab": {
          "base_uri": "https://localhost:8080/"
        },
        "id": "cYJRbzWNrhQE",
        "outputId": "ece47fb7-795f-4246-fe49-71928a747534"
      },
      "outputs": [
        {
          "output_type": "stream",
          "name": "stdout",
          "text": [
            "Once upon a time there was a youtuber named harry who uploaded python course with notes upon\n"
          ]
        }
      ],
      "source": [
        "#It capitalize the first character\n",
        "print(story.capitalize())"
      ]
    },
    {
      "cell_type": "code",
      "execution_count": 49,
      "metadata": {
        "colab": {
          "base_uri": "https://localhost:8080/",
          "height": 193
        },
        "id": "02RB-OcZrhUO",
        "outputId": "ce525ddd-1b63-4dc4-ea62-dfca894225a7"
      },
      "outputs": [
        {
          "output_type": "error",
          "ename": "TypeError",
          "evalue": "str.capitalize() takes no arguments (1 given)",
          "traceback": [
            "\u001b[0;31m---------------------------------------------------------------------------\u001b[0m",
            "\u001b[0;31mTypeError\u001b[0m                                 Traceback (most recent call last)",
            "\u001b[0;32m<ipython-input-49-a5b872e9d147>\u001b[0m in \u001b[0;36m<cell line: 2>\u001b[0;34m()\u001b[0m\n\u001b[1;32m      1\u001b[0m \u001b[0;31m#It will throw error\u001b[0m\u001b[0;34m\u001b[0m\u001b[0;34m\u001b[0m\u001b[0m\n\u001b[0;32m----> 2\u001b[0;31m \u001b[0mprint\u001b[0m\u001b[0;34m(\u001b[0m\u001b[0mstory\u001b[0m\u001b[0;34m.\u001b[0m\u001b[0mcapitalize\u001b[0m\u001b[0;34m(\u001b[0m\u001b[0;34m\"uaad\"\u001b[0m\u001b[0;34m)\u001b[0m\u001b[0;34m)\u001b[0m\u001b[0;34m\u001b[0m\u001b[0;34m\u001b[0m\u001b[0m\n\u001b[0m",
            "\u001b[0;31mTypeError\u001b[0m: str.capitalize() takes no arguments (1 given)"
          ]
        }
      ],
      "source": [
        "#It will throw error\n",
        "print(story.capitalize(\"uaad\"))"
      ]
    },
    {
      "cell_type": "markdown",
      "metadata": {
        "id": "HV9JT0imxUl7"
      },
      "source": [
        "# Find"
      ]
    },
    {
      "cell_type": "code",
      "execution_count": 50,
      "metadata": {
        "colab": {
          "base_uri": "https://localhost:8080/"
        },
        "id": "qTQuP47trhYC",
        "outputId": "c026078f-d74b-4a90-af39-4ad9d98819e3"
      },
      "outputs": [
        {
          "output_type": "stream",
          "name": "stdout",
          "text": [
            "-1\n"
          ]
        }
      ],
      "source": [
        "#it find the string and return -1 if string is not present and if present then return the index of fist occurance of that word\n",
        "print(story.find(\"uaad\"))"
      ]
    },
    {
      "cell_type": "code",
      "execution_count": 51,
      "metadata": {
        "colab": {
          "base_uri": "https://localhost:8080/"
        },
        "id": "V9UKStCLrhbS",
        "outputId": "cd4fc79c-3826-492f-c58c-43a04d5f9940"
      },
      "outputs": [
        {
          "output_type": "stream",
          "name": "stdout",
          "text": [
            "-1\n"
          ]
        }
      ],
      "source": [
        "print(story.find(\"once\"))"
      ]
    },
    {
      "cell_type": "code",
      "execution_count": 52,
      "metadata": {
        "colab": {
          "base_uri": "https://localhost:8080/"
        },
        "id": "0tbIKU2Prhe8",
        "outputId": "c2dbcc53-3fa9-4720-f3df-5e88133a9b41"
      },
      "outputs": [
        {
          "output_type": "stream",
          "name": "stdout",
          "text": [
            "0\n"
          ]
        }
      ],
      "source": [
        "\n",
        "print(story.find(\"Once\"))"
      ]
    },
    {
      "cell_type": "code",
      "execution_count": 53,
      "metadata": {
        "colab": {
          "base_uri": "https://localhost:8080/"
        },
        "id": "wI2IDCu4rhqo",
        "outputId": "8bff3007-cfee-4ffa-9703-9c6376745375"
      },
      "outputs": [
        {
          "output_type": "stream",
          "name": "stdout",
          "text": [
            "5\n"
          ]
        }
      ],
      "source": [
        "print(story.find(\"upon\"))"
      ]
    },
    {
      "cell_type": "markdown",
      "metadata": {
        "id": "9B0Lm6VzyLpg"
      },
      "source": [
        "## replace"
      ]
    },
    {
      "cell_type": "code",
      "execution_count": 54,
      "metadata": {
        "colab": {
          "base_uri": "https://localhost:8080/"
        },
        "id": "GNqKYT0ZrhyA",
        "outputId": "c4cd62cb-d5c6-4baa-b86f-fe6e9d34db32"
      },
      "outputs": [
        {
          "output_type": "stream",
          "name": "stdout",
          "text": [
            "sunil upon a time there was a youtuber named Harry who uploaded python course with notes upon\n"
          ]
        }
      ],
      "source": [
        "#replace old word with new word\n",
        "print(story.replace(\"Once\",\"sunil\"))"
      ]
    },
    {
      "cell_type": "code",
      "execution_count": 55,
      "metadata": {
        "colab": {
          "base_uri": "https://localhost:8080/"
        },
        "id": "hTyngfgyyJOx",
        "outputId": "68ee0d42-c68b-4dbc-8698-99eee4ab5a02"
      },
      "outputs": [
        {
          "output_type": "stream",
          "name": "stdout",
          "text": [
            "sssbbbsscccddd\n"
          ]
        }
      ],
      "source": [
        "a=\"aaabbbaacccddd\"\n",
        "print(a.replace(\"a\",\"s\"))"
      ]
    },
    {
      "cell_type": "code",
      "execution_count": 56,
      "metadata": {
        "colab": {
          "base_uri": "https://localhost:8080/"
        },
        "id": "Fs7hq-ZAyJUA",
        "outputId": "f8959689-ecf9-4a4a-b48f-97393629f4a6"
      },
      "outputs": [
        {
          "output_type": "stream",
          "name": "stdout",
          "text": [
            "saabbbaacccddd\n"
          ]
        }
      ],
      "source": [
        "print(a.replace(\"a\",\"s\",1))"
      ]
    },
    {
      "cell_type": "code",
      "execution_count": 57,
      "metadata": {
        "colab": {
          "base_uri": "https://localhost:8080/"
        },
        "id": "o9DCY8z-yJZl",
        "outputId": "169a6662-f526-4a66-b836-ac650bf0ba9d"
      },
      "outputs": [
        {
          "output_type": "stream",
          "name": "stdout",
          "text": [
            "sssbbbaacccddd\n"
          ]
        }
      ],
      "source": [
        "print(a.replace(\"a\",\"s\",3))"
      ]
    },
    {
      "cell_type": "markdown",
      "metadata": {
        "id": "iDDfX_1-y_Qf"
      },
      "source": [
        "# Escape Sequence Character"
      ]
    },
    {
      "cell_type": "code",
      "execution_count": 58,
      "metadata": {
        "colab": {
          "base_uri": "https://localhost:8080/"
        },
        "id": "8YP5LQfGrh1a",
        "outputId": "cfb48914-e43a-4bd4-f353-52b825d01eb5"
      },
      "outputs": [
        {
          "output_type": "stream",
          "name": "stdout",
          "text": [
            "Harry is good.\n",
            "he is very good\n"
          ]
        }
      ],
      "source": [
        "story=\"Harry is good.\\nhe is very good\"#\\n new line\n",
        "print(story)"
      ]
    },
    {
      "cell_type": "code",
      "execution_count": 59,
      "metadata": {
        "colab": {
          "base_uri": "https://localhost:8080/"
        },
        "id": "INTwDCCFy4WQ",
        "outputId": "136191bd-da98-4994-a22c-91acfa9f5626"
      },
      "outputs": [
        {
          "output_type": "stream",
          "name": "stdout",
          "text": [
            "Harry is good.\the is very good\n"
          ]
        }
      ],
      "source": [
        "story=\"Harry is good.\\the is very good\" #\\t give space\n",
        "print(story)"
      ]
    },
    {
      "cell_type": "code",
      "execution_count": 60,
      "metadata": {
        "colab": {
          "base_uri": "https://localhost:8080/"
        },
        "id": "5RFgjwaWy4dd",
        "outputId": "45cc1f3c-a3d6-4a8b-92e3-9c901f32cdeb"
      },
      "outputs": [
        {
          "output_type": "stream",
          "name": "stdout",
          "text": [
            "Harry is good.'he is very good\n"
          ]
        }
      ],
      "source": [
        "story=\"Harry is good.\\'he is very good\" #\\'\n",
        "print(story)"
      ]
    },
    {
      "cell_type": "code",
      "execution_count": 61,
      "metadata": {
        "colab": {
          "base_uri": "https://localhost:8080/"
        },
        "id": "LXVksoNCy4i0",
        "outputId": "5967bdf3-3dcb-4144-a768-5d1d0f0f0955"
      },
      "outputs": [
        {
          "output_type": "stream",
          "name": "stdout",
          "text": [
            "Harry is good.\\he is very good\n"
          ]
        }
      ],
      "source": [
        "story=\"Harry is good.\\\\he is very good\"# \\\\\n",
        "print(story)"
      ]
    },
    {
      "cell_type": "markdown",
      "metadata": {
        "id": "DgidhI450XuU"
      },
      "source": [
        "# Practies set"
      ]
    },
    {
      "cell_type": "code",
      "execution_count": 62,
      "metadata": {
        "colab": {
          "base_uri": "https://localhost:8080/"
        },
        "id": "RKHMkofuy45E",
        "outputId": "bd7bfd6b-b0bb-4ed0-8cd2-b71169953638"
      },
      "outputs": [
        {
          "output_type": "stream",
          "name": "stdout",
          "text": [
            "enter your name \n",
            "\n",
            "Good Morning\n"
          ]
        }
      ],
      "source": [
        "#pr3,3.1\n",
        "name=input(\"enter your name \\n\")\n",
        "greet=\"Good Morning\"\n",
        "print(name +greet)"
      ]
    },
    {
      "cell_type": "code",
      "execution_count": 63,
      "metadata": {
        "colab": {
          "base_uri": "https://localhost:8080/"
        },
        "id": "4rGfrExJ0TyV",
        "outputId": "81376083-3fbd-4a0d-d421-c525d2b42793"
      },
      "outputs": [
        {
          "output_type": "stream",
          "name": "stdout",
          "text": [
            "enter your name\n",
            "\n",
            "enter your Date\n",
            "\n",
            " Dear ,\n",
            "           You are Selected !!!\n",
            "            \n"
          ]
        }
      ],
      "source": [
        "#pr3,3.2\n",
        "letter=''' Dear <|NAME|>,\n",
        "           You are Selected !!!\n",
        "           <|DATE|> '''\n",
        "name=input(\"enter your name\\n\")\n",
        "date=input(\"enter your Date\\n\")\n",
        "letter=letter.replace(\"<|NAME|>\",name)\n",
        "letter=letter.replace(\"<|DATE|>\",date)\n",
        "print(letter)"
      ]
    },
    {
      "cell_type": "code",
      "execution_count": 64,
      "metadata": {
        "colab": {
          "base_uri": "https://localhost:8080/"
        },
        "id": "Ox7raTCQ0T4g",
        "outputId": "79117eac-53e8-46b1-d8ec-627e969dc05f"
      },
      "outputs": [
        {
          "output_type": "stream",
          "name": "stdout",
          "text": [
            "1\n",
            "7\n"
          ]
        }
      ],
      "source": [
        "#pr3,3.3,detect duble spaces\n",
        "space=\"i  sunil how  are you  bro.i  here good  hope you  doing  great\"\n",
        "print(space.find(\"  \"))\n",
        "print(space.count(\"  \"))"
      ]
    },
    {
      "cell_type": "code",
      "execution_count": 65,
      "metadata": {
        "id": "L0Rk3jGh0T_h"
      },
      "outputs": [],
      "source": [
        "#pr3,3.4,replace duble spaces with single"
      ]
    },
    {
      "cell_type": "code",
      "execution_count": 66,
      "metadata": {
        "colab": {
          "base_uri": "https://localhost:8080/"
        },
        "id": "7VOXkwWG0U0Q",
        "outputId": "b1fbec6d-6854-4933-9eca-4f909ba464db"
      },
      "outputs": [
        {
          "output_type": "stream",
          "name": "stdout",
          "text": [
            "i  sunil how  are you  bro.i  here good  hope you  doing  great\n",
            "7\n",
            "i sunil how are you bro.i here good hope you doing great\n",
            "0\n"
          ]
        }
      ],
      "source": [
        "space=\"i  sunil how  are you  bro.i  here good  hope you  doing  great\"\n",
        "print(space)\n",
        "print(space.count(\"  \"))\n",
        "space=space.replace(\"  \",\" \")\n",
        "print(space)\n",
        "print(space.count(\"  \"))"
      ]
    },
    {
      "cell_type": "code",
      "execution_count": 67,
      "metadata": {
        "colab": {
          "base_uri": "https://localhost:8080/"
        },
        "id": "MhXUulUV0U64",
        "outputId": "010b96c8-3151-4bf6-f5bd-77905562a7a5"
      },
      "outputs": [
        {
          "output_type": "stream",
          "name": "stdout",
          "text": [
            "Dear Harry \n",
            " This Pyhon couse is nice\n",
            " Thanks!\n"
          ]
        }
      ],
      "source": [
        "\n",
        "\n",
        "#pr3,3,5,format the follwing letter using escape sequence character\n",
        "letter=\"Dear Harry,This Pyhon couse is nice,Thanks!\"\n",
        "print(\"Dear Harry \\n This Pyhon couse is nice\\n Thanks!\")\n"
      ]
    },
    {
      "cell_type": "markdown",
      "metadata": {
        "id": "eJa_IU_i9OQH"
      },
      "source": [
        "# List and Tuple"
      ]
    },
    {
      "cell_type": "code",
      "execution_count": 68,
      "metadata": {
        "colab": {
          "base_uri": "https://localhost:8080/"
        },
        "id": "z581s1UYy5Ai",
        "outputId": "106acd68-612c-4775-9090-169cb670336c"
      },
      "outputs": [
        {
          "output_type": "execute_result",
          "data": {
            "text/plain": [
              "[1, 24, 56, 4]"
            ]
          },
          "metadata": {},
          "execution_count": 68
        }
      ],
      "source": [
        "#list is ordered\n",
        "a=[1,24,56,4]\n",
        "a"
      ]
    },
    {
      "cell_type": "code",
      "execution_count": 69,
      "metadata": {
        "colab": {
          "base_uri": "https://localhost:8080/"
        },
        "id": "4ZH1i0XS9MbO",
        "outputId": "94a4c11e-9b30-46a0-f63d-f4010e03afed"
      },
      "outputs": [
        {
          "output_type": "stream",
          "name": "stdout",
          "text": [
            "1\n",
            "24\n",
            "56\n",
            "4\n"
          ]
        }
      ],
      "source": [
        "#index start from zero\n",
        "print(a[0])\n",
        "print(a[1])\n",
        "print(a[2])\n",
        "print(a[3])"
      ]
    },
    {
      "cell_type": "code",
      "execution_count": 70,
      "metadata": {
        "colab": {
          "base_uri": "https://localhost:8080/",
          "height": 176
        },
        "id": "IYc4Q3uY9MhP",
        "outputId": "93cb0933-e53e-49a4-a3f3-5663be0329af"
      },
      "outputs": [
        {
          "output_type": "error",
          "ename": "IndexError",
          "evalue": "list index out of range",
          "traceback": [
            "\u001b[0;31m---------------------------------------------------------------------------\u001b[0m",
            "\u001b[0;31mIndexError\u001b[0m                                Traceback (most recent call last)",
            "\u001b[0;32m<ipython-input-70-8f63bedb8ed0>\u001b[0m in \u001b[0;36m<cell line: 1>\u001b[0;34m()\u001b[0m\n\u001b[0;32m----> 1\u001b[0;31m \u001b[0mprint\u001b[0m\u001b[0;34m(\u001b[0m\u001b[0ma\u001b[0m\u001b[0;34m[\u001b[0m\u001b[0;36m5\u001b[0m\u001b[0;34m]\u001b[0m\u001b[0;34m)\u001b[0m\u001b[0;34m\u001b[0m\u001b[0;34m\u001b[0m\u001b[0m\n\u001b[0m",
            "\u001b[0;31mIndexError\u001b[0m: list index out of range"
          ]
        }
      ],
      "source": [
        "print(a[5])"
      ]
    },
    {
      "cell_type": "code",
      "execution_count": 71,
      "metadata": {
        "colab": {
          "base_uri": "https://localhost:8080/"
        },
        "id": "bHM5OBpK9MmB",
        "outputId": "6c628634-0867-417b-aa93-fa093db9d27a"
      },
      "outputs": [
        {
          "output_type": "stream",
          "name": "stdout",
          "text": [
            "4\n",
            "56\n",
            "24\n",
            "1\n"
          ]
        }
      ],
      "source": [
        "print(a[-1])\n",
        "print(a[-2])\n",
        "print(a[-3])\n",
        "print(a[-4])\n"
      ]
    },
    {
      "cell_type": "code",
      "execution_count": 72,
      "metadata": {
        "id": "Z3yFiO4D9NLE"
      },
      "outputs": [],
      "source": [
        "a[0]=56 #list can be changed"
      ]
    },
    {
      "cell_type": "code",
      "execution_count": 73,
      "metadata": {
        "colab": {
          "base_uri": "https://localhost:8080/"
        },
        "id": "miGy_tvP-CZO",
        "outputId": "0693ca8e-8804-449a-d999-547de1c4a839"
      },
      "outputs": [
        {
          "output_type": "execute_result",
          "data": {
            "text/plain": [
              "[56, 24, 56, 4]"
            ]
          },
          "metadata": {},
          "execution_count": 73
        }
      ],
      "source": [
        "a"
      ]
    },
    {
      "cell_type": "code",
      "execution_count": 74,
      "metadata": {
        "colab": {
          "base_uri": "https://localhost:8080/"
        },
        "id": "t-kmhNFf-Cgd",
        "outputId": "afd4b7f2-54af-4066-9449-8d7fca74486a"
      },
      "outputs": [
        {
          "output_type": "stream",
          "name": "stdout",
          "text": [
            "[1, 2, 3, 56, 56.2, 40.6, 'a', 'b', 'c', 'sunil', True, False]\n"
          ]
        }
      ],
      "source": [
        "#we can creat a list with items of diffrent types\n",
        "list=[1,2,3,56,56.2,40.6,\"a\",\"b\",\"c\",\"sunil\",True,False]\n",
        "print(list)"
      ]
    },
    {
      "cell_type": "code",
      "execution_count": 75,
      "metadata": {
        "id": "kapNZ2qH-QzJ"
      },
      "outputs": [],
      "source": [
        "#list can be enclosed by square bracket\n",
        "# list can be modifying\n",
        "# list can store diffrent type of data items\n",
        "#list can be sliced\n",
        "# list is odreded\n",
        "# list can be accesible"
      ]
    },
    {
      "cell_type": "markdown",
      "metadata": {
        "id": "dYosve2IAgeC"
      },
      "source": [
        "## List slicing"
      ]
    },
    {
      "cell_type": "code",
      "execution_count": 76,
      "metadata": {
        "colab": {
          "base_uri": "https://localhost:8080/"
        },
        "id": "maNkwr4A-RC-",
        "outputId": "44d43dfa-d6bd-45ff-a22c-d64d7c5ad0ec"
      },
      "outputs": [
        {
          "output_type": "execute_result",
          "data": {
            "text/plain": [
              "[1, 2, 3, 56, 56.2, 40.6, 'a', 'b', 'c', 'sunil', True, False]"
            ]
          },
          "metadata": {},
          "execution_count": 76
        }
      ],
      "source": [
        "list1=[\"harry\",\"sunil\",\"jasleen\",\"simran\",1,2,3,4]\n",
        "list[:]"
      ]
    },
    {
      "cell_type": "code",
      "execution_count": 77,
      "metadata": {
        "colab": {
          "base_uri": "https://localhost:8080/"
        },
        "id": "FR1Axmc_y5GF",
        "outputId": "1cd5dfaf-4ec8-45fc-9801-3704145706de"
      },
      "outputs": [
        {
          "output_type": "execute_result",
          "data": {
            "text/plain": [
              "[2, 3, 56, 56.2, 40.6, 'a', 'b', 'c', 'sunil', True, False]"
            ]
          },
          "metadata": {},
          "execution_count": 77
        }
      ],
      "source": [
        "list[1:]"
      ]
    },
    {
      "cell_type": "code",
      "execution_count": 78,
      "metadata": {
        "colab": {
          "base_uri": "https://localhost:8080/"
        },
        "id": "QRVgyZKmAIQ6",
        "outputId": "8a5f19c9-d5ac-4b36-95d0-6583adc9cd14"
      },
      "outputs": [
        {
          "output_type": "execute_result",
          "data": {
            "text/plain": [
              "[2, 3, 56, 56.2]"
            ]
          },
          "metadata": {},
          "execution_count": 78
        }
      ],
      "source": [
        "list[1:5]"
      ]
    },
    {
      "cell_type": "code",
      "execution_count": 79,
      "metadata": {
        "colab": {
          "base_uri": "https://localhost:8080/"
        },
        "id": "jQZ4y60yAIXc",
        "outputId": "cd6df1e0-43fe-43f6-fe3a-87ee89dd1382"
      },
      "outputs": [
        {
          "output_type": "execute_result",
          "data": {
            "text/plain": [
              "[1, 2, 3, 56, 56.2]"
            ]
          },
          "metadata": {},
          "execution_count": 79
        }
      ],
      "source": [
        "list[:5]"
      ]
    },
    {
      "cell_type": "code",
      "execution_count": 80,
      "metadata": {
        "colab": {
          "base_uri": "https://localhost:8080/"
        },
        "id": "_Suwt0RPAIez",
        "outputId": "f7f10f21-b7a7-4be4-8727-1bffc7ab6417"
      },
      "outputs": [
        {
          "output_type": "execute_result",
          "data": {
            "text/plain": [
              "['c', 'sunil', True]"
            ]
          },
          "metadata": {},
          "execution_count": 80
        }
      ],
      "source": [
        "list[-4:-1]"
      ]
    },
    {
      "cell_type": "code",
      "execution_count": 82,
      "metadata": {
        "colab": {
          "base_uri": "https://localhost:8080/"
        },
        "id": "buJ1auzIAUov",
        "outputId": "66913d7f-d15b-4d66-a610-45654a558ea3"
      },
      "outputs": [
        {
          "output_type": "execute_result",
          "data": {
            "text/plain": [
              "False"
            ]
          },
          "metadata": {},
          "execution_count": 82
        }
      ],
      "source": [
        "list[-1]"
      ]
    },
    {
      "cell_type": "markdown",
      "metadata": {
        "id": "iY7t9h8GAv-U"
      },
      "source": [
        "# List Methods"
      ]
    },
    {
      "cell_type": "markdown",
      "metadata": {
        "id": "6mZwK-j0A9Yf"
      },
      "source": [
        "# sort\n"
      ]
    },
    {
      "cell_type": "code",
      "execution_count": 83,
      "metadata": {
        "id": "bPhadbFTAUw4"
      },
      "outputs": [],
      "source": [
        "l1=[1,8,7,2,21,15]"
      ]
    },
    {
      "cell_type": "code",
      "execution_count": 84,
      "metadata": {
        "colab": {
          "base_uri": "https://localhost:8080/"
        },
        "id": "MhFNYmoPAoPa",
        "outputId": "ea099302-49c5-458e-9c5d-53a622add780"
      },
      "outputs": [
        {
          "output_type": "stream",
          "name": "stdout",
          "text": [
            "None\n"
          ]
        }
      ],
      "source": [
        "l1_sorted=l1.sort()\n",
        "print(l1_sorted)"
      ]
    },
    {
      "cell_type": "code",
      "execution_count": 85,
      "metadata": {
        "colab": {
          "base_uri": "https://localhost:8080/"
        },
        "id": "vZcD1i8PAoWA",
        "outputId": "ff134547-7882-4b2c-c729-93b1f31e9030"
      },
      "outputs": [
        {
          "output_type": "stream",
          "name": "stdout",
          "text": [
            "None\n"
          ]
        }
      ],
      "source": [
        "print(l1.sort())"
      ]
    },
    {
      "cell_type": "code",
      "execution_count": 86,
      "metadata": {
        "id": "oAbd1rOlAoeL"
      },
      "outputs": [],
      "source": [
        "l1.sort() #original list can be sorted"
      ]
    },
    {
      "cell_type": "code",
      "execution_count": 87,
      "metadata": {
        "colab": {
          "base_uri": "https://localhost:8080/"
        },
        "id": "PDGvl4SuAok3",
        "outputId": "d101e1a7-c9d6-4281-a76d-fa3956439ba6"
      },
      "outputs": [
        {
          "output_type": "execute_result",
          "data": {
            "text/plain": [
              "[1, 2, 7, 8, 15, 21]"
            ]
          },
          "metadata": {},
          "execution_count": 87
        }
      ],
      "source": [
        "l1"
      ]
    },
    {
      "cell_type": "markdown",
      "metadata": {
        "id": "C3czspKACNv3"
      },
      "source": [
        "## reverse"
      ]
    },
    {
      "cell_type": "code",
      "execution_count": 88,
      "metadata": {
        "colab": {
          "base_uri": "https://localhost:8080/"
        },
        "id": "kq17CbuUAozC",
        "outputId": "69906053-5245-4cce-965d-746af63c378b"
      },
      "outputs": [
        {
          "output_type": "stream",
          "name": "stdout",
          "text": [
            "[21, 15, 8, 7, 2, 1]\n"
          ]
        }
      ],
      "source": [
        "#revrese the lsit\n",
        "l1.reverse()\n",
        "print(l1)"
      ]
    },
    {
      "cell_type": "code",
      "execution_count": 89,
      "metadata": {
        "colab": {
          "base_uri": "https://localhost:8080/"
        },
        "id": "qTy9cu45Ao-l",
        "outputId": "efffcc4c-4237-40cd-a890-afb6649d9486"
      },
      "outputs": [
        {
          "output_type": "stream",
          "name": "stdout",
          "text": [
            "None\n"
          ]
        }
      ],
      "source": [
        "print(l1.reverse())"
      ]
    },
    {
      "cell_type": "markdown",
      "metadata": {
        "id": "n_WuD_uCChLF"
      },
      "source": [
        "# Append"
      ]
    },
    {
      "cell_type": "code",
      "execution_count": 90,
      "metadata": {
        "colab": {
          "base_uri": "https://localhost:8080/"
        },
        "id": "MUca37JOApdD",
        "outputId": "f2187446-63b3-406c-a4ab-946c0afe6535"
      },
      "outputs": [
        {
          "output_type": "stream",
          "name": "stdout",
          "text": [
            "[2, 3, 4, 5]\n"
          ]
        }
      ],
      "source": [
        "# it add the elemnt in list at the end\n",
        "l2=[2,3,4,5]\n",
        "print(l2)"
      ]
    },
    {
      "cell_type": "code",
      "execution_count": 91,
      "metadata": {
        "id": "xQs0TI-MAcx9"
      },
      "outputs": [],
      "source": [
        "l2.append(45)\n",
        "l2.append(44)"
      ]
    },
    {
      "cell_type": "code",
      "execution_count": 92,
      "metadata": {
        "colab": {
          "base_uri": "https://localhost:8080/"
        },
        "id": "90pStgaVDcE0",
        "outputId": "c42e103b-54ca-4fc1-defb-cfdd9da9eac8"
      },
      "outputs": [
        {
          "output_type": "stream",
          "name": "stdout",
          "text": [
            "[2, 3, 4, 5, 45, 44]\n"
          ]
        }
      ],
      "source": [
        "\n",
        "print(l2)"
      ]
    },
    {
      "cell_type": "markdown",
      "metadata": {
        "id": "kY4facm8D4Fg"
      },
      "source": [
        "# insert"
      ]
    },
    {
      "cell_type": "code",
      "execution_count": 93,
      "metadata": {
        "id": "tWY-GqhLDcLQ"
      },
      "outputs": [],
      "source": [
        "l3=[2,3,4,5,6,7]"
      ]
    },
    {
      "cell_type": "code",
      "execution_count": 94,
      "metadata": {
        "id": "OPmsG1C0DcRr"
      },
      "outputs": [],
      "source": [
        "l3.insert(2,555) #insert 555 at the ends 2"
      ]
    },
    {
      "cell_type": "code",
      "execution_count": 95,
      "metadata": {
        "colab": {
          "base_uri": "https://localhost:8080/"
        },
        "id": "nZRzKAfKDcW4",
        "outputId": "6d5fd413-b221-496f-d2df-c2b5667e22d1"
      },
      "outputs": [
        {
          "output_type": "execute_result",
          "data": {
            "text/plain": [
              "[2, 3, 555, 4, 5, 6, 7]"
            ]
          },
          "metadata": {},
          "execution_count": 95
        }
      ],
      "source": [
        "l3"
      ]
    },
    {
      "cell_type": "markdown",
      "metadata": {
        "id": "yFQ5gNPzERl6"
      },
      "source": [
        "# POP"
      ]
    },
    {
      "cell_type": "code",
      "execution_count": 96,
      "metadata": {
        "id": "tbZBmj8_Dccg"
      },
      "outputs": [],
      "source": [
        "l4=[2,3,4,5,6,7]"
      ]
    },
    {
      "cell_type": "code",
      "execution_count": 97,
      "metadata": {
        "colab": {
          "base_uri": "https://localhost:8080/"
        },
        "id": "wClPo9bmFgnG",
        "outputId": "55de8a41-3ae1-4994-883f-6c392a30f839"
      },
      "outputs": [
        {
          "output_type": "execute_result",
          "data": {
            "text/plain": [
              "7"
            ]
          },
          "metadata": {},
          "execution_count": 97
        }
      ],
      "source": [
        "l4.pop()# it remove randemely any elemnt"
      ]
    },
    {
      "cell_type": "code",
      "execution_count": 98,
      "metadata": {
        "colab": {
          "base_uri": "https://localhost:8080/",
          "height": 176
        },
        "id": "0hzo-kY9Dcv9",
        "outputId": "a2f3f271-380e-465f-cc3f-0e5fff3b2407"
      },
      "outputs": [
        {
          "output_type": "error",
          "ename": "IndexError",
          "evalue": "pop index out of range",
          "traceback": [
            "\u001b[0;31m---------------------------------------------------------------------------\u001b[0m",
            "\u001b[0;31mIndexError\u001b[0m                                Traceback (most recent call last)",
            "\u001b[0;32m<ipython-input-98-e349f52ee3bf>\u001b[0m in \u001b[0;36m<cell line: 1>\u001b[0;34m()\u001b[0m\n\u001b[0;32m----> 1\u001b[0;31m \u001b[0ml4\u001b[0m\u001b[0;34m.\u001b[0m\u001b[0mpop\u001b[0m\u001b[0;34m(\u001b[0m\u001b[0;36m5\u001b[0m\u001b[0;34m)\u001b[0m\u001b[0;31m#it remove the elemnt at 5th index and return\u001b[0m\u001b[0;34m\u001b[0m\u001b[0;34m\u001b[0m\u001b[0m\n\u001b[0m",
            "\u001b[0;31mIndexError\u001b[0m: pop index out of range"
          ]
        }
      ],
      "source": [
        "l4.pop(5)#it remove the elemnt at 5th index and return"
      ]
    },
    {
      "cell_type": "code",
      "execution_count": 99,
      "metadata": {
        "colab": {
          "base_uri": "https://localhost:8080/"
        },
        "id": "F1WfnXmODc2R",
        "outputId": "bafab304-ade3-43ed-da51-a0fe3d5ad1df"
      },
      "outputs": [
        {
          "output_type": "execute_result",
          "data": {
            "text/plain": [
              "[2, 3, 4, 5, 6]"
            ]
          },
          "metadata": {},
          "execution_count": 99
        }
      ],
      "source": [
        "l4"
      ]
    },
    {
      "cell_type": "markdown",
      "metadata": {
        "id": "8NYR7qlpEt07"
      },
      "source": [
        "# remove"
      ]
    },
    {
      "cell_type": "code",
      "execution_count": 100,
      "metadata": {
        "id": "uoiqq1UgEr81"
      },
      "outputs": [],
      "source": [
        "l5=[1,2,3,4,54,6,7]"
      ]
    },
    {
      "cell_type": "code",
      "execution_count": 101,
      "metadata": {
        "id": "kdmAx1EFEsD5"
      },
      "outputs": [],
      "source": [
        "l5.remove(54) #it reomve 54 the elemnt"
      ]
    },
    {
      "cell_type": "code",
      "execution_count": 102,
      "metadata": {
        "colab": {
          "base_uri": "https://localhost:8080/"
        },
        "id": "_4RYlIQWEsKA",
        "outputId": "acb8af5f-b3e8-4160-a004-084f86ac7e79"
      },
      "outputs": [
        {
          "output_type": "execute_result",
          "data": {
            "text/plain": [
              "[1, 2, 3, 4, 6, 7]"
            ]
          },
          "metadata": {},
          "execution_count": 102
        }
      ],
      "source": [
        "l5"
      ]
    },
    {
      "cell_type": "code",
      "execution_count": 103,
      "metadata": {
        "id": "A9TeSv3TEs1l"
      },
      "outputs": [],
      "source": [
        "#empty list\n",
        "l=[]"
      ]
    },
    {
      "cell_type": "code",
      "execution_count": 104,
      "metadata": {
        "id": "JVr_6scqFyAw",
        "colab": {
          "base_uri": "https://localhost:8080/"
        },
        "outputId": "8a2fb342-3499-4722-b6ba-f72d4f961e8f"
      },
      "outputs": [
        {
          "output_type": "execute_result",
          "data": {
            "text/plain": [
              "['__add__',\n",
              " '__class__',\n",
              " '__class_getitem__',\n",
              " '__contains__',\n",
              " '__delattr__',\n",
              " '__delitem__',\n",
              " '__dir__',\n",
              " '__doc__',\n",
              " '__eq__',\n",
              " '__format__',\n",
              " '__ge__',\n",
              " '__getattribute__',\n",
              " '__getitem__',\n",
              " '__gt__',\n",
              " '__hash__',\n",
              " '__iadd__',\n",
              " '__imul__',\n",
              " '__init__',\n",
              " '__init_subclass__',\n",
              " '__iter__',\n",
              " '__le__',\n",
              " '__len__',\n",
              " '__lt__',\n",
              " '__mul__',\n",
              " '__ne__',\n",
              " '__new__',\n",
              " '__reduce__',\n",
              " '__reduce_ex__',\n",
              " '__repr__',\n",
              " '__reversed__',\n",
              " '__rmul__',\n",
              " '__setattr__',\n",
              " '__setitem__',\n",
              " '__sizeof__',\n",
              " '__str__',\n",
              " '__subclasshook__',\n",
              " 'append',\n",
              " 'clear',\n",
              " 'copy',\n",
              " 'count',\n",
              " 'extend',\n",
              " 'index',\n",
              " 'insert',\n",
              " 'pop',\n",
              " 'remove',\n",
              " 'reverse',\n",
              " 'sort']"
            ]
          },
          "metadata": {},
          "execution_count": 104
        }
      ],
      "source": [
        "dir(list)"
      ]
    },
    {
      "cell_type": "code",
      "execution_count": 105,
      "metadata": {
        "id": "Qd34B1tHFyH2",
        "colab": {
          "base_uri": "https://localhost:8080/"
        },
        "outputId": "47a173a1-447c-43ee-d397-d06bea7a7e2b"
      },
      "outputs": [
        {
          "output_type": "stream",
          "name": "stdout",
          "text": [
            "Help on list object:\n",
            "\n",
            "class list(object)\n",
            " |  list(iterable=(), /)\n",
            " |  \n",
            " |  Built-in mutable sequence.\n",
            " |  \n",
            " |  If no argument is given, the constructor creates a new empty list.\n",
            " |  The argument must be an iterable if specified.\n",
            " |  \n",
            " |  Methods defined here:\n",
            " |  \n",
            " |  __add__(self, value, /)\n",
            " |      Return self+value.\n",
            " |  \n",
            " |  __contains__(self, key, /)\n",
            " |      Return key in self.\n",
            " |  \n",
            " |  __delitem__(self, key, /)\n",
            " |      Delete self[key].\n",
            " |  \n",
            " |  __eq__(self, value, /)\n",
            " |      Return self==value.\n",
            " |  \n",
            " |  __ge__(self, value, /)\n",
            " |      Return self>=value.\n",
            " |  \n",
            " |  __getattribute__(self, name, /)\n",
            " |      Return getattr(self, name).\n",
            " |  \n",
            " |  __getitem__(...)\n",
            " |      x.__getitem__(y) <==> x[y]\n",
            " |  \n",
            " |  __gt__(self, value, /)\n",
            " |      Return self>value.\n",
            " |  \n",
            " |  __iadd__(self, value, /)\n",
            " |      Implement self+=value.\n",
            " |  \n",
            " |  __imul__(self, value, /)\n",
            " |      Implement self*=value.\n",
            " |  \n",
            " |  __init__(self, /, *args, **kwargs)\n",
            " |      Initialize self.  See help(type(self)) for accurate signature.\n",
            " |  \n",
            " |  __iter__(self, /)\n",
            " |      Implement iter(self).\n",
            " |  \n",
            " |  __le__(self, value, /)\n",
            " |      Return self<=value.\n",
            " |  \n",
            " |  __len__(self, /)\n",
            " |      Return len(self).\n",
            " |  \n",
            " |  __lt__(self, value, /)\n",
            " |      Return self<value.\n",
            " |  \n",
            " |  __mul__(self, value, /)\n",
            " |      Return self*value.\n",
            " |  \n",
            " |  __ne__(self, value, /)\n",
            " |      Return self!=value.\n",
            " |  \n",
            " |  __repr__(self, /)\n",
            " |      Return repr(self).\n",
            " |  \n",
            " |  __reversed__(self, /)\n",
            " |      Return a reverse iterator over the list.\n",
            " |  \n",
            " |  __rmul__(self, value, /)\n",
            " |      Return value*self.\n",
            " |  \n",
            " |  __setitem__(self, key, value, /)\n",
            " |      Set self[key] to value.\n",
            " |  \n",
            " |  __sizeof__(self, /)\n",
            " |      Return the size of the list in memory, in bytes.\n",
            " |  \n",
            " |  append(self, object, /)\n",
            " |      Append object to the end of the list.\n",
            " |  \n",
            " |  clear(self, /)\n",
            " |      Remove all items from list.\n",
            " |  \n",
            " |  copy(self, /)\n",
            " |      Return a shallow copy of the list.\n",
            " |  \n",
            " |  count(self, value, /)\n",
            " |      Return number of occurrences of value.\n",
            " |  \n",
            " |  extend(self, iterable, /)\n",
            " |      Extend list by appending elements from the iterable.\n",
            " |  \n",
            " |  index(self, value, start=0, stop=9223372036854775807, /)\n",
            " |      Return first index of value.\n",
            " |      \n",
            " |      Raises ValueError if the value is not present.\n",
            " |  \n",
            " |  insert(self, index, object, /)\n",
            " |      Insert object before index.\n",
            " |  \n",
            " |  pop(self, index=-1, /)\n",
            " |      Remove and return item at index (default last).\n",
            " |      \n",
            " |      Raises IndexError if list is empty or index is out of range.\n",
            " |  \n",
            " |  remove(self, value, /)\n",
            " |      Remove first occurrence of value.\n",
            " |      \n",
            " |      Raises ValueError if the value is not present.\n",
            " |  \n",
            " |  reverse(self, /)\n",
            " |      Reverse *IN PLACE*.\n",
            " |  \n",
            " |  sort(self, /, *, key=None, reverse=False)\n",
            " |      Sort the list in ascending order and return None.\n",
            " |      \n",
            " |      The sort is in-place (i.e. the list itself is modified) and stable (i.e. the\n",
            " |      order of two equal elements is maintained).\n",
            " |      \n",
            " |      If a key function is given, apply it once to each list item and sort them,\n",
            " |      ascending or descending, according to their function values.\n",
            " |      \n",
            " |      The reverse flag can be set to sort in descending order.\n",
            " |  \n",
            " |  ----------------------------------------------------------------------\n",
            " |  Class methods defined here:\n",
            " |  \n",
            " |  __class_getitem__(...) from builtins.type\n",
            " |      See PEP 585\n",
            " |  \n",
            " |  ----------------------------------------------------------------------\n",
            " |  Static methods defined here:\n",
            " |  \n",
            " |  __new__(*args, **kwargs) from builtins.type\n",
            " |      Create and return a new object.  See help(type) for accurate signature.\n",
            " |  \n",
            " |  ----------------------------------------------------------------------\n",
            " |  Data and other attributes defined here:\n",
            " |  \n",
            " |  __hash__ = None\n",
            "\n"
          ]
        }
      ],
      "source": [
        "help(list)"
      ]
    },
    {
      "cell_type": "code",
      "execution_count": 105,
      "metadata": {
        "id": "bLj3q4IWFywk"
      },
      "outputs": [],
      "source": []
    },
    {
      "cell_type": "markdown",
      "metadata": {
        "id": "6Y8_Z0HoGcuP"
      },
      "source": [
        "# **Tuple**"
      ]
    },
    {
      "cell_type": "code",
      "execution_count": 106,
      "metadata": {
        "colab": {
          "base_uri": "https://localhost:8080/"
        },
        "id": "WsdEd8LQGauq",
        "outputId": "de1f3979-9c55-46a0-dd36-6306b90a3c3a"
      },
      "outputs": [
        {
          "output_type": "stream",
          "name": "stdout",
          "text": [
            "(1, 2, 3, 4, 'a', 'b', 'sunil', True, False)\n"
          ]
        }
      ],
      "source": [
        "#creating a tuple using ()\n",
        "t1=(1,2,3,4,\"a\",\"b\",\"sunil\",True,False)\n",
        "print(t1)"
      ]
    },
    {
      "cell_type": "code",
      "execution_count": 107,
      "metadata": {
        "colab": {
          "base_uri": "https://localhost:8080/"
        },
        "id": "Rp_ZuIcUGa7D",
        "outputId": "cb802881-9871-4c3d-891a-d5c80f5035ca"
      },
      "outputs": [
        {
          "output_type": "stream",
          "name": "stdout",
          "text": [
            "1\n",
            "2\n",
            "3\n",
            "4\n",
            "a\n",
            "b\n"
          ]
        }
      ],
      "source": [
        "#printing the element of the tuple\n",
        "print(t1[0])\n",
        "print(t1[1])\n",
        "print(t1[2])\n",
        "print(t1[3])\n",
        "print(t1[4])\n",
        "print(t1[5])"
      ]
    },
    {
      "cell_type": "code",
      "execution_count": 108,
      "metadata": {
        "colab": {
          "base_uri": "https://localhost:8080/"
        },
        "id": "ceMUTUIfGbDd",
        "outputId": "eb4cb689-ae08-491f-c62b-5163d5731c71"
      },
      "outputs": [
        {
          "output_type": "stream",
          "name": "stdout",
          "text": [
            "False\n",
            "True\n",
            "sunil\n",
            "b\n",
            "a\n"
          ]
        }
      ],
      "source": [
        "#NEGTIVE INDEXIN\n",
        "print(t1[-1])\n",
        "print(t1[-2])\n",
        "print(t1[-3])\n",
        "print(t1[-4])\n",
        "print(t1[-5])"
      ]
    },
    {
      "cell_type": "code",
      "execution_count": 109,
      "metadata": {
        "colab": {
          "base_uri": "https://localhost:8080/",
          "height": 193
        },
        "id": "JYSalUOkGbsM",
        "outputId": "1c2ef10d-4e39-4264-bd67-5bbda8e729c8"
      },
      "outputs": [
        {
          "output_type": "error",
          "ename": "TypeError",
          "evalue": "'tuple' object does not support item assignment",
          "traceback": [
            "\u001b[0;31m---------------------------------------------------------------------------\u001b[0m",
            "\u001b[0;31mTypeError\u001b[0m                                 Traceback (most recent call last)",
            "\u001b[0;32m<ipython-input-109-78355079de09>\u001b[0m in \u001b[0;36m<cell line: 2>\u001b[0;34m()\u001b[0m\n\u001b[1;32m      1\u001b[0m \u001b[0;31m#CANNOT UPDATE THE VALUE OF TUPLE\u001b[0m\u001b[0;34m\u001b[0m\u001b[0;34m\u001b[0m\u001b[0m\n\u001b[0;32m----> 2\u001b[0;31m \u001b[0mt1\u001b[0m\u001b[0;34m[\u001b[0m\u001b[0;36m0\u001b[0m\u001b[0;34m]\u001b[0m\u001b[0;34m=\u001b[0m\u001b[0;36m32\u001b[0m\u001b[0;34m\u001b[0m\u001b[0;34m\u001b[0m\u001b[0m\n\u001b[0m",
            "\u001b[0;31mTypeError\u001b[0m: 'tuple' object does not support item assignment"
          ]
        }
      ],
      "source": [
        "#CANNOT UPDATE THE VALUE OF TUPLE\n",
        "t1[0]=32"
      ]
    },
    {
      "cell_type": "code",
      "execution_count": 110,
      "metadata": {
        "id": "cT7tzZ1WJZ2U"
      },
      "outputs": [],
      "source": [
        "#empty tuple\n",
        "a=()"
      ]
    },
    {
      "cell_type": "code",
      "execution_count": 111,
      "metadata": {
        "colab": {
          "base_uri": "https://localhost:8080/"
        },
        "id": "ODGYYGO7JZ9P",
        "outputId": "808a554a-a4db-4d57-a7f6-0225709b613d"
      },
      "outputs": [
        {
          "output_type": "execute_result",
          "data": {
            "text/plain": [
              "tuple"
            ]
          },
          "metadata": {},
          "execution_count": 111
        }
      ],
      "source": [
        "type(a)"
      ]
    },
    {
      "cell_type": "code",
      "execution_count": 112,
      "metadata": {
        "id": "pwDRyIndJaag"
      },
      "outputs": [],
      "source": [
        "#tuple with single element\n",
        "a=(1,)\n",
        "b=(a,)"
      ]
    },
    {
      "cell_type": "code",
      "execution_count": 113,
      "metadata": {
        "colab": {
          "base_uri": "https://localhost:8080/"
        },
        "id": "bCpGXGnPJanM",
        "outputId": "a0c9eb0d-e502-418f-a2ab-8421b1089024"
      },
      "outputs": [
        {
          "output_type": "execute_result",
          "data": {
            "text/plain": [
              "tuple"
            ]
          },
          "metadata": {},
          "execution_count": 113
        }
      ],
      "source": [
        "type(a)"
      ]
    },
    {
      "cell_type": "code",
      "execution_count": 114,
      "metadata": {
        "colab": {
          "base_uri": "https://localhost:8080/"
        },
        "id": "P4cQ3cadJas5",
        "outputId": "f2af3681-c7ed-44cb-e7fe-cd69ffde3066"
      },
      "outputs": [
        {
          "output_type": "execute_result",
          "data": {
            "text/plain": [
              "tuple"
            ]
          },
          "metadata": {},
          "execution_count": 114
        }
      ],
      "source": [
        "type(b)"
      ]
    },
    {
      "cell_type": "code",
      "execution_count": 115,
      "metadata": {
        "id": "L_Uq8dU_ZCiM"
      },
      "outputs": [],
      "source": [
        "#wrong to declare tuple\n",
        "c=(1)"
      ]
    },
    {
      "cell_type": "code",
      "execution_count": 116,
      "metadata": {
        "colab": {
          "base_uri": "https://localhost:8080/"
        },
        "id": "rzf0TMn3ZDpi",
        "outputId": "e4a5b26c-a869-4b96-825f-2151b97ccce2"
      },
      "outputs": [
        {
          "output_type": "execute_result",
          "data": {
            "text/plain": [
              "int"
            ]
          },
          "metadata": {},
          "execution_count": 116
        }
      ],
      "source": [
        "type(c)"
      ]
    },
    {
      "cell_type": "code",
      "execution_count": 117,
      "metadata": {
        "id": "4M20AHFFZDvC"
      },
      "outputs": [],
      "source": [
        "#tuple with more than one element\n",
        "a=(1,7,2)"
      ]
    },
    {
      "cell_type": "code",
      "execution_count": 118,
      "metadata": {
        "colab": {
          "base_uri": "https://localhost:8080/"
        },
        "id": "OgW_S0inZD1n",
        "outputId": "94505bbb-ed12-4875-89e5-1e3ea51830dd"
      },
      "outputs": [
        {
          "output_type": "execute_result",
          "data": {
            "text/plain": [
              "tuple"
            ]
          },
          "metadata": {},
          "execution_count": 118
        }
      ],
      "source": [
        "type(a)"
      ]
    },
    {
      "cell_type": "markdown",
      "metadata": {
        "id": "2wbbNHb3aYvL"
      },
      "source": [
        "# Tuple methods"
      ]
    },
    {
      "cell_type": "code",
      "execution_count": 119,
      "metadata": {
        "id": "-RYn_IjRZCnT"
      },
      "outputs": [],
      "source": [
        "a=(1,7,1,6,5,2,5)"
      ]
    },
    {
      "cell_type": "code",
      "execution_count": 120,
      "metadata": {
        "colab": {
          "base_uri": "https://localhost:8080/"
        },
        "id": "wrofiIgjZCuQ",
        "outputId": "040fa938-6bee-4a7d-a67d-c51ec07a06d1"
      },
      "outputs": [
        {
          "output_type": "stream",
          "name": "stdout",
          "text": [
            "2\n"
          ]
        }
      ],
      "source": [
        "#count\n",
        "print(a.count(1)) # it count the 1\n"
      ]
    },
    {
      "cell_type": "code",
      "execution_count": 121,
      "metadata": {
        "colab": {
          "base_uri": "https://localhost:8080/"
        },
        "id": "m1XASi-gZC1C",
        "outputId": "01cbf45e-7e32-47ff-f6c6-479cbdcae9cd"
      },
      "outputs": [
        {
          "output_type": "stream",
          "name": "stdout",
          "text": [
            "4\n"
          ]
        }
      ],
      "source": [
        "#index\n",
        "print(a.index(5))#it give the index of 5 at first accurance"
      ]
    },
    {
      "cell_type": "code",
      "execution_count": 122,
      "metadata": {
        "colab": {
          "base_uri": "https://localhost:8080/"
        },
        "id": "lSVt9PYZaxxg",
        "outputId": "1a80f665-f799-4a67-ad09-f1d343910b2e"
      },
      "outputs": [
        {
          "output_type": "execute_result",
          "data": {
            "text/plain": [
              "['__add__',\n",
              " '__class__',\n",
              " '__class_getitem__',\n",
              " '__contains__',\n",
              " '__delattr__',\n",
              " '__dir__',\n",
              " '__doc__',\n",
              " '__eq__',\n",
              " '__format__',\n",
              " '__ge__',\n",
              " '__getattribute__',\n",
              " '__getitem__',\n",
              " '__getnewargs__',\n",
              " '__gt__',\n",
              " '__hash__',\n",
              " '__init__',\n",
              " '__init_subclass__',\n",
              " '__iter__',\n",
              " '__le__',\n",
              " '__len__',\n",
              " '__lt__',\n",
              " '__mul__',\n",
              " '__ne__',\n",
              " '__new__',\n",
              " '__reduce__',\n",
              " '__reduce_ex__',\n",
              " '__repr__',\n",
              " '__rmul__',\n",
              " '__setattr__',\n",
              " '__sizeof__',\n",
              " '__str__',\n",
              " '__subclasshook__',\n",
              " 'count',\n",
              " 'index']"
            ]
          },
          "metadata": {},
          "execution_count": 122
        }
      ],
      "source": [
        "dir(tuple)"
      ]
    },
    {
      "cell_type": "code",
      "execution_count": 123,
      "metadata": {
        "id": "JXMEVOcYax2s",
        "colab": {
          "base_uri": "https://localhost:8080/"
        },
        "outputId": "82c45141-ad23-4858-9c46-5cec7da2c418"
      },
      "outputs": [
        {
          "output_type": "stream",
          "name": "stdout",
          "text": [
            "Help on class tuple in module builtins:\n",
            "\n",
            "class tuple(object)\n",
            " |  tuple(iterable=(), /)\n",
            " |  \n",
            " |  Built-in immutable sequence.\n",
            " |  \n",
            " |  If no argument is given, the constructor returns an empty tuple.\n",
            " |  If iterable is specified the tuple is initialized from iterable's items.\n",
            " |  \n",
            " |  If the argument is a tuple, the return value is the same object.\n",
            " |  \n",
            " |  Built-in subclasses:\n",
            " |      asyncgen_hooks\n",
            " |      UnraisableHookArgs\n",
            " |  \n",
            " |  Methods defined here:\n",
            " |  \n",
            " |  __add__(self, value, /)\n",
            " |      Return self+value.\n",
            " |  \n",
            " |  __contains__(self, key, /)\n",
            " |      Return key in self.\n",
            " |  \n",
            " |  __eq__(self, value, /)\n",
            " |      Return self==value.\n",
            " |  \n",
            " |  __ge__(self, value, /)\n",
            " |      Return self>=value.\n",
            " |  \n",
            " |  __getattribute__(self, name, /)\n",
            " |      Return getattr(self, name).\n",
            " |  \n",
            " |  __getitem__(self, key, /)\n",
            " |      Return self[key].\n",
            " |  \n",
            " |  __getnewargs__(self, /)\n",
            " |  \n",
            " |  __gt__(self, value, /)\n",
            " |      Return self>value.\n",
            " |  \n",
            " |  __hash__(self, /)\n",
            " |      Return hash(self).\n",
            " |  \n",
            " |  __iter__(self, /)\n",
            " |      Implement iter(self).\n",
            " |  \n",
            " |  __le__(self, value, /)\n",
            " |      Return self<=value.\n",
            " |  \n",
            " |  __len__(self, /)\n",
            " |      Return len(self).\n",
            " |  \n",
            " |  __lt__(self, value, /)\n",
            " |      Return self<value.\n",
            " |  \n",
            " |  __mul__(self, value, /)\n",
            " |      Return self*value.\n",
            " |  \n",
            " |  __ne__(self, value, /)\n",
            " |      Return self!=value.\n",
            " |  \n",
            " |  __repr__(self, /)\n",
            " |      Return repr(self).\n",
            " |  \n",
            " |  __rmul__(self, value, /)\n",
            " |      Return value*self.\n",
            " |  \n",
            " |  count(self, value, /)\n",
            " |      Return number of occurrences of value.\n",
            " |  \n",
            " |  index(self, value, start=0, stop=9223372036854775807, /)\n",
            " |      Return first index of value.\n",
            " |      \n",
            " |      Raises ValueError if the value is not present.\n",
            " |  \n",
            " |  ----------------------------------------------------------------------\n",
            " |  Class methods defined here:\n",
            " |  \n",
            " |  __class_getitem__(...) from builtins.type\n",
            " |      See PEP 585\n",
            " |  \n",
            " |  ----------------------------------------------------------------------\n",
            " |  Static methods defined here:\n",
            " |  \n",
            " |  __new__(*args, **kwargs) from builtins.type\n",
            " |      Create and return a new object.  See help(type) for accurate signature.\n",
            "\n"
          ]
        }
      ],
      "source": [
        "help(tuple)"
      ]
    },
    {
      "cell_type": "markdown",
      "metadata": {
        "id": "GK4eNfpacXX2"
      },
      "source": [
        "# **practic set 4 **"
      ]
    },
    {
      "cell_type": "code",
      "execution_count": 124,
      "metadata": {
        "id": "W2mTUYz2ax8p"
      },
      "outputs": [],
      "source": [
        "#pr4,4.1,enter 7 friut creat a list from the user"
      ]
    },
    {
      "cell_type": "code",
      "execution_count": 125,
      "metadata": {
        "colab": {
          "base_uri": "https://localhost:8080/",
          "height": 228
        },
        "id": "olUbUyVlcVt0",
        "outputId": "e8c3a232-80c1-415c-b2e0-6439c7ef23e8"
      },
      "outputs": [
        {
          "name": "stdout",
          "output_type": "stream",
          "text": [
            "enter the friut name : \n"
          ]
        },
        {
          "output_type": "error",
          "ename": "ValueError",
          "evalue": "not enough values to unpack (expected 7, got 0)",
          "traceback": [
            "\u001b[0;31m---------------------------------------------------------------------------\u001b[0m",
            "\u001b[0;31mValueError\u001b[0m                                Traceback (most recent call last)",
            "\u001b[0;32m<ipython-input-125-d5f11db71a66>\u001b[0m in \u001b[0;36m<cell line: 1>\u001b[0;34m()\u001b[0m\n\u001b[0;32m----> 1\u001b[0;31m \u001b[0mf1\u001b[0m\u001b[0;34m,\u001b[0m\u001b[0mf2\u001b[0m\u001b[0;34m,\u001b[0m\u001b[0mf3\u001b[0m\u001b[0;34m,\u001b[0m\u001b[0mf4\u001b[0m\u001b[0;34m,\u001b[0m\u001b[0mf5\u001b[0m\u001b[0;34m,\u001b[0m\u001b[0mf6\u001b[0m\u001b[0;34m,\u001b[0m\u001b[0mf7\u001b[0m\u001b[0;34m=\u001b[0m\u001b[0minput\u001b[0m\u001b[0;34m(\u001b[0m\u001b[0;34m\"enter the friut name : \"\u001b[0m\u001b[0;34m)\u001b[0m\u001b[0;34m.\u001b[0m\u001b[0msplit\u001b[0m\u001b[0;34m(\u001b[0m\u001b[0;34m)\u001b[0m\u001b[0;34m\u001b[0m\u001b[0;34m\u001b[0m\u001b[0m\n\u001b[0m\u001b[1;32m      2\u001b[0m \u001b[0mmyfriutlist\u001b[0m\u001b[0;34m=\u001b[0m\u001b[0;34m[\u001b[0m\u001b[0mf1\u001b[0m\u001b[0;34m,\u001b[0m\u001b[0mf2\u001b[0m\u001b[0;34m,\u001b[0m\u001b[0mf3\u001b[0m\u001b[0;34m,\u001b[0m\u001b[0mf4\u001b[0m\u001b[0;34m,\u001b[0m\u001b[0mf5\u001b[0m\u001b[0;34m,\u001b[0m\u001b[0mf6\u001b[0m\u001b[0;34m,\u001b[0m\u001b[0mf7\u001b[0m\u001b[0;34m]\u001b[0m\u001b[0;34m\u001b[0m\u001b[0;34m\u001b[0m\u001b[0m\n\u001b[1;32m      3\u001b[0m \u001b[0mprint\u001b[0m\u001b[0;34m(\u001b[0m\u001b[0mmyfriutlist\u001b[0m\u001b[0;34m)\u001b[0m\u001b[0;34m\u001b[0m\u001b[0;34m\u001b[0m\u001b[0m\n",
            "\u001b[0;31mValueError\u001b[0m: not enough values to unpack (expected 7, got 0)"
          ]
        }
      ],
      "source": [
        "f1,f2,f3,f4,f5,f6,f7=input(\"enter the friut name : \").split()\n",
        "myfriutlist=[f1,f2,f3,f4,f5,f6,f7]\n",
        "print(myfriutlist)"
      ]
    },
    {
      "cell_type": "code",
      "execution_count": null,
      "metadata": {
        "id": "HovzR1eBcV4Y"
      },
      "outputs": [],
      "source": [
        "\n",
        "#pr4,4.2,enter 6 studetn marks and display\n",
        "s1,s2,s3,s4,s5,s6=input(\"enter the marks of student : \").split()\n",
        "s1,s2,s3,s4,s5,s6=int(s1),int(s2),int(s3),int(s4),int(s5),int(s6)\n",
        "L1=[s1,s2,s3,s4,s5,s6]\n",
        "L1.sort()\n",
        "print(L1)"
      ]
    },
    {
      "cell_type": "code",
      "execution_count": null,
      "metadata": {
        "id": "PWCRT8xRcV-P"
      },
      "outputs": [],
      "source": [
        "#pr4,4.3 ,check that tuple cannot be changed\n",
        "a=(12,45,23,53,42)\n",
        "print(a[3])\n",
        "a[3]=20\n",
        "print(a)"
      ]
    },
    {
      "cell_type": "code",
      "execution_count": 126,
      "metadata": {
        "colab": {
          "base_uri": "https://localhost:8080/"
        },
        "id": "yD3x-lGWi2GJ",
        "outputId": "df6802fd-6e32-4c4a-da14-9875920a8b9b"
      },
      "outputs": [
        {
          "output_type": "stream",
          "name": "stdout",
          "text": [
            "45\n"
          ]
        }
      ],
      "source": [
        "#pr4,4.4,sum of list value\n",
        "a=[1,2,3,4,5,6,7,8,9]\n",
        "print(a[0]+a[1]+a[2]+a[3]+a[4]+a[5]+a[6]+a[7]+a[8])"
      ]
    },
    {
      "cell_type": "code",
      "execution_count": 127,
      "metadata": {
        "colab": {
          "base_uri": "https://localhost:8080/"
        },
        "id": "0ciXNO3AkNmL",
        "outputId": "8c59960c-ede2-4b02-e183-fdec28253dce"
      },
      "outputs": [
        {
          "output_type": "execute_result",
          "data": {
            "text/plain": [
              "45"
            ]
          },
          "metadata": {},
          "execution_count": 127
        }
      ],
      "source": [
        "sum(a)"
      ]
    },
    {
      "cell_type": "code",
      "execution_count": 128,
      "metadata": {
        "colab": {
          "base_uri": "https://localhost:8080/"
        },
        "id": "28pjWt7GjW-b",
        "outputId": "2e1e2d8a-9e54-4501-9e5d-9ea698fea1be"
      },
      "outputs": [
        {
          "output_type": "stream",
          "name": "stdout",
          "text": [
            "3\n"
          ]
        }
      ],
      "source": [
        "#pr4,4.5,count zeros in tuple\n",
        "a=(7,0,8,0,0,9)\n",
        "print(a.count(0))\n",
        "\n"
      ]
    },
    {
      "cell_type": "markdown",
      "metadata": {
        "id": "92g54IselhOz"
      },
      "source": [
        "# **Dictionary and Set**"
      ]
    },
    {
      "cell_type": "code",
      "execution_count": 129,
      "metadata": {
        "id": "8XBC9Pk3jXEa"
      },
      "outputs": [],
      "source": [
        "#collection key value pair"
      ]
    },
    {
      "cell_type": "code",
      "execution_count": 130,
      "metadata": {
        "id": "xKVkb6VnlooP"
      },
      "outputs": [],
      "source": [
        "myDict={\"Fast\":\"i am c faster\",\n",
        "        \"Akshay\":\"coder\",\n",
        "        \"marks\":[1,2,4],\n",
        "        \"anotherdict\":{\"sun\":\"Akshay\",\"num\":[1,2,3]}}"
      ]
    },
    {
      "cell_type": "code",
      "execution_count": 131,
      "metadata": {
        "colab": {
          "base_uri": "https://localhost:8080/"
        },
        "id": "iXozTn5elbu2",
        "outputId": "a80dc67f-a37f-404d-f4cc-a4dda984b88e"
      },
      "outputs": [
        {
          "output_type": "stream",
          "name": "stdout",
          "text": [
            "i am c faster\n"
          ]
        }
      ],
      "source": [
        "print(myDict[\"Fast\"])"
      ]
    },
    {
      "cell_type": "code",
      "execution_count": 132,
      "metadata": {
        "colab": {
          "base_uri": "https://localhost:8080/"
        },
        "id": "GL_Nn8T5lb1x",
        "outputId": "4a382ea8-0c47-4f37-c356-d75ea42a2257"
      },
      "outputs": [
        {
          "output_type": "stream",
          "name": "stdout",
          "text": [
            "coder\n"
          ]
        }
      ],
      "source": [
        "print(myDict[\"Akshay\"])"
      ]
    },
    {
      "cell_type": "code",
      "execution_count": 133,
      "metadata": {
        "colab": {
          "base_uri": "https://localhost:8080/"
        },
        "id": "LWF5zz08lb90",
        "outputId": "e0c3e2d9-3ff0-4f2f-922e-4abc032e0e8c"
      },
      "outputs": [
        {
          "output_type": "stream",
          "name": "stdout",
          "text": [
            "[1, 2, 4]\n"
          ]
        }
      ],
      "source": [
        "print(myDict[\"marks\"])"
      ]
    },
    {
      "cell_type": "code",
      "execution_count": 134,
      "metadata": {
        "colab": {
          "base_uri": "https://localhost:8080/"
        },
        "id": "nwedZbM6lcDR",
        "outputId": "846dfb5f-c781-4633-ec36-2a5e4b0e377c"
      },
      "outputs": [
        {
          "output_type": "stream",
          "name": "stdout",
          "text": [
            "{'sun': 'Akshay', 'num': [1, 2, 3]}\n"
          ]
        }
      ],
      "source": [
        "print(myDict[\"anotherdict\"])"
      ]
    },
    {
      "cell_type": "code",
      "execution_count": 135,
      "metadata": {
        "colab": {
          "base_uri": "https://localhost:8080/"
        },
        "id": "oP-7n64ElcJi",
        "outputId": "3194f14b-e2a9-4b93-ba06-a040c4b19874"
      },
      "outputs": [
        {
          "output_type": "stream",
          "name": "stdout",
          "text": [
            "Akshay\n"
          ]
        }
      ],
      "source": [
        "print(myDict[\"anotherdict\"][\"sun\"])"
      ]
    },
    {
      "cell_type": "code",
      "execution_count": 136,
      "metadata": {
        "colab": {
          "base_uri": "https://localhost:8080/"
        },
        "id": "dqai5jwslcPP",
        "outputId": "cc91134b-b7ab-463f-94b6-668da77483b1"
      },
      "outputs": [
        {
          "output_type": "stream",
          "name": "stdout",
          "text": [
            "[1, 2, 3]\n"
          ]
        }
      ],
      "source": [
        "print(myDict[\"anotherdict\"][\"num\"])"
      ]
    },
    {
      "cell_type": "code",
      "execution_count": 137,
      "metadata": {
        "id": "EudVK-3-lcWb"
      },
      "outputs": [],
      "source": [
        "#properties of dictionaries\n",
        "# it is unordered\n",
        "#it is indexed\n",
        "#it is mutable\n",
        "#can not contain dublicate key"
      ]
    },
    {
      "cell_type": "code",
      "execution_count": 138,
      "metadata": {
        "id": "K7ndayoXlcbi"
      },
      "outputs": [],
      "source": [
        "myDict[\"marks\"]=[44,55,88] # it changeable"
      ]
    },
    {
      "cell_type": "code",
      "execution_count": 139,
      "metadata": {
        "colab": {
          "base_uri": "https://localhost:8080/"
        },
        "id": "uV4emDJxCtpZ",
        "outputId": "a1b3452d-00d1-4ee9-cfd6-ef6e4391e629"
      },
      "outputs": [
        {
          "output_type": "execute_result",
          "data": {
            "text/plain": [
              "{'Fast': 'i am c faster',\n",
              " 'Akshay': 'coder',\n",
              " 'marks': [44, 55, 88],\n",
              " 'anotherdict': {'sun': 'Akshay', 'num': [1, 2, 3]}}"
            ]
          },
          "metadata": {},
          "execution_count": 139
        }
      ],
      "source": [
        "myDict"
      ]
    },
    {
      "cell_type": "markdown",
      "metadata": {
        "id": "ui6xKkYmD5M8"
      },
      "source": [
        "# Dictionary Methods"
      ]
    },
    {
      "cell_type": "code",
      "execution_count": 140,
      "metadata": {
        "id": "imWbBerpCtzD"
      },
      "outputs": [],
      "source": [
        "\n",
        "myDict={'Fast': 'i am c faster',\n",
        " 'Akshay': 'coder',\n",
        " 'marks': [44, 55, 88],\n",
        " 'anotherdict': {'sun': 'Akshay', 'num': [1, 2, 3]}}"
      ]
    },
    {
      "cell_type": "code",
      "execution_count": 141,
      "metadata": {
        "colab": {
          "base_uri": "https://localhost:8080/"
        },
        "id": "uiXTx3FDD4Ur",
        "outputId": "fd247a4e-1a37-454d-ad86-d2adae0c0d4e"
      },
      "outputs": [
        {
          "output_type": "stream",
          "name": "stdout",
          "text": [
            "dict_keys(['Fast', 'Akshay', 'marks', 'anotherdict'])\n"
          ]
        }
      ],
      "source": [
        "#1.keys()\n",
        "print(myDict.keys())"
      ]
    },
    {
      "cell_type": "code",
      "execution_count": 142,
      "metadata": {
        "colab": {
          "base_uri": "https://localhost:8080/"
        },
        "id": "swzJa0PRCt7X",
        "outputId": "29a25452-ac1c-490f-fc93-21be7d0d449e"
      },
      "outputs": [
        {
          "output_type": "stream",
          "name": "stdout",
          "text": [
            "<class 'dict'>\n"
          ]
        }
      ],
      "source": [
        "print(type(myDict))"
      ]
    },
    {
      "cell_type": "code",
      "execution_count": 143,
      "metadata": {
        "colab": {
          "base_uri": "https://localhost:8080/",
          "height": 193
        },
        "id": "HDBwIlfYCuGD",
        "outputId": "5b2fb2b0-33b9-4138-86a3-6821578b7a5d"
      },
      "outputs": [
        {
          "output_type": "error",
          "ename": "TypeError",
          "evalue": "'list' object is not callable",
          "traceback": [
            "\u001b[0;31m---------------------------------------------------------------------------\u001b[0m",
            "\u001b[0;31mTypeError\u001b[0m                                 Traceback (most recent call last)",
            "\u001b[0;32m<ipython-input-143-374aa9ca800e>\u001b[0m in \u001b[0;36m<cell line: 1>\u001b[0;34m()\u001b[0m\n\u001b[0;32m----> 1\u001b[0;31m \u001b[0mprint\u001b[0m\u001b[0;34m(\u001b[0m\u001b[0mlist\u001b[0m\u001b[0;34m(\u001b[0m\u001b[0mmyDict\u001b[0m\u001b[0;34m.\u001b[0m\u001b[0mkeys\u001b[0m\u001b[0;34m(\u001b[0m\u001b[0;34m)\u001b[0m\u001b[0;34m)\u001b[0m\u001b[0;34m)\u001b[0m\u001b[0;34m\u001b[0m\u001b[0;34m\u001b[0m\u001b[0m\n\u001b[0m\u001b[1;32m      2\u001b[0m \u001b[0mprint\u001b[0m\u001b[0;34m(\u001b[0m\u001b[0mtype\u001b[0m\u001b[0;34m(\u001b[0m\u001b[0mmyDict\u001b[0m\u001b[0;34m)\u001b[0m\u001b[0;34m)\u001b[0m\u001b[0;34m\u001b[0m\u001b[0;34m\u001b[0m\u001b[0m\n",
            "\u001b[0;31mTypeError\u001b[0m: 'list' object is not callable"
          ]
        }
      ],
      "source": [
        "\n",
        "print(list(myDict.keys()))\n",
        "print(type(myDict))\n"
      ]
    },
    {
      "cell_type": "code",
      "execution_count": 144,
      "metadata": {
        "colab": {
          "base_uri": "https://localhost:8080/"
        },
        "id": "btmieMR2CuO2",
        "outputId": "6414067e-ba5b-4b33-f18c-c202d80faf72"
      },
      "outputs": [
        {
          "output_type": "stream",
          "name": "stdout",
          "text": [
            "dict_values(['i am c faster', 'coder', [44, 55, 88], {'sun': 'Akshay', 'num': [1, 2, 3]}])\n"
          ]
        }
      ],
      "source": [
        "#2.values()\n",
        "print(myDict.values())"
      ]
    },
    {
      "cell_type": "code",
      "execution_count": 145,
      "metadata": {
        "colab": {
          "base_uri": "https://localhost:8080/"
        },
        "id": "QoGzk98CCuYX",
        "outputId": "21e4b39b-aaad-4a98-95a7-bab0ce825a93"
      },
      "outputs": [
        {
          "output_type": "stream",
          "name": "stdout",
          "text": [
            "dict_items([('Fast', 'i am c faster'), ('Akshay', 'coder'), ('marks', [44, 55, 88]), ('anotherdict', {'sun': 'Akshay', 'num': [1, 2, 3]})])\n"
          ]
        }
      ],
      "source": [
        "#3.items()#kind of list ,,print the keys,values for all content\n",
        "print(myDict.items())"
      ]
    },
    {
      "cell_type": "code",
      "execution_count": 146,
      "metadata": {
        "colab": {
          "base_uri": "https://localhost:8080/"
        },
        "id": "UaFI62vUlclI",
        "outputId": "afce92d4-5238-41b5-af7d-1141debf8fa0"
      },
      "outputs": [
        {
          "output_type": "execute_result",
          "data": {
            "text/plain": [
              "{'Fast': 'i am c faster',\n",
              " 'Akshay': 'coder',\n",
              " 'marks': [44, 55, 88],\n",
              " 'anotherdict': {'sun': 'Akshay', 'num': [1, 2, 3]}}"
            ]
          },
          "metadata": {},
          "execution_count": 146
        }
      ],
      "source": [
        "#4.Update() it date new key pair in the dictinary\n",
        "myDict"
      ]
    },
    {
      "cell_type": "code",
      "execution_count": 147,
      "metadata": {
        "id": "d_jGKjfulc_D"
      },
      "outputs": [],
      "source": [
        "updatedict={\"navjot\":\"jasleen\",\"Akshay\":\"decoder\"}"
      ]
    },
    {
      "cell_type": "code",
      "execution_count": 148,
      "metadata": {
        "colab": {
          "base_uri": "https://localhost:8080/"
        },
        "id": "9Na7ydDkldIJ",
        "outputId": "bedece4d-555a-4c87-bd3e-851a6a06ff7f"
      },
      "outputs": [
        {
          "output_type": "stream",
          "name": "stdout",
          "text": [
            "{'Fast': 'i am c faster', 'Akshay': 'decoder', 'marks': [44, 55, 88], 'anotherdict': {'sun': 'Akshay', 'num': [1, 2, 3]}, 'navjot': 'jasleen'}\n"
          ]
        }
      ],
      "source": [
        "myDict.update(updatedict)\n",
        "print(myDict)"
      ]
    },
    {
      "cell_type": "code",
      "execution_count": 149,
      "metadata": {
        "id": "WEtMDvwdldN-"
      },
      "outputs": [],
      "source": [
        "#5. get() # check key is present or not if not return NOne"
      ]
    },
    {
      "cell_type": "code",
      "execution_count": 150,
      "metadata": {
        "colab": {
          "base_uri": "https://localhost:8080/"
        },
        "id": "vULNupiOldVZ",
        "outputId": "93b2c403-ef4a-4f5d-de4a-162daa72db0b"
      },
      "outputs": [
        {
          "output_type": "stream",
          "name": "stdout",
          "text": [
            "decoder\n"
          ]
        }
      ],
      "source": [
        "print(myDict.get(\"Akshay\"))"
      ]
    },
    {
      "cell_type": "code",
      "execution_count": 151,
      "metadata": {
        "colab": {
          "base_uri": "https://localhost:8080/"
        },
        "id": "YNjEzLAblday",
        "outputId": "23539489-11db-48e7-c645-4a98551a1216"
      },
      "outputs": [
        {
          "output_type": "stream",
          "name": "stdout",
          "text": [
            "None\n"
          ]
        }
      ],
      "source": [
        "print(myDict.get(\"Akshay1\"))"
      ]
    },
    {
      "cell_type": "code",
      "execution_count": 152,
      "metadata": {
        "colab": {
          "base_uri": "https://localhost:8080/"
        },
        "id": "X5AMCOJ7ldjP",
        "outputId": "1fb8f17b-d215-407f-a9a5-6b69d5f34664"
      },
      "outputs": [
        {
          "output_type": "stream",
          "name": "stdout",
          "text": [
            "decoder\n"
          ]
        }
      ],
      "source": [
        "print(myDict[\"Akshay\"])"
      ]
    },
    {
      "cell_type": "code",
      "execution_count": 153,
      "metadata": {
        "id": "FJXY4lz_jXLJ",
        "colab": {
          "base_uri": "https://localhost:8080/",
          "height": 176
        },
        "outputId": "2f9be921-e3d7-4b5f-c872-6577b9a8afeb"
      },
      "outputs": [
        {
          "output_type": "error",
          "ename": "KeyError",
          "evalue": "'Akshay1'",
          "traceback": [
            "\u001b[0;31m---------------------------------------------------------------------------\u001b[0m",
            "\u001b[0;31mKeyError\u001b[0m                                  Traceback (most recent call last)",
            "\u001b[0;32m<ipython-input-153-d48883bec05e>\u001b[0m in \u001b[0;36m<cell line: 1>\u001b[0;34m()\u001b[0m\n\u001b[0;32m----> 1\u001b[0;31m \u001b[0mprint\u001b[0m\u001b[0;34m(\u001b[0m\u001b[0mmyDict\u001b[0m\u001b[0;34m[\u001b[0m\u001b[0;34m\"Akshay1\"\u001b[0m\u001b[0;34m]\u001b[0m\u001b[0;34m)\u001b[0m\u001b[0;34m\u001b[0m\u001b[0;34m\u001b[0m\u001b[0m\n\u001b[0m",
            "\u001b[0;31mKeyError\u001b[0m: 'Akshay1'"
          ]
        }
      ],
      "source": [
        "print(myDict[\"Akshay1\"])"
      ]
    },
    {
      "cell_type": "code",
      "execution_count": 154,
      "metadata": {
        "id": "eHjeae7ejXRO",
        "colab": {
          "base_uri": "https://localhost:8080/"
        },
        "outputId": "916ee738-33f2-496b-fb9d-14b18e061248"
      },
      "outputs": [
        {
          "output_type": "execute_result",
          "data": {
            "text/plain": [
              "['__class__',\n",
              " '__class_getitem__',\n",
              " '__contains__',\n",
              " '__delattr__',\n",
              " '__delitem__',\n",
              " '__dir__',\n",
              " '__doc__',\n",
              " '__eq__',\n",
              " '__format__',\n",
              " '__ge__',\n",
              " '__getattribute__',\n",
              " '__getitem__',\n",
              " '__gt__',\n",
              " '__hash__',\n",
              " '__init__',\n",
              " '__init_subclass__',\n",
              " '__ior__',\n",
              " '__iter__',\n",
              " '__le__',\n",
              " '__len__',\n",
              " '__lt__',\n",
              " '__ne__',\n",
              " '__new__',\n",
              " '__or__',\n",
              " '__reduce__',\n",
              " '__reduce_ex__',\n",
              " '__repr__',\n",
              " '__reversed__',\n",
              " '__ror__',\n",
              " '__setattr__',\n",
              " '__setitem__',\n",
              " '__sizeof__',\n",
              " '__str__',\n",
              " '__subclasshook__',\n",
              " 'clear',\n",
              " 'copy',\n",
              " 'fromkeys',\n",
              " 'get',\n",
              " 'items',\n",
              " 'keys',\n",
              " 'pop',\n",
              " 'popitem',\n",
              " 'setdefault',\n",
              " 'update',\n",
              " 'values']"
            ]
          },
          "metadata": {},
          "execution_count": 154
        }
      ],
      "source": [
        "dir(dict)"
      ]
    },
    {
      "cell_type": "code",
      "execution_count": 155,
      "metadata": {
        "id": "p0n_JXqSi2Ut",
        "colab": {
          "base_uri": "https://localhost:8080/"
        },
        "outputId": "86eb8358-602e-4edb-9a1f-c704e0cfd92b"
      },
      "outputs": [
        {
          "output_type": "stream",
          "name": "stdout",
          "text": [
            "Help on class dict in module builtins:\n",
            "\n",
            "class dict(object)\n",
            " |  dict() -> new empty dictionary\n",
            " |  dict(mapping) -> new dictionary initialized from a mapping object's\n",
            " |      (key, value) pairs\n",
            " |  dict(iterable) -> new dictionary initialized as if via:\n",
            " |      d = {}\n",
            " |      for k, v in iterable:\n",
            " |          d[k] = v\n",
            " |  dict(**kwargs) -> new dictionary initialized with the name=value pairs\n",
            " |      in the keyword argument list.  For example:  dict(one=1, two=2)\n",
            " |  \n",
            " |  Built-in subclasses:\n",
            " |      StgDict\n",
            " |  \n",
            " |  Methods defined here:\n",
            " |  \n",
            " |  __contains__(self, key, /)\n",
            " |      True if the dictionary has the specified key, else False.\n",
            " |  \n",
            " |  __delitem__(self, key, /)\n",
            " |      Delete self[key].\n",
            " |  \n",
            " |  __eq__(self, value, /)\n",
            " |      Return self==value.\n",
            " |  \n",
            " |  __ge__(self, value, /)\n",
            " |      Return self>=value.\n",
            " |  \n",
            " |  __getattribute__(self, name, /)\n",
            " |      Return getattr(self, name).\n",
            " |  \n",
            " |  __getitem__(...)\n",
            " |      x.__getitem__(y) <==> x[y]\n",
            " |  \n",
            " |  __gt__(self, value, /)\n",
            " |      Return self>value.\n",
            " |  \n",
            " |  __init__(self, /, *args, **kwargs)\n",
            " |      Initialize self.  See help(type(self)) for accurate signature.\n",
            " |  \n",
            " |  __ior__(self, value, /)\n",
            " |      Return self|=value.\n",
            " |  \n",
            " |  __iter__(self, /)\n",
            " |      Implement iter(self).\n",
            " |  \n",
            " |  __le__(self, value, /)\n",
            " |      Return self<=value.\n",
            " |  \n",
            " |  __len__(self, /)\n",
            " |      Return len(self).\n",
            " |  \n",
            " |  __lt__(self, value, /)\n",
            " |      Return self<value.\n",
            " |  \n",
            " |  __ne__(self, value, /)\n",
            " |      Return self!=value.\n",
            " |  \n",
            " |  __or__(self, value, /)\n",
            " |      Return self|value.\n",
            " |  \n",
            " |  __repr__(self, /)\n",
            " |      Return repr(self).\n",
            " |  \n",
            " |  __reversed__(self, /)\n",
            " |      Return a reverse iterator over the dict keys.\n",
            " |  \n",
            " |  __ror__(self, value, /)\n",
            " |      Return value|self.\n",
            " |  \n",
            " |  __setitem__(self, key, value, /)\n",
            " |      Set self[key] to value.\n",
            " |  \n",
            " |  __sizeof__(...)\n",
            " |      D.__sizeof__() -> size of D in memory, in bytes\n",
            " |  \n",
            " |  clear(...)\n",
            " |      D.clear() -> None.  Remove all items from D.\n",
            " |  \n",
            " |  copy(...)\n",
            " |      D.copy() -> a shallow copy of D\n",
            " |  \n",
            " |  get(self, key, default=None, /)\n",
            " |      Return the value for key if key is in the dictionary, else default.\n",
            " |  \n",
            " |  items(...)\n",
            " |      D.items() -> a set-like object providing a view on D's items\n",
            " |  \n",
            " |  keys(...)\n",
            " |      D.keys() -> a set-like object providing a view on D's keys\n",
            " |  \n",
            " |  pop(...)\n",
            " |      D.pop(k[,d]) -> v, remove specified key and return the corresponding value.\n",
            " |      \n",
            " |      If the key is not found, return the default if given; otherwise,\n",
            " |      raise a KeyError.\n",
            " |  \n",
            " |  popitem(self, /)\n",
            " |      Remove and return a (key, value) pair as a 2-tuple.\n",
            " |      \n",
            " |      Pairs are returned in LIFO (last-in, first-out) order.\n",
            " |      Raises KeyError if the dict is empty.\n",
            " |  \n",
            " |  setdefault(self, key, default=None, /)\n",
            " |      Insert key with a value of default if key is not in the dictionary.\n",
            " |      \n",
            " |      Return the value for key if key is in the dictionary, else default.\n",
            " |  \n",
            " |  update(...)\n",
            " |      D.update([E, ]**F) -> None.  Update D from dict/iterable E and F.\n",
            " |      If E is present and has a .keys() method, then does:  for k in E: D[k] = E[k]\n",
            " |      If E is present and lacks a .keys() method, then does:  for k, v in E: D[k] = v\n",
            " |      In either case, this is followed by: for k in F:  D[k] = F[k]\n",
            " |  \n",
            " |  values(...)\n",
            " |      D.values() -> an object providing a view on D's values\n",
            " |  \n",
            " |  ----------------------------------------------------------------------\n",
            " |  Class methods defined here:\n",
            " |  \n",
            " |  __class_getitem__(...) from builtins.type\n",
            " |      See PEP 585\n",
            " |  \n",
            " |  fromkeys(iterable, value=None, /) from builtins.type\n",
            " |      Create a new dictionary with keys from iterable and values set to value.\n",
            " |  \n",
            " |  ----------------------------------------------------------------------\n",
            " |  Static methods defined here:\n",
            " |  \n",
            " |  __new__(*args, **kwargs) from builtins.type\n",
            " |      Create and return a new object.  See help(type) for accurate signature.\n",
            " |  \n",
            " |  ----------------------------------------------------------------------\n",
            " |  Data and other attributes defined here:\n",
            " |  \n",
            " |  __hash__ = None\n",
            "\n"
          ]
        }
      ],
      "source": [
        "help(dict)"
      ]
    },
    {
      "cell_type": "code",
      "execution_count": 155,
      "metadata": {
        "id": "0dfoGaHsG0AD"
      },
      "outputs": [],
      "source": []
    },
    {
      "cell_type": "markdown",
      "metadata": {
        "id": "ooHSqnrAIVby"
      },
      "source": [
        "# **SETS**"
      ]
    },
    {
      "cell_type": "code",
      "execution_count": 156,
      "metadata": {
        "colab": {
          "base_uri": "https://localhost:8080/"
        },
        "id": "XisAUT7PG0Lg",
        "outputId": "a62157cd-9fc1-4ce6-90ac-852e0bc15229"
      },
      "outputs": [
        {
          "output_type": "execute_result",
          "data": {
            "text/plain": [
              "{1, 2, 3, 4, 5}"
            ]
          },
          "metadata": {},
          "execution_count": 156
        }
      ],
      "source": [
        "a={1,2,3,4,5} #did not consist reptative items\n",
        "a"
      ]
    },
    {
      "cell_type": "code",
      "execution_count": 157,
      "metadata": {
        "colab": {
          "base_uri": "https://localhost:8080/"
        },
        "id": "xTQ45hoxG0Qm",
        "outputId": "8637e0d1-28c9-458a-8e05-16e663c6b70a"
      },
      "outputs": [
        {
          "output_type": "stream",
          "name": "stdout",
          "text": [
            "<class 'set'>\n"
          ]
        }
      ],
      "source": [
        "print(type(a))"
      ]
    },
    {
      "cell_type": "code",
      "execution_count": 158,
      "metadata": {
        "colab": {
          "base_uri": "https://localhost:8080/"
        },
        "id": "2IZaF-0lG0WD",
        "outputId": "7745acf9-0199-464a-872a-e7264b561d5b"
      },
      "outputs": [
        {
          "output_type": "execute_result",
          "data": {
            "text/plain": [
              "{1, 2, 3, 4, 5}"
            ]
          },
          "metadata": {},
          "execution_count": 158
        }
      ],
      "source": [
        "a={1,2,3,4,5,1,5,5,1}\n",
        "a"
      ]
    },
    {
      "cell_type": "code",
      "execution_count": 159,
      "metadata": {
        "colab": {
          "base_uri": "https://localhost:8080/"
        },
        "id": "RBmMOKyVG0dQ",
        "outputId": "123a8891-9f69-46fe-9092-133db5711772"
      },
      "outputs": [
        {
          "output_type": "stream",
          "name": "stdout",
          "text": [
            "<class 'dict'>\n"
          ]
        }
      ],
      "source": [
        "#empty set\n",
        "a={} # it is empty dict\n",
        "print(type(a))"
      ]
    },
    {
      "cell_type": "code",
      "execution_count": 160,
      "metadata": {
        "colab": {
          "base_uri": "https://localhost:8080/"
        },
        "id": "Ztg4DqBuG0iV",
        "outputId": "1964d408-cbec-4dbd-87ee-9e7b0b1f85c8"
      },
      "outputs": [
        {
          "output_type": "stream",
          "name": "stdout",
          "text": [
            "<class 'set'>\n"
          ]
        }
      ],
      "source": [
        "a=set()\n",
        "print(type(a))"
      ]
    },
    {
      "cell_type": "code",
      "execution_count": 161,
      "metadata": {
        "id": "fYshlEtSG0nd"
      },
      "outputs": [],
      "source": [
        "# adding value in empty set\n",
        "b=set()\n",
        "b.add(4)\n",
        "b.add(5)\n",
        "b.add(4)"
      ]
    },
    {
      "cell_type": "code",
      "execution_count": 162,
      "metadata": {
        "colab": {
          "base_uri": "https://localhost:8080/"
        },
        "id": "EfWpXUg4G0s2",
        "outputId": "62b1792a-da00-4eff-d0fb-4bdb73f56a81"
      },
      "outputs": [
        {
          "output_type": "execute_result",
          "data": {
            "text/plain": [
              "{4, 5}"
            ]
          },
          "metadata": {},
          "execution_count": 162
        }
      ],
      "source": [
        "\n",
        "b"
      ]
    },
    {
      "cell_type": "code",
      "execution_count": 163,
      "metadata": {
        "id": "6mR81Mf4G0yM"
      },
      "outputs": [],
      "source": [
        "#perporties of set\n",
        "#set are unordered\n",
        "#sets are indexed\n",
        "#there is no way to change iems in the sets\n",
        "#set can not contain duplicate values"
      ]
    },
    {
      "cell_type": "code",
      "execution_count": 164,
      "metadata": {
        "id": "oKQ6qWM1JmS-"
      },
      "outputs": [],
      "source": [
        "\n",
        "#we can add dict and list into the set"
      ]
    },
    {
      "cell_type": "markdown",
      "metadata": {
        "id": "AirsMuzsKvDR"
      },
      "source": [
        "# **Set Methods**"
      ]
    },
    {
      "cell_type": "code",
      "execution_count": 165,
      "metadata": {
        "colab": {
          "base_uri": "https://localhost:8080/"
        },
        "id": "KMjT3p2wJmZ1",
        "outputId": "c357e247-e06f-4a21-9cab-d8b9fdc2c827"
      },
      "outputs": [
        {
          "output_type": "stream",
          "name": "stdout",
          "text": [
            "4\n"
          ]
        }
      ],
      "source": [
        "\n",
        "#1. len() return lentg of set\n",
        "a={1,2,343,54543}\n",
        "print(len(a))"
      ]
    },
    {
      "cell_type": "code",
      "execution_count": 166,
      "metadata": {
        "colab": {
          "base_uri": "https://localhost:8080/"
        },
        "id": "ubzePg_pJmg8",
        "outputId": "b26d04b2-1be4-4feb-e126-88876d432d21"
      },
      "outputs": [
        {
          "output_type": "stream",
          "name": "stdout",
          "text": [
            "None\n",
            "{1, 343, 54543}\n"
          ]
        }
      ],
      "source": [
        "\n",
        "#2. remove , it remove the element\n",
        "print(a.remove(2))\n",
        "print(a)"
      ]
    },
    {
      "cell_type": "code",
      "execution_count": 167,
      "metadata": {
        "colab": {
          "base_uri": "https://localhost:8080/"
        },
        "id": "OyzjJxXjJmnu",
        "outputId": "9689d054-f46d-44c3-9b60-cb6fcd393cd5"
      },
      "outputs": [
        {
          "output_type": "stream",
          "name": "stdout",
          "text": [
            "1\n",
            "{343, 54543}\n"
          ]
        }
      ],
      "source": [
        "\n",
        "#3,pop()\n",
        "print(a.pop())\n",
        "print(a)"
      ]
    },
    {
      "cell_type": "code",
      "execution_count": 168,
      "metadata": {
        "colab": {
          "base_uri": "https://localhost:8080/"
        },
        "id": "hbu_LzpfJm3a",
        "outputId": "81217cd8-5e68-4707-c63a-531fc0f251a4"
      },
      "outputs": [
        {
          "output_type": "stream",
          "name": "stdout",
          "text": [
            "None\n"
          ]
        }
      ],
      "source": [
        "\n",
        "#4,clear\n",
        "print(a.clear())"
      ]
    },
    {
      "cell_type": "code",
      "execution_count": 169,
      "metadata": {
        "id": "RyltLhFoJnBL"
      },
      "outputs": [],
      "source": [
        "#pr5,5.1"
      ]
    },
    {
      "cell_type": "code",
      "execution_count": 170,
      "metadata": {
        "id": "S91u63BbOJN6"
      },
      "outputs": [],
      "source": [
        "\n",
        "\n",
        "myDict={\"panka\":\"fan\",\"dabba\":\"box\",\"vastu\":\"item\"}"
      ]
    },
    {
      "cell_type": "code",
      "execution_count": 171,
      "metadata": {
        "colab": {
          "base_uri": "https://localhost:8080/"
        },
        "id": "aXwRxlMfQYGy",
        "outputId": "559841a4-d75b-43f1-a65c-5a53fcd2c61d"
      },
      "outputs": [
        {
          "output_type": "stream",
          "name": "stdout",
          "text": [
            "the options are \n",
            "  dict_keys(['panka', 'dabba', 'vastu'])\n"
          ]
        }
      ],
      "source": [
        "\n",
        "\n",
        "\n",
        "\n",
        "print(\"the options are \\n \",myDict.keys())"
      ]
    },
    {
      "cell_type": "code",
      "execution_count": 172,
      "metadata": {
        "colab": {
          "base_uri": "https://localhost:8080/"
        },
        "id": "F4l3whqWOJUr",
        "outputId": "6a52c5db-c228-43a7-ff39-a8bc7563c996"
      },
      "outputs": [
        {
          "name": "stdout",
          "output_type": "stream",
          "text": [
            "enter the hindi word \n",
            " \n"
          ]
        }
      ],
      "source": [
        "a=input(\"enter the hindi word \\n \")"
      ]
    },
    {
      "cell_type": "code",
      "execution_count": 173,
      "metadata": {
        "colab": {
          "base_uri": "https://localhost:8080/",
          "height": 176
        },
        "id": "e86PHUSrOJh4",
        "outputId": "2daf5757-a2d8-40dd-e6fd-6e8ef4b438e9"
      },
      "outputs": [
        {
          "output_type": "error",
          "ename": "KeyError",
          "evalue": "''",
          "traceback": [
            "\u001b[0;31m---------------------------------------------------------------------------\u001b[0m",
            "\u001b[0;31mKeyError\u001b[0m                                  Traceback (most recent call last)",
            "\u001b[0;32m<ipython-input-173-deee97ba375e>\u001b[0m in \u001b[0;36m<cell line: 1>\u001b[0;34m()\u001b[0m\n\u001b[0;32m----> 1\u001b[0;31m \u001b[0mprint\u001b[0m\u001b[0;34m(\u001b[0m\u001b[0;34m\"your word english meaning is :\"\u001b[0m\u001b[0;34m,\u001b[0m\u001b[0mmyDict\u001b[0m\u001b[0;34m[\u001b[0m\u001b[0ma\u001b[0m\u001b[0;34m]\u001b[0m\u001b[0;34m)\u001b[0m\u001b[0;34m\u001b[0m\u001b[0;34m\u001b[0m\u001b[0m\n\u001b[0m",
            "\u001b[0;31mKeyError\u001b[0m: ''"
          ]
        }
      ],
      "source": [
        "print(\"your word english meaning is :\",myDict[a])"
      ]
    },
    {
      "cell_type": "code",
      "execution_count": null,
      "metadata": {
        "id": "QjWcwnbJOJny"
      },
      "outputs": [],
      "source": [
        "\n",
        "print(\"your word english meaning is :\",myDict.get(a))"
      ]
    },
    {
      "cell_type": "code",
      "execution_count": null,
      "metadata": {
        "id": "HWjNbEXXOJun"
      },
      "outputs": [],
      "source": [
        "#pr5,5.2"
      ]
    },
    {
      "cell_type": "code",
      "execution_count": null,
      "metadata": {
        "id": "O9OUjcZbOJz_"
      },
      "outputs": [],
      "source": [
        "a,b,c,d,e,x,y,z=input(\"enter the number \\n \").split()\n",
        "a,b,c,d,e,x,y,z=int(a),int(b),int(c),int(d),int(e),int(x),int(y),int(z)\n",
        "A={a,b,c,d,e,x,y,z}\n",
        "print(A)\n"
      ]
    },
    {
      "cell_type": "code",
      "execution_count": 174,
      "metadata": {
        "id": "OTSeyfPfOJ5P"
      },
      "outputs": [],
      "source": [
        "#pr5,5.3"
      ]
    },
    {
      "cell_type": "code",
      "execution_count": 175,
      "metadata": {
        "colab": {
          "base_uri": "https://localhost:8080/"
        },
        "id": "Twd6arjOOJ_w",
        "outputId": "29787eb5-3629-4e9f-ddcb-e4d100a9f54a"
      },
      "outputs": [
        {
          "output_type": "stream",
          "name": "stdout",
          "text": [
            "3\n",
            "{18, 18.1, '18'}\n"
          ]
        }
      ],
      "source": [
        "a={18,\"18\",18,18.0,18.1}\n",
        "print(len(a))\n",
        "print(a)"
      ]
    },
    {
      "cell_type": "code",
      "execution_count": 176,
      "metadata": {
        "id": "AIKShzuhT19d"
      },
      "outputs": [],
      "source": [
        "\n",
        "\n",
        "\n",
        "#pr5,5.4"
      ]
    },
    {
      "cell_type": "code",
      "execution_count": 177,
      "metadata": {
        "colab": {
          "base_uri": "https://localhost:8080/"
        },
        "id": "Pc1hI9BuOKGC",
        "outputId": "a5d5cd4b-545f-4090-d17a-d93f6abb3750"
      },
      "outputs": [
        {
          "output_type": "stream",
          "name": "stdout",
          "text": [
            "2\n"
          ]
        }
      ],
      "source": [
        "\n",
        "S=set()\n",
        "S.add(20)\n",
        "S.add(20.0)\n",
        "S.add(\"20\")\n",
        "print(len(S))"
      ]
    },
    {
      "cell_type": "code",
      "execution_count": 178,
      "metadata": {
        "id": "djeqNTXIOKLx"
      },
      "outputs": [],
      "source": [
        "\n",
        "\n",
        "\n",
        "#pr5,5.4"
      ]
    },
    {
      "cell_type": "code",
      "execution_count": 179,
      "metadata": {
        "colab": {
          "base_uri": "https://localhost:8080/"
        },
        "id": "KTmjLlPlOKRm",
        "outputId": "f61e1735-04ee-4f81-bb0b-228342c26c44"
      },
      "outputs": [
        {
          "output_type": "execute_result",
          "data": {
            "text/plain": [
              "dict"
            ]
          },
          "metadata": {},
          "execution_count": 179
        }
      ],
      "source": [
        "s={}\n",
        "type(s)"
      ]
    },
    {
      "cell_type": "code",
      "execution_count": 180,
      "metadata": {
        "id": "9gxC5FtCOKW7"
      },
      "outputs": [],
      "source": [
        "#pr5,5.5"
      ]
    },
    {
      "cell_type": "code",
      "execution_count": 181,
      "metadata": {
        "id": "3ENrUy25OKeA"
      },
      "outputs": [],
      "source": [
        "s={}"
      ]
    },
    {
      "cell_type": "code",
      "execution_count": 182,
      "metadata": {
        "id": "yFLQZ9WCOKjv"
      },
      "outputs": [],
      "source": [
        "\n",
        "\n",
        "#pr5,5.6"
      ]
    },
    {
      "cell_type": "code",
      "execution_count": 183,
      "metadata": {
        "colab": {
          "base_uri": "https://localhost:8080/",
          "height": 228
        },
        "id": "xIu7WhsbOKpB",
        "outputId": "36ff8074-9ec8-4092-c37d-c8d01d7daf3f"
      },
      "outputs": [
        {
          "name": "stdout",
          "output_type": "stream",
          "text": [
            "enter your langauage \n",
            " \n"
          ]
        },
        {
          "output_type": "error",
          "ename": "ValueError",
          "evalue": "not enough values to unpack (expected 4, got 0)",
          "traceback": [
            "\u001b[0;31m---------------------------------------------------------------------------\u001b[0m",
            "\u001b[0;31mValueError\u001b[0m                                Traceback (most recent call last)",
            "\u001b[0;32m<ipython-input-183-b125f26fbf3b>\u001b[0m in \u001b[0;36m<cell line: 2>\u001b[0;34m()\u001b[0m\n\u001b[1;32m      1\u001b[0m \u001b[0mfavlang\u001b[0m\u001b[0;34m=\u001b[0m\u001b[0;34m{\u001b[0m\u001b[0;34m}\u001b[0m\u001b[0;34m\u001b[0m\u001b[0;34m\u001b[0m\u001b[0m\n\u001b[0;32m----> 2\u001b[0;31m \u001b[0ma\u001b[0m\u001b[0;34m,\u001b[0m\u001b[0mb\u001b[0m\u001b[0;34m,\u001b[0m\u001b[0mc\u001b[0m\u001b[0;34m,\u001b[0m\u001b[0md\u001b[0m\u001b[0;34m=\u001b[0m\u001b[0minput\u001b[0m\u001b[0;34m(\u001b[0m\u001b[0;34m\"enter your langauage \\n \"\u001b[0m\u001b[0;34m)\u001b[0m\u001b[0;34m.\u001b[0m\u001b[0msplit\u001b[0m\u001b[0;34m(\u001b[0m\u001b[0;34m)\u001b[0m\u001b[0;34m\u001b[0m\u001b[0;34m\u001b[0m\u001b[0m\n\u001b[0m",
            "\u001b[0;31mValueError\u001b[0m: not enough values to unpack (expected 4, got 0)"
          ]
        }
      ],
      "source": [
        "favlang={}\n",
        "a,b,c,d=input(\"enter your langauage \\n \").split()"
      ]
    },
    {
      "cell_type": "code",
      "execution_count": null,
      "metadata": {
        "id": "hnj66t6cXVvL"
      },
      "outputs": [],
      "source": [
        "d1={\"Akshay\":a,\"lavi\":b,\"jasleen\":c,\"raman\":d}"
      ]
    },
    {
      "cell_type": "code",
      "execution_count": null,
      "metadata": {
        "id": "2-MfIIvDOKut"
      },
      "outputs": [],
      "source": [
        "favlang.update(d1)\n",
        "print(favlang)"
      ]
    },
    {
      "cell_type": "code",
      "execution_count": 184,
      "metadata": {
        "id": "ol_Z6bhrOLH-"
      },
      "outputs": [],
      "source": [
        "\n",
        "\n",
        "#pr5,5.7"
      ]
    },
    {
      "cell_type": "code",
      "execution_count": 185,
      "metadata": {
        "colab": {
          "base_uri": "https://localhost:8080/",
          "height": 228
        },
        "id": "FERLgOayOLRq",
        "outputId": "cfc2eba4-fb49-4ddf-a05e-904d1f1bbcc2"
      },
      "outputs": [
        {
          "name": "stdout",
          "output_type": "stream",
          "text": [
            "enter your langauage \n",
            " \n"
          ]
        },
        {
          "output_type": "error",
          "ename": "ValueError",
          "evalue": "not enough values to unpack (expected 4, got 0)",
          "traceback": [
            "\u001b[0;31m---------------------------------------------------------------------------\u001b[0m",
            "\u001b[0;31mValueError\u001b[0m                                Traceback (most recent call last)",
            "\u001b[0;32m<ipython-input-185-b125f26fbf3b>\u001b[0m in \u001b[0;36m<cell line: 2>\u001b[0;34m()\u001b[0m\n\u001b[1;32m      1\u001b[0m \u001b[0mfavlang\u001b[0m\u001b[0;34m=\u001b[0m\u001b[0;34m{\u001b[0m\u001b[0;34m}\u001b[0m\u001b[0;34m\u001b[0m\u001b[0;34m\u001b[0m\u001b[0m\n\u001b[0;32m----> 2\u001b[0;31m \u001b[0ma\u001b[0m\u001b[0;34m,\u001b[0m\u001b[0mb\u001b[0m\u001b[0;34m,\u001b[0m\u001b[0mc\u001b[0m\u001b[0;34m,\u001b[0m\u001b[0md\u001b[0m\u001b[0;34m=\u001b[0m\u001b[0minput\u001b[0m\u001b[0;34m(\u001b[0m\u001b[0;34m\"enter your langauage \\n \"\u001b[0m\u001b[0;34m)\u001b[0m\u001b[0;34m.\u001b[0m\u001b[0msplit\u001b[0m\u001b[0;34m(\u001b[0m\u001b[0;34m)\u001b[0m\u001b[0;34m\u001b[0m\u001b[0;34m\u001b[0m\u001b[0m\n\u001b[0m",
            "\u001b[0;31mValueError\u001b[0m: not enough values to unpack (expected 4, got 0)"
          ]
        }
      ],
      "source": [
        "\n",
        "\n",
        "\n",
        "favlang={}\n",
        "a,b,c,d=input(\"enter your langauage \\n \").split()"
      ]
    },
    {
      "cell_type": "code",
      "execution_count": null,
      "metadata": {
        "id": "xBY0iUvSOLXz"
      },
      "outputs": [],
      "source": [
        "d1={\"harsimrn\":a,\"lavi\":b,\"sunil\":c,\"sunil\":d}"
      ]
    },
    {
      "cell_type": "code",
      "execution_count": null,
      "metadata": {
        "id": "2w6xyAedJnG1"
      },
      "outputs": [],
      "source": [
        "favlang.update(d1)\n",
        "print(favlang)"
      ]
    },
    {
      "cell_type": "code",
      "execution_count": 185,
      "metadata": {
        "id": "a39bH6PCG03R"
      },
      "outputs": [],
      "source": [
        "\n"
      ]
    }
  ],
  "metadata": {
    "colab": {
      "provenance": []
    },
    "kernelspec": {
      "display_name": "Python 3 (ipykernel)",
      "language": "python",
      "name": "python3"
    },
    "language_info": {
      "codemirror_mode": {
        "name": "ipython",
        "version": 3
      },
      "file_extension": ".py",
      "mimetype": "text/x-python",
      "name": "python",
      "nbconvert_exporter": "python",
      "pygments_lexer": "ipython3",
      "version": "3.11.5"
    }
  },
  "nbformat": 4,
  "nbformat_minor": 0
}