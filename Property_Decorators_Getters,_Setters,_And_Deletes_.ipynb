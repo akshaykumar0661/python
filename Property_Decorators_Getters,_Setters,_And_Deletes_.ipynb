{
  "cells": [
    {
      "cell_type": "code",
      "source": [
        "#how can we give aceess to user so that it can change and modifiy the varaible"
      ],
      "metadata": {
        "id": "OzMJOBMr7YCt"
      },
      "id": "OzMJOBMr7YCt",
      "execution_count": null,
      "outputs": []
    },
    {
      "cell_type": "code",
      "source": [
        "class astra :\n",
        "\n",
        "    def __init__(self , course_price , coruse_name):\n",
        "\n",
        "        self.__course_price = course_price\n",
        "        self.course_name = coruse_name\n",
        "\n",
        "\n",
        "    #"
      ],
      "metadata": {
        "id": "nZo9npf47YE-"
      },
      "id": "nZo9npf47YE-",
      "execution_count": null,
      "outputs": []
    },
    {
      "cell_type": "code",
      "source": [
        "pw = astra(3500 , \"data science masters\")"
      ],
      "metadata": {
        "id": "RWG7fC957YHg"
      },
      "id": "RWG7fC957YHg",
      "execution_count": null,
      "outputs": []
    },
    {
      "cell_type": "code",
      "source": [
        "pw.__course_price"
      ],
      "metadata": {
        "colab": {
          "base_uri": "https://localhost:8080/",
          "height": 175
        },
        "id": "9daE6-WDhLE5",
        "outputId": "dad3bba3-5308-4970-ce2b-c4d54595f589"
      },
      "id": "9daE6-WDhLE5",
      "execution_count": null,
      "outputs": [
        {
          "output_type": "error",
          "ename": "AttributeError",
          "evalue": "'astra' object has no attribute '__course_price'",
          "traceback": [
            "\u001b[0;31m---------------------------------------------------------------------------\u001b[0m",
            "\u001b[0;31mAttributeError\u001b[0m                            Traceback (most recent call last)",
            "\u001b[0;32m<ipython-input-22-46dd1efb5218>\u001b[0m in \u001b[0;36m<cell line: 1>\u001b[0;34m()\u001b[0m\n\u001b[0;32m----> 1\u001b[0;31m \u001b[0mpw\u001b[0m\u001b[0;34m.\u001b[0m\u001b[0m__course_price\u001b[0m\u001b[0;34m\u001b[0m\u001b[0;34m\u001b[0m\u001b[0m\n\u001b[0m",
            "\u001b[0;31mAttributeError\u001b[0m: 'astra' object has no attribute '__course_price'"
          ]
        }
      ]
    },
    {
      "cell_type": "code",
      "source": [
        "pw._astra__course_price"
      ],
      "metadata": {
        "colab": {
          "base_uri": "https://localhost:8080/"
        },
        "id": "Z0k2L3yFhXOp",
        "outputId": "f39ea738-acd0-47cb-faed-51df689e4513"
      },
      "id": "Z0k2L3yFhXOp",
      "execution_count": null,
      "outputs": [
        {
          "output_type": "execute_result",
          "data": {
            "text/plain": [
              "3500"
            ]
          },
          "metadata": {},
          "execution_count": 23
        }
      ]
    },
    {
      "cell_type": "code",
      "source": [
        "class astra :\n",
        "\n",
        "    def __init__(self , course_price , coruse_name):\n",
        "\n",
        "        self.__course_price = course_price\n",
        "        self.course_name = coruse_name\n",
        "\n",
        "    @property\n",
        "    def course_price_access(self) :\n",
        "        return self.__course_price"
      ],
      "metadata": {
        "id": "UQrf_0FPg7mt"
      },
      "id": "UQrf_0FPg7mt",
      "execution_count": null,
      "outputs": []
    },
    {
      "cell_type": "code",
      "source": [
        "pw = astra(3500 , \"data science masters\")"
      ],
      "metadata": {
        "id": "BSMATLP0hrSM"
      },
      "id": "BSMATLP0hrSM",
      "execution_count": null,
      "outputs": []
    },
    {
      "cell_type": "code",
      "source": [
        "pw.course_price_access"
      ],
      "metadata": {
        "colab": {
          "base_uri": "https://localhost:8080/"
        },
        "id": "_HJQ99y47YK7",
        "outputId": "4f9f5dc7-5fc3-4211-f41f-40269ee3e289"
      },
      "id": "_HJQ99y47YK7",
      "execution_count": null,
      "outputs": [
        {
          "output_type": "execute_result",
          "data": {
            "text/plain": [
              "3500"
            ]
          },
          "metadata": {},
          "execution_count": 37
        }
      ]
    },
    {
      "cell_type": "code",
      "source": [],
      "metadata": {
        "colab": {
          "base_uri": "https://localhost:8080/"
        },
        "id": "gmnv2ujuW-bW",
        "outputId": "2d5aaf99-797c-43f0-a9aa-04d1db7cc41d"
      },
      "id": "gmnv2ujuW-bW",
      "execution_count": null,
      "outputs": [
        {
          "output_type": "execute_result",
          "data": {
            "text/plain": [
              "<bound method astra.course_price_access of <__main__.astra object at 0x7d8791507340>>"
            ]
          },
          "metadata": {},
          "execution_count": 33
        }
      ]
    },
    {
      "cell_type": "code",
      "source": [
        "class astra :\n",
        "\n",
        "    def __init__(self , course_price , coruse_name):\n",
        "\n",
        "        self.__course_price = course_price\n",
        "        self.course_name = coruse_name\n",
        "\n",
        "    @property\n",
        "    def course_price_access(self) :\n",
        "        return self.__course_price\n",
        "\n",
        "    @course_price_access.setter\n",
        "    def course_price_set(self , price ):\n",
        "        if price <= 3500:\n",
        "            pass\n",
        "        else :\n",
        "            self.__course_price = price"
      ],
      "metadata": {
        "id": "djeIZGWe8p1U"
      },
      "id": "djeIZGWe8p1U",
      "execution_count": null,
      "outputs": []
    },
    {
      "cell_type": "code",
      "source": [
        "pw = astra(3500 , \"data science masters\")"
      ],
      "metadata": {
        "id": "FilB7XIC8_5I"
      },
      "id": "FilB7XIC8_5I",
      "execution_count": null,
      "outputs": []
    },
    {
      "cell_type": "code",
      "source": [
        "pw.course_price_set=4500"
      ],
      "metadata": {
        "id": "s3VMIeN09XM-"
      },
      "id": "s3VMIeN09XM-",
      "execution_count": null,
      "outputs": []
    },
    {
      "cell_type": "code",
      "source": [
        "pw.course_price_access\n"
      ],
      "metadata": {
        "colab": {
          "base_uri": "https://localhost:8080/"
        },
        "id": "aiYdWNCU9c4r",
        "outputId": "c8a0a575-46a7-4764-f298-4a43ca224e13"
      },
      "id": "aiYdWNCU9c4r",
      "execution_count": null,
      "outputs": [
        {
          "output_type": "execute_result",
          "data": {
            "text/plain": [
              "4500"
            ]
          },
          "metadata": {},
          "execution_count": 14
        }
      ]
    },
    {
      "cell_type": "code",
      "source": [
        "class astra :\n",
        "\n",
        "    def __init__(self , course_price , coruse_name):\n",
        "\n",
        "        self.__course_price = course_price\n",
        "        self.course_name = coruse_name\n",
        "\n",
        "    @property\n",
        "    def course_price_access(self) :\n",
        "        return self.__course_price\n",
        "\n",
        "    @course_price_access.setter\n",
        "    def course_price_set(self , price ):\n",
        "        if price <= 3500:\n",
        "            pass\n",
        "        else :\n",
        "            self.__course_price = price\n",
        "\n",
        "    @course_price_access.deleter\n",
        "    def delete_course_price(self) :\n",
        "        del self.__course_price\n",
        "\n"
      ],
      "metadata": {
        "id": "KBb79w-69u76"
      },
      "id": "KBb79w-69u76",
      "execution_count": null,
      "outputs": []
    },
    {
      "cell_type": "code",
      "source": [
        "pw = astra(3500 , \"data science masters\")"
      ],
      "metadata": {
        "id": "NuiruCJV-M2e"
      },
      "id": "NuiruCJV-M2e",
      "execution_count": null,
      "outputs": []
    },
    {
      "cell_type": "code",
      "source": [
        "pw.course_price_access"
      ],
      "metadata": {
        "colab": {
          "base_uri": "https://localhost:8080/"
        },
        "id": "7KLAPYOP-Ssa",
        "outputId": "f904035e-3873-400e-c27b-5f65ccdfcfba"
      },
      "id": "7KLAPYOP-Ssa",
      "execution_count": null,
      "outputs": [
        {
          "output_type": "execute_result",
          "data": {
            "text/plain": [
              "3500"
            ]
          },
          "metadata": {},
          "execution_count": 3
        }
      ]
    },
    {
      "cell_type": "code",
      "source": [
        "del pw.delete_course_price"
      ],
      "metadata": {
        "id": "hblGcFL6-3Td"
      },
      "id": "hblGcFL6-3Td",
      "execution_count": null,
      "outputs": []
    },
    {
      "cell_type": "code",
      "source": [
        "pw.course_price_access"
      ],
      "metadata": {
        "colab": {
          "base_uri": "https://localhost:8080/",
          "height": 297
        },
        "id": "Zaf-QV0e-uZB",
        "outputId": "413c1c1c-4834-415b-edaf-a76bd1868a98"
      },
      "id": "Zaf-QV0e-uZB",
      "execution_count": null,
      "outputs": [
        {
          "output_type": "error",
          "ename": "AttributeError",
          "evalue": "'astra' object has no attribute '_astra__course_price'",
          "traceback": [
            "\u001b[0;31m---------------------------------------------------------------------------\u001b[0m",
            "\u001b[0;31mAttributeError\u001b[0m                            Traceback (most recent call last)",
            "\u001b[0;32m<ipython-input-5-605ce0d9a072>\u001b[0m in \u001b[0;36m<cell line: 1>\u001b[0;34m()\u001b[0m\n\u001b[0;32m----> 1\u001b[0;31m \u001b[0mpw\u001b[0m\u001b[0;34m.\u001b[0m\u001b[0mcourse_price_access\u001b[0m\u001b[0;34m\u001b[0m\u001b[0;34m\u001b[0m\u001b[0m\n\u001b[0m",
            "\u001b[0;32m<ipython-input-1-ce0fe7e8c31f>\u001b[0m in \u001b[0;36mcourse_price_access\u001b[0;34m(self)\u001b[0m\n\u001b[1;32m      8\u001b[0m     \u001b[0;34m@\u001b[0m\u001b[0mproperty\u001b[0m\u001b[0;34m\u001b[0m\u001b[0;34m\u001b[0m\u001b[0m\n\u001b[1;32m      9\u001b[0m     \u001b[0;32mdef\u001b[0m \u001b[0mcourse_price_access\u001b[0m\u001b[0;34m(\u001b[0m\u001b[0mself\u001b[0m\u001b[0;34m)\u001b[0m \u001b[0;34m:\u001b[0m\u001b[0;34m\u001b[0m\u001b[0;34m\u001b[0m\u001b[0m\n\u001b[0;32m---> 10\u001b[0;31m         \u001b[0;32mreturn\u001b[0m \u001b[0mself\u001b[0m\u001b[0;34m.\u001b[0m\u001b[0m__course_price\u001b[0m\u001b[0;34m\u001b[0m\u001b[0;34m\u001b[0m\u001b[0m\n\u001b[0m\u001b[1;32m     11\u001b[0m \u001b[0;34m\u001b[0m\u001b[0m\n\u001b[1;32m     12\u001b[0m     \u001b[0;34m@\u001b[0m\u001b[0mcourse_price_access\u001b[0m\u001b[0;34m.\u001b[0m\u001b[0msetter\u001b[0m\u001b[0;34m\u001b[0m\u001b[0;34m\u001b[0m\u001b[0m\n",
            "\u001b[0;31mAttributeError\u001b[0m: 'astra' object has no attribute '_astra__course_price'"
          ]
        }
      ]
    },
    {
      "cell_type": "code",
      "source": [],
      "metadata": {
        "id": "fEW6x2Sr-yla"
      },
      "id": "fEW6x2Sr-yla",
      "execution_count": null,
      "outputs": []
    }
  ],
  "metadata": {
    "kernelspec": {
      "display_name": "Python 3 (ipykernel)",
      "language": "python",
      "name": "python3"
    },
    "language_info": {
      "codemirror_mode": {
        "name": "ipython",
        "version": 3
      },
      "file_extension": ".py",
      "mimetype": "text/x-python",
      "name": "python",
      "nbconvert_exporter": "python",
      "pygments_lexer": "ipython3",
      "version": "3.10.8"
    },
    "colab": {
      "provenance": []
    }
  },
  "nbformat": 4,
  "nbformat_minor": 5
}